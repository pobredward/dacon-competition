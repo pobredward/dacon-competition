{
 "cells": [
  {
   "cell_type": "code",
   "execution_count": 1,
   "metadata": {},
   "outputs": [],
   "source": [
    "import pandas as pd\n",
    "import os\n",
    "import numpy as np\n",
    "import matplotlib.pyplot as plt"
   ]
  },
  {
   "cell_type": "code",
   "execution_count": 2,
   "metadata": {},
   "outputs": [],
   "source": [
    "train = pd.read_csv(\"../../../card/train.csv\",index_col=0)\n",
    "test = pd.read_csv(\"../../../card/test.csv\",index_col=0)\n",
    "sub  = pd.read_csv('../../../card/sample_submission.csv')"
   ]
  },
  {
   "cell_type": "code",
   "execution_count": 3,
   "metadata": {
    "scrolled": true
   },
   "outputs": [],
   "source": [
    "train.loc[train.DAYS_EMPLOYED >0,'DAYS_EMPLOYED'] =0\n",
    "test.loc[test.DAYS_EMPLOYED >0,'DAYS_EMPLOYED'] =0\n",
    "\n",
    "NumericCol=train.select_dtypes(include=np.number).columns\n",
    "StrCol=train.select_dtypes(include=object).columns\n",
    "\n",
    "from sklearn.ensemble import RandomForestClassifier\n",
    "\n",
    "def checkUniqueObject(train,test):\n",
    "    target_col = train.select_dtypes(include= object).columns\n",
    "    \n",
    "    check =0\n",
    "    for col in target_col:\n",
    "        trainU = train[col].unique()\n",
    "        testU  = test[col].unique()\n",
    "\n",
    "        if set(trainU) != set(testU):\n",
    "            print(col,' have not same Unique values')\n",
    "            check=1\n",
    "            \n",
    "    if check ==0:\n",
    "        print('all columns have Same Unique values')\n",
    "\n",
    "checkUniqueObject(train,test)\n",
    "\n",
    "def LabelEn(train,test):\n",
    "    trainLa = train.copy()\n",
    "    testLa  = test.copy()\n",
    "    \n",
    "    from sklearn.preprocessing import LabelEncoder\n",
    "    target_col = train.select_dtypes(include= object).columns\n",
    "    for col in target_col:\n",
    "        le = LabelEncoder()\n",
    "        le.fit(trainLa[col])\n",
    "        trainLa[col] = le.transform(trainLa[col])\n",
    "        testLa[col] = le.transform(testLa[col])\n",
    "        \n",
    "        \n",
    "    \n",
    "    return trainLa , testLa\n",
    "\n",
    "trainLa , testLa = LabelEn(train,test)\n",
    "\n",
    "x = trainLa.drop('credit',axis=1)\n",
    "y = trainLa['credit']"
   ]
  },
  {
   "cell_type": "code",
   "execution_count": 10,
   "metadata": {},
   "outputs": [],
   "source": [
    "from sklearn.model_selection import train_test_split"
   ]
  },
  {
   "cell_type": "code",
   "execution_count": 11,
   "metadata": {},
   "outputs": [],
   "source": [
    "X_train, X_test, y_train, y_test = train_test_split(x, y, test_size=0.1, random_state=42)"
   ]
  },
  {
   "cell_type": "code",
   "execution_count": 12,
   "metadata": {},
   "outputs": [],
   "source": [
    "rf = RandomForestClassifier(random_state=43)"
   ]
  },
  {
   "cell_type": "code",
   "execution_count": 13,
   "metadata": {},
   "outputs": [
    {
     "data": {
      "text/plain": [
       "RandomForestClassifier(random_state=43)"
      ]
     },
     "execution_count": 13,
     "metadata": {},
     "output_type": "execute_result"
    }
   ],
   "source": [
    "rf.fit(X_train,y_train)"
   ]
  },
  {
   "cell_type": "code",
   "execution_count": 14,
   "metadata": {},
   "outputs": [],
   "source": [
    "from sklearn.metrics import log_loss"
   ]
  },
  {
   "cell_type": "code",
   "execution_count": 15,
   "metadata": {},
   "outputs": [
    {
     "data": {
      "text/plain": [
       "0.9974201226349136"
      ]
     },
     "execution_count": 15,
     "metadata": {},
     "output_type": "execute_result"
    }
   ],
   "source": [
    "clf_probs = rf.predict_proba(X_test)\n",
    "score = log_loss(y_test, clf_probs)\n",
    "\n",
    "score"
   ]
  },
  {
   "cell_type": "code",
   "execution_count": 16,
   "metadata": {},
   "outputs": [],
   "source": [
    "final_Pred = rf.predict_proba(testLa)"
   ]
  },
  {
   "cell_type": "code",
   "execution_count": 17,
   "metadata": {
    "scrolled": true
   },
   "outputs": [],
   "source": [
    "sub  = pd.read_csv('../../../card/sample_submission.csv')\n",
    "sub[['0','1','2']] =final_Pred\n",
    "sub.to_csv(\"submission.csv\",index=0)"
   ]
  },
  {
   "cell_type": "code",
   "execution_count": null,
   "metadata": {},
   "outputs": [],
   "source": []
  },
  {
   "cell_type": "code",
   "execution_count": null,
   "metadata": {},
   "outputs": [],
   "source": []
  },
  {
   "cell_type": "markdown",
   "metadata": {},
   "source": []
  }
 ],
 "metadata": {
  "kernelspec": {
   "display_name": "Python 3",
   "language": "python",
   "name": "python3"
  },
  "language_info": {
   "codemirror_mode": {
    "name": "ipython",
    "version": 3
   },
   "file_extension": ".py",
   "mimetype": "text/x-python",
   "name": "python",
   "nbconvert_exporter": "python",
   "pygments_lexer": "ipython3",
   "version": "3.8.2"
  }
 },
 "nbformat": 4,
 "nbformat_minor": 4
}
