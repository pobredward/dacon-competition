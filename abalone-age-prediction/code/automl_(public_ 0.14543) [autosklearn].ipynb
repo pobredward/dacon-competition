{
 "cells": [
  {
   "cell_type": "code",
   "execution_count": null,
   "metadata": {},
   "outputs": [],
   "source": [
    "conda install -c conda-forge auto-sklearn"
   ]
  },
  {
   "cell_type": "code",
   "execution_count": null,
   "metadata": {},
   "outputs": [],
   "source": [
    "pip install -r requirements.txt"
   ]
  },
  {
   "cell_type": "code",
   "execution_count": 4,
   "metadata": {},
   "outputs": [
    {
     "ename": "ModuleNotFoundError",
     "evalue": "No module named 'autosklearn'",
     "output_type": "error",
     "traceback": [
      "\u001b[1;31m---------------------------------------------------------------------------\u001b[0m",
      "\u001b[1;31mModuleNotFoundError\u001b[0m                       Traceback (most recent call last)",
      "\u001b[1;32m~\\AppData\\Local\\Temp/ipykernel_14504/1183228741.py\u001b[0m in \u001b[0;36m<module>\u001b[1;34m\u001b[0m\n\u001b[0;32m      1\u001b[0m \u001b[1;32mimport\u001b[0m \u001b[0mpandas\u001b[0m \u001b[1;32mas\u001b[0m \u001b[0mpd\u001b[0m\u001b[1;33m\u001b[0m\u001b[1;33m\u001b[0m\u001b[0m\n\u001b[1;32m----> 2\u001b[1;33m \u001b[1;32mimport\u001b[0m \u001b[0mautosklearn\u001b[0m\u001b[1;33m.\u001b[0m\u001b[0mregression\u001b[0m\u001b[1;33m\u001b[0m\u001b[1;33m\u001b[0m\u001b[0m\n\u001b[0m\u001b[0;32m      3\u001b[0m \u001b[1;33m\u001b[0m\u001b[0m\n\u001b[0;32m      4\u001b[0m \u001b[1;32mfrom\u001b[0m \u001b[0mfeature_engine\u001b[0m \u001b[1;32mimport\u001b[0m \u001b[0mtransformation\u001b[0m \u001b[1;32mas\u001b[0m \u001b[0mvt\u001b[0m\u001b[1;33m\u001b[0m\u001b[1;33m\u001b[0m\u001b[0m\n",
      "\u001b[1;31mModuleNotFoundError\u001b[0m: No module named 'autosklearn'"
     ]
    }
   ],
   "source": [
    "import pandas as pd\n",
    "import autosklearn.regression\n",
    "\n",
    "from feature_engine import transformation as vt"
   ]
  },
  {
   "cell_type": "code",
   "execution_count": null,
   "metadata": {},
   "outputs": [],
   "source": [
    "df_train = pd.read_csv(\"../data/train.csv\")\n",
    "df_test = pd.read_csv(\"../data/test.csv\")"
   ]
  },
  {
   "cell_type": "code",
   "execution_count": 12,
   "metadata": {},
   "outputs": [],
   "source": [
    "transformer = vt.YeoJohnsonTransformer(variables=[\"Lenght\", \"Diameter\", \"Height\", \"Whole Weight\", \"Shucked Weight\", \"Viscra Weight\", \"Shell Weight\"])\n",
    "transformer.fit(df_train)\n",
    "df_train = transformer.transform(df_train)"
   ]
  },
  {
   "cell_type": "code",
   "execution_count": 13,
   "metadata": {},
   "outputs": [],
   "source": [
    "df_train = pd.concat([df_train.drop(columns=[\"Gender\"]), pd.get_dummies(df_train[\"Gender\"])], axis=1)"
   ]
  },
  {
   "cell_type": "code",
   "execution_count": 14,
   "metadata": {},
   "outputs": [],
   "source": [
    "X = df_train.drop(columns=[\"id\", \"Target\"]).to_numpy()\n",
    "y = df_train[\"Target\"].to_numpy()"
   ]
  },
  {
   "cell_type": "code",
   "execution_count": 18,
   "metadata": {},
   "outputs": [
    {
     "name": "stdout",
     "output_type": "stream",
     "text": [
      "[WARNING] [2022-03-23 12:27:06,137:Client-AutoML(1):1c59bac4-aa59-11ec-9695-2cf05d84cf26] Time limit for a single run is higher than total time limit. Capping the limit for a single run to the total time given to SMAC (3599.744692)\n",
      "[WARNING] [2022-03-23 12:27:06,137:Client-AutoML(1):1c59bac4-aa59-11ec-9695-2cf05d84cf26] Capping the per_run_time_limit to 1799.0 to have time for a least 2 models in each process.\n"
     ]
    },
    {
     "data": {
      "text/plain": [
       "AutoSklearnRegressor(metric=mean_squared_error, n_jobs=-1,\n",
       "                     per_run_time_limit=8640, resampling_strategy='cv',\n",
       "                     resampling_strategy_arguments={'cv': 10, 'folds': 10})"
      ]
     },
     "execution_count": 18,
     "metadata": {},
     "output_type": "execute_result"
    }
   ],
   "source": [
    "automl = autosklearn.regression.AutoSklearnRegressor(n_jobs=-1, resampling_strategy=\"cv\",\n",
    "                                                    resampling_strategy_arguments={\"cv\": 10, \"folds\": 10}, metric=autosklearn.metrics.mean_squared_error)\n",
    "automl.fit(X, y)                                                    "
   ]
  },
  {
   "cell_type": "code",
   "execution_count": 16,
   "metadata": {},
   "outputs": [],
   "source": [
    "df_test[\"Target\"] = 0\n",
    "df_test = transformer.transform(df_test)\n",
    "df_test = pd.concat([df_test.drop(columns=[\"Gender\"]), pd.get_dummies(df_test[\"Gender\"])], axis=1)\n",
    "X_test = df_test.drop(columns=[\"id\", \"Target\"])\n",
    "y_preds = automl.predict(X_test)"
   ]
  },
  {
   "cell_type": "code",
   "execution_count": 17,
   "metadata": {},
   "outputs": [],
   "source": [
    "df_submission = pd.read_csv(\"../data/sample_submission.csv\")\n",
    "df_submission[\"Target\"] = y_preds\n",
    "df_submission.to_csv(\"../results/V4.csv\", index=False)"
   ]
  }
 ],
 "metadata": {
  "interpreter": {
   "hash": "6d138c40b66fdb5fd68512e0e0e837fa483ece8c5963aacd0634327d2f3ecbf3"
  },
  "kernelspec": {
   "display_name": "Python 3 (ipykernel)",
   "language": "python",
   "name": "python3"
  },
  "language_info": {
   "codemirror_mode": {
    "name": "ipython",
    "version": 3
   },
   "file_extension": ".py",
   "mimetype": "text/x-python",
   "name": "python",
   "nbconvert_exporter": "python",
   "pygments_lexer": "ipython3",
   "version": "3.9.7"
  }
 },
 "nbformat": 4,
 "nbformat_minor": 2
}
