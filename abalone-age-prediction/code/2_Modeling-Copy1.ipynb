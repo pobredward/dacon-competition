{
 "cells": [
  {
   "cell_type": "markdown",
   "id": "038a6c13",
   "metadata": {},
   "source": [
    "Lasso, Ridge, Randomforest, ElasticNet, GradientBoostingRegressor, LGBM(dart), XGB(otherBoosting), AdaBoostRegressor"
   ]
  },
  {
   "cell_type": "markdown",
   "id": "4e3babe3",
   "metadata": {},
   "source": [
    "# 1. Import"
   ]
  },
  {
   "cell_type": "code",
   "execution_count": 1,
   "id": "5d3afc55",
   "metadata": {},
   "outputs": [],
   "source": [
    "# Basic Library\n",
    "import os\n",
    "import pandas as pd\n",
    "import numpy as np\n",
    "import pickle\n",
    "from itertools import permutations, combinations\n",
    "from tqdm.auto import tqdm\n",
    "import warnings\n",
    "warnings.filterwarnings('ignore')\n",
    "\n",
    "# Visualization\n",
    "import matplotlib.pyplot as plt\n",
    "import seaborn as sns\n",
    "\n",
    "# Preprocessing\n",
    "from sklearn.preprocessing import OneHotEncoder, LabelEncoder\n",
    "from sklearn.preprocessing import StandardScaler, MinMaxScaler, MaxAbsScaler, QuantileTransformer\n",
    "\n",
    "# HP Tuning\n",
    "import optuna\n",
    "from optuna import Trial\n",
    "from optuna.samplers import TPESampler\n",
    "from optuna.visualization import plot_contour, plot_optimization_history\n",
    "from optuna.visualization import plot_parallel_coordinate, plot_slice, plot_param_importances\n",
    "\n",
    "# Modeling\n",
    "from sklearn.model_selection import StratifiedKFold\n",
    "from sklearn.metrics import mean_absolute_error\n",
    "from lightgbm import LGBMRegressor\n",
    "import xgboost as xgb"
   ]
  },
  {
   "cell_type": "code",
   "execution_count": 2,
   "id": "ebf83377",
   "metadata": {},
   "outputs": [
    {
     "name": "stdout",
     "output_type": "stream",
     "text": [
      "Directory already existed : ../pickle\n",
      "Directory already existed : ../model\n",
      "Directory already existed : ../submission\n"
     ]
    }
   ],
   "source": [
    "def create_dir(dir):\n",
    "    if not os.path.exists(dir):\n",
    "        os.makedirs(dir)\n",
    "        print(\"Created Directory :\", dir)\n",
    "    else:\n",
    "        print(\"Directory already existed :\", dir)\n",
    "create_dir(\"../pickle\")\n",
    "create_dir(\"../model\")\n",
    "create_dir(\"../submission\")"
   ]
  },
  {
   "cell_type": "code",
   "execution_count": 3,
   "id": "c700011b",
   "metadata": {},
   "outputs": [],
   "source": [
    "train = pd.read_csv(\"../data/train_f1.csv\")\n",
    "test = pd.read_csv(\"../data/test_f1.csv\")\n",
    "submission = pd.read_csv(\"../data/sample_submission.csv\")"
   ]
  },
  {
   "cell_type": "code",
   "execution_count": 4,
   "id": "54b36733",
   "metadata": {},
   "outputs": [],
   "source": [
    "def reduce_mem_usage(data):\n",
    "    numerics = ['int8', 'int16', 'int32', 'int64', 'float32', 'float64']\n",
    "    start_memory = data.memory_usage().sum() / 1024**2    \n",
    "    for col in data.columns:\n",
    "        col_type = data[col].dtypes\n",
    "        if col_type in numerics:\n",
    "            c_min = data[col].min()\n",
    "            c_max = data[col].max()\n",
    "            if str(col_type)[:3] == 'int':\n",
    "                if c_min > np.iinfo(np.int8).min and c_max < np.iinfo(np.int8).max:\n",
    "                    data[col] = data[col].astype(np.int8)\n",
    "                elif c_min > np.iinfo(np.int16).min and c_max < np.iinfo(np.int16).max:\n",
    "                    data[col] = data[col].astype(np.int16)\n",
    "                elif c_min > np.iinfo(np.int32).min and c_max < np.iinfo(np.int32).max:\n",
    "                    data[col] = data[col].astype(np.int32)\n",
    "                elif c_min > np.iinfo(np.int64).min and c_max < np.iinfo(np.int64).max:\n",
    "                    data[col] = data[col].astype(np.int64)  \n",
    "            else:\n",
    "                if c_min > np.finfo(np.float16).min and c_max < np.finfo(np.float16).max:\n",
    "                    data[col] = data[col].astype(np.float16)\n",
    "                elif c_min > np.finfo(np.float32).min and c_max < np.finfo(np.float32).max:\n",
    "                    data[col] = data[col].astype(np.float32)\n",
    "                else:\n",
    "                    data[col] = data[col].astype(np.float64)    \n",
    "    end_memory = data.memory_usage().sum() / 1024**2\n",
    "    print('Memory optimization from {:5.2f}MB to {:5.2f}MB ({:.1f}% reduction)'\n",
    "          .format(start_memory, end_memory, 100 * (start_memory - end_memory) / start_memory))\n",
    "    return data"
   ]
  },
  {
   "cell_type": "code",
   "execution_count": 5,
   "id": "6fea5335",
   "metadata": {},
   "outputs": [
    {
     "name": "stdout",
     "output_type": "stream",
     "text": [
      "Memory optimization from 65.33MB to 16.34MB (75.0% reduction)\n",
      "Memory optimization from 152.43MB to 38.13MB (75.0% reduction)\n"
     ]
    }
   ],
   "source": [
    "train = reduce_mem_usage(train)\n",
    "test = reduce_mem_usage(test)"
   ]
  },
  {
   "cell_type": "code",
   "execution_count": 6,
   "id": "20b95a29",
   "metadata": {},
   "outputs": [],
   "source": [
    "rows_train = train.shape[0] # 주어진 train data의 row 수\n",
    "rows_test = test.shape[0] # 주어진 test data의 row 수\n",
    "num_trial = 50 # 파라미터 튜닝을 몇 번 진행하는지의 수\n",
    "splits_hp = 5 # 파라미터 튜닝을 진행할 때의 kfold 수\n",
    "splits_tr = 15 # 모델 트레이닝을 진행할 때의 kfold 수\n",
    "basic_seed = 42 # default seed\n",
    "num_seed_hp = 3 # 파라미터 튜닝 seed 개수\n",
    "num_seed_tr = 10 # 트레이닝 seed 개수\n",
    "sel_seed = 3 # 선택할 seed 개수"
   ]
  },
  {
   "cell_type": "code",
   "execution_count": 7,
   "id": "cab1b054",
   "metadata": {},
   "outputs": [],
   "source": [
    "pred_dict = {}\n",
    "pred_test_dict = {}"
   ]
  },
  {
   "cell_type": "markdown",
   "id": "4efd3099",
   "metadata": {},
   "source": [
    "# 2. LightGBM"
   ]
  },
  {
   "cell_type": "code",
   "execution_count": 5,
   "id": "d48c5f30",
   "metadata": {},
   "outputs": [
    {
     "name": "stdout",
     "output_type": "stream",
     "text": [
      "Category Encoding Completed\n"
     ]
    }
   ],
   "source": [
    "train_lab = train.copy()\n",
    "test_lab = test.copy()\n",
    "\n",
    "for col in train_lab.columns:\n",
    "    if train_lab[col].dtypes=='object':\n",
    "        train_lab[col] = train_lab[col].astype('category')\n",
    "        test_lab[col] = test_lab[col].astype('category')\n",
    "\n",
    "train_x = train_lab.drop(['Target'], axis=1) # 데이터 나누기\n",
    "train_y = train_lab['Target']\n",
    "test_x = test_lab.copy()\n",
    "\n",
    "print('Category Encoding Completed')"
   ]
  },
  {
   "cell_type": "code",
   "execution_count": 44,
   "id": "c03a4b45",
   "metadata": {},
   "outputs": [],
   "source": [
    "def lgb_objective(trial: Trial) -> float:\n",
    "    score_hp = []\n",
    "    for seed_hp in np.random.randint(0, 1000, num_seed_hp):\n",
    "        params_lgb = {\n",
    "            \"random_state\": seed_hp,\n",
    "            \"verbosity\": -1,\n",
    "            \"n_estimators\": 10000,\n",
    "            \"learning_rate\": trial.suggest_loguniform(\"learning_rate\", 1e-3, 1e-1), # default=0.1, range=[0,1]\n",
    "            \"max_depth\": trial.suggest_int(\"max_depth\", 4, 12), # default=-1\n",
    "            \"reg_alpha\": trial.suggest_loguniform(\"reg_alpha\", 1e-2, 1e+2), # default=0\n",
    "            \"reg_lambda\": trial.suggest_loguniform(\"reg_lambda\", 1e-2, 1e+2), # default=0\n",
    "            \"num_leaves\": trial.suggest_int(\"num_leaves\", 31, 5000), # default=31, range=(1,130172]\n",
    "            \"colsample_bytree\": trial.suggest_uniform(\"colsample_bytree\", 0.0, 1.0), # feature_fraction, default=1\n",
    "            \"subsample\": trial.suggest_uniform(\"subsample\", 0.0, 1.0), # bagging_fraction, default=1, range=[0,1]\n",
    "            \"subsample_freq\": trial.suggest_int(\"subsample_freq\", 1, 20), # bagging_freq, default=0\n",
    "            \"min_child_samples\": trial.suggest_int(\"min_child_samples\", 1, 40), # min_data_in_leaf, default=20 \n",
    "            \"max_bin\": trial.suggest_int(\"max_bin\", 100, 500),\n",
    "        }\n",
    "\n",
    "        kfold = StratifiedKFold(n_splits=splits_hp, random_state=seed_hp, shuffle=True) # Cross-validation cv=5\n",
    "        cv = np.zeros(rows_train)\n",
    "\n",
    "        for n, (train_idx, val_idx) in enumerate(kfold.split(train_x, train_y)):\n",
    "\n",
    "            x_train, x_val = train_x.iloc[train_idx], train_x.iloc[val_idx]\n",
    "            y_train, y_val = train_y.iloc[train_idx].values, train_y.iloc[val_idx].values\n",
    "\n",
    "            lgbmodel = LGBMRegressor(**params_lgb)\n",
    "                                                                                            # 진행상황 보고싶을때 -1을 100으로\n",
    "            lgbmodel.fit(x_train, y_train, eval_set=[(x_val, y_val)], early_stopping_rounds=30, verbose=-1) \n",
    "            cv[val_idx] = lgbmodel.predict(x_val)\n",
    "            \n",
    "        score_hp.append(mean_absolute_error(train_y, cv))\n",
    "    \n",
    "    np.mean(score_hp)\n",
    "    return np.mean(score_hp)"
   ]
  },
  {
   "cell_type": "code",
   "execution_count": 20,
   "id": "fa166d2d",
   "metadata": {},
   "outputs": [
    {
     "name": "stderr",
     "output_type": "stream",
     "text": [
      "\u001b[32m[I 2022-03-25 04:23:51,988]\u001b[0m A new study created in memory with name: lgb_parameter_opt\u001b[0m\n",
      "\u001b[32m[I 2022-03-25 04:25:04,686]\u001b[0m Trial 0 finished with value: 2.940613040683704 and parameters: {'learning_rate': 0.005611516415334507, 'max_depth': 12, 'reg_alpha': 8.471801418819979, 'reg_lambda': 2.481040974867813, 'num_leaves': 806, 'colsample_bytree': 0.15599452033620265, 'subsample': 0.05808361216819946, 'subsample_freq': 18, 'min_child_samples': 25, 'max_bin': 383}. Best is trial 0 with value: 2.940613040683704.\u001b[0m\n",
      "\u001b[32m[I 2022-03-25 04:31:22,658]\u001b[0m Trial 1 finished with value: 1.5241236013207289 and parameters: {'learning_rate': 0.0010994335574766201, 'max_depth': 12, 'reg_alpha': 21.368329072358772, 'reg_lambda': 0.07068974950624607, 'num_leaves': 934, 'colsample_bytree': 0.18340450985343382, 'subsample': 0.3042422429595377, 'subsample_freq': 11, 'min_child_samples': 18, 'max_bin': 216}. Best is trial 1 with value: 1.5241236013207289.\u001b[0m\n",
      "\u001b[32m[I 2022-03-25 04:32:38,132]\u001b[0m Trial 2 finished with value: 1.541798425944738 and parameters: {'learning_rate': 0.01673808578875214, 'max_depth': 5, 'reg_alpha': 0.14742753159914673, 'reg_lambda': 0.2920433847181412, 'num_leaves': 2297, 'colsample_bytree': 0.7851759613930136, 'subsample': 0.19967378215835974, 'subsample_freq': 11, 'min_child_samples': 24, 'max_bin': 118}. Best is trial 1 with value: 1.5241236013207289.\u001b[0m\n",
      "\u001b[32m[I 2022-03-25 04:36:36,177]\u001b[0m Trial 3 finished with value: 1.496307303880717 and parameters: {'learning_rate': 0.016409286730647923, 'max_depth': 5, 'reg_alpha': 0.018205657658407266, 'reg_lambda': 62.451395747430766, 'num_leaves': 4830, 'colsample_bytree': 0.8083973481164611, 'subsample': 0.3046137691733707, 'subsample_freq': 2, 'min_child_samples': 28, 'max_bin': 276}. Best is trial 3 with value: 1.496307303880717.\u001b[0m\n",
      "\u001b[32m[I 2022-03-25 04:49:15,496]\u001b[0m Trial 4 finished with value: 1.5244203181064737 and parameters: {'learning_rate': 0.0017541893487450805, 'max_depth': 8, 'reg_alpha': 0.013726318898045875, 'reg_lambda': 43.37920697490943, 'num_leaves': 1317, 'colsample_bytree': 0.662522284353982, 'subsample': 0.31171107608941095, 'subsample_freq': 11, 'min_child_samples': 22, 'max_bin': 174}. Best is trial 3 with value: 1.496307303880717.\u001b[0m\n",
      "\u001b[32m[I 2022-03-25 04:51:25,746]\u001b[0m Trial 5 finished with value: 1.679080625831971 and parameters: {'learning_rate': 0.08692991511139551, 'max_depth': 10, 'reg_alpha': 57.27904470799624, 'reg_lambda': 37.95853142670641, 'num_leaves': 3002, 'colsample_bytree': 0.9218742350231168, 'subsample': 0.0884925020519195, 'subsample_freq': 4, 'min_child_samples': 2, 'max_bin': 230}. Best is trial 3 with value: 1.496307303880717.\u001b[0m\n",
      "\u001b[32m[I 2022-03-25 04:56:28,955]\u001b[0m Trial 6 finished with value: 1.5548447894702315 and parameters: {'learning_rate': 0.0059890036722543005, 'max_depth': 6, 'reg_alpha': 20.651425578959262, 'reg_lambda': 0.26730883107816716, 'num_leaves': 1427, 'colsample_bytree': 0.5426960831582485, 'subsample': 0.14092422497476265, 'subsample_freq': 17, 'min_child_samples': 3, 'max_bin': 495}. Best is trial 3 with value: 1.496307303880717.\u001b[0m\n",
      "\u001b[32m[I 2022-03-25 04:58:41,682]\u001b[0m Trial 7 finished with value: 1.5248021478840093 and parameters: {'learning_rate': 0.03503398491158688, 'max_depth': 5, 'reg_alpha': 0.01052176186845113, 'reg_lambda': 18.27450885981603, 'num_leaves': 3544, 'colsample_bytree': 0.7290071680409873, 'subsample': 0.7712703466859457, 'subsample_freq': 2, 'min_child_samples': 15, 'max_bin': 146}. Best is trial 3 with value: 1.496307303880717.\u001b[0m\n",
      "\u001b[32m[I 2022-03-25 05:00:19,976]\u001b[0m Trial 8 finished with value: 1.5217570251397905 and parameters: {'learning_rate': 0.05323617594751501, 'max_depth': 9, 'reg_alpha': 0.2106648601704221, 'reg_lambda': 0.01795698422567764, 'num_leaves': 1576, 'colsample_bytree': 0.32518332202674705, 'subsample': 0.7296061783380641, 'subsample_freq': 13, 'min_child_samples': 36, 'max_bin': 289}. Best is trial 3 with value: 1.496307303880717.\u001b[0m\n",
      "\u001b[32m[I 2022-03-25 05:24:57,235]\u001b[0m Trial 9 finished with value: 1.5514606916827323 and parameters: {'learning_rate': 0.0017345566642360942, 'max_depth': 10, 'reg_alpha': 11.044350847124697, 'reg_lambda': 1.7583640270008525, 'num_leaves': 3862, 'colsample_bytree': 0.49379559636439074, 'subsample': 0.5227328293819941, 'subsample_freq': 9, 'min_child_samples': 2, 'max_bin': 143}. Best is trial 3 with value: 1.496307303880717.\u001b[0m\n",
      "\u001b[32m[I 2022-03-25 05:29:28,279]\u001b[0m Trial 10 finished with value: 1.5070515877588642 and parameters: {'learning_rate': 0.014863841421541133, 'max_depth': 4, 'reg_alpha': 1.180724725780362, 'reg_lambda': 6.889558417752373, 'num_leaves': 4920, 'colsample_bytree': 0.9076647952825181, 'subsample': 0.9597707459454201, 'subsample_freq': 6, 'min_child_samples': 39, 'max_bin': 358}. Best is trial 3 with value: 1.496307303880717.\u001b[0m\n",
      "\u001b[32m[I 2022-03-25 05:33:38,839]\u001b[0m Trial 11 finished with value: 1.5231634349481131 and parameters: {'learning_rate': 0.018154614792075387, 'max_depth': 4, 'reg_alpha': 1.176332941860542, 'reg_lambda': 6.959188603569971, 'num_leaves': 4971, 'colsample_bytree': 0.9605955922038337, 'subsample': 0.9909503209111176, 'subsample_freq': 6, 'min_child_samples': 39, 'max_bin': 367}. Best is trial 3 with value: 1.496307303880717.\u001b[0m\n",
      "\u001b[32m[I 2022-03-25 05:42:40,146]\u001b[0m Trial 12 finished with value: 1.5102121233236698 and parameters: {'learning_rate': 0.009521059536876432, 'max_depth': 7, 'reg_alpha': 0.7495849797769736, 'reg_lambda': 7.762932113187541, 'num_leaves': 4957, 'colsample_bytree': 0.993112610290138, 'subsample': 0.517001347651669, 'subsample_freq': 1, 'min_child_samples': 31, 'max_bin': 346}. Best is trial 3 with value: 1.496307303880717.\u001b[0m\n",
      "\u001b[32m[I 2022-03-25 05:48:13,188]\u001b[0m Trial 13 finished with value: 1.518986591236396 and parameters: {'learning_rate': 0.022328363570716762, 'max_depth': 4, 'reg_alpha': 0.07045503112665295, 'reg_lambda': 98.01516939178583, 'num_leaves': 4225, 'colsample_bytree': 0.8166337568305663, 'subsample': 0.9758926629960658, 'subsample_freq': 6, 'min_child_samples': 32, 'max_bin': 452}. Best is trial 3 with value: 1.496307303880717.\u001b[0m\n",
      "\u001b[32m[I 2022-03-25 05:57:14,589]\u001b[0m Trial 14 finished with value: 1.5150425551139655 and parameters: {'learning_rate': 0.004663072570712846, 'max_depth': 6, 'reg_alpha': 1.9742050543960188, 'reg_lambda': 7.864166244234497, 'num_leaves': 4212, 'colsample_bytree': 0.5579434897797895, 'subsample': 0.7022690191862055, 'subsample_freq': 6, 'min_child_samples': 30, 'max_bin': 301}. Best is trial 3 with value: 1.496307303880717.\u001b[0m\n",
      "\u001b[32m[I 2022-03-25 06:04:37,963]\u001b[0m Trial 15 finished with value: 1.5222410495893772 and parameters: {'learning_rate': 0.011246794339801955, 'max_depth': 4, 'reg_alpha': 0.03684147136494575, 'reg_lambda': 81.10840524533424, 'num_leaves': 54, 'colsample_bytree': 0.8570292199349208, 'subsample': 0.4244398484881672, 'subsample_freq': 3, 'min_child_samples': 11, 'max_bin': 279}. Best is trial 3 with value: 1.496307303880717.\u001b[0m\n",
      "\u001b[32m[I 2022-03-25 06:07:01,131]\u001b[0m Trial 16 finished with value: 1.5328741918926303 and parameters: {'learning_rate': 0.03596339266999901, 'max_depth': 6, 'reg_alpha': 0.39248022490093504, 'reg_lambda': 13.973578581198728, 'num_leaves': 3057, 'colsample_bytree': 0.6438213784070336, 'subsample': 0.8515173861900571, 'subsample_freq': 5, 'min_child_samples': 40, 'max_bin': 426}. Best is trial 3 with value: 1.496307303880717.\u001b[0m\n",
      "\u001b[32m[I 2022-03-25 06:07:51,674]\u001b[0m Trial 17 finished with value: 1.507657550190886 and parameters: {'learning_rate': 0.0032614736785757385, 'max_depth': 5, 'reg_alpha': 2.576025603156919, 'reg_lambda': 0.5599058450859875, 'num_leaves': 4434, 'colsample_bytree': 0.010904619590060172, 'subsample': 0.6041585495011995, 'subsample_freq': 8, 'min_child_samples': 27, 'max_bin': 321}. Best is trial 3 with value: 1.496307303880717.\u001b[0m\n",
      "\u001b[32m[I 2022-03-25 06:10:29,753]\u001b[0m Trial 18 finished with value: 1.5028572453144022 and parameters: {'learning_rate': 0.010177234211299574, 'max_depth': 7, 'reg_alpha': 0.04444478056645527, 'reg_lambda': 3.0590107943166784, 'num_leaves': 2272, 'colsample_bytree': 0.41022042258930985, 'subsample': 0.3761687235660257, 'subsample_freq': 1, 'min_child_samples': 35, 'max_bin': 240}. Best is trial 3 with value: 1.496307303880717.\u001b[0m\n"
     ]
    },
    {
     "name": "stderr",
     "output_type": "stream",
     "text": [
      "\u001b[32m[I 2022-03-25 06:13:40,665]\u001b[0m Trial 19 finished with value: 1.5046697343903634 and parameters: {'learning_rate': 0.007731789801741323, 'max_depth': 8, 'reg_alpha': 0.03465029611882152, 'reg_lambda': 2.3317816159027287, 'num_leaves': 2204, 'colsample_bytree': 0.3976506315305586, 'subsample': 0.3806868548165709, 'subsample_freq': 1, 'min_child_samples': 34, 'max_bin': 234}. Best is trial 3 with value: 1.496307303880717.\u001b[0m\n",
      "\u001b[32m[I 2022-03-25 06:14:43,621]\u001b[0m Trial 20 finished with value: 1.5484691179009846 and parameters: {'learning_rate': 0.02909604003142706, 'max_depth': 7, 'reg_alpha': 0.0332809868279227, 'reg_lambda': 0.07173346607008386, 'num_leaves': 2993, 'colsample_bytree': 0.3785932101573172, 'subsample': 0.21776823116137567, 'subsample_freq': 15, 'min_child_samples': 27, 'max_bin': 261}. Best is trial 3 with value: 1.496307303880717.\u001b[0m\n",
      "\u001b[32m[I 2022-03-25 06:17:14,184]\u001b[0m Trial 21 finished with value: 1.5056574014752837 and parameters: {'learning_rate': 0.009400079162806442, 'max_depth': 8, 'reg_alpha': 0.03258470852340399, 'reg_lambda': 2.2608496485588168, 'num_leaves': 2264, 'colsample_bytree': 0.4187250839686889, 'subsample': 0.3652719536430701, 'subsample_freq': 1, 'min_child_samples': 33, 'max_bin': 209}. Best is trial 3 with value: 1.496307303880717.\u001b[0m\n",
      "\u001b[32m[I 2022-03-25 06:19:35,183]\u001b[0m Trial 22 finished with value: 1.500996755973402 and parameters: {'learning_rate': 0.00787703268056235, 'max_depth': 7, 'reg_alpha': 0.07730227341463583, 'reg_lambda': 1.0276574858360514, 'num_leaves': 2531, 'colsample_bytree': 0.27452996426396203, 'subsample': 0.4257782927926977, 'subsample_freq': 3, 'min_child_samples': 36, 'max_bin': 248}. Best is trial 3 with value: 1.496307303880717.\u001b[0m\n",
      "\u001b[32m[I 2022-03-25 06:22:55,207]\u001b[0m Trial 23 finished with value: 1.5052936499697307 and parameters: {'learning_rate': 0.003681593577959464, 'max_depth': 7, 'reg_alpha': 0.11172292451126428, 'reg_lambda': 0.7659197107452426, 'num_leaves': 1880, 'colsample_bytree': 0.2695325311825186, 'subsample': 0.4526425989355142, 'subsample_freq': 3, 'min_child_samples': 36, 'max_bin': 189}. Best is trial 3 with value: 1.496307303880717.\u001b[0m\n",
      "\u001b[32m[I 2022-03-25 06:24:05,036]\u001b[0m Trial 24 finished with value: 1.5124430373584445 and parameters: {'learning_rate': 0.012946521546515953, 'max_depth': 6, 'reg_alpha': 0.0711171986911273, 'reg_lambda': 0.156534338544533, 'num_leaves': 2698, 'colsample_bytree': 0.22445438923812183, 'subsample': 0.26360268761979494, 'subsample_freq': 3, 'min_child_samples': 29, 'max_bin': 252}. Best is trial 3 with value: 1.496307303880717.\u001b[0m\n",
      "\u001b[32m[I 2022-03-25 06:25:38,698]\u001b[0m Trial 25 finished with value: 1.516322263447156 and parameters: {'learning_rate': 0.006964541297378912, 'max_depth': 7, 'reg_alpha': 0.017478943559619917, 'reg_lambda': 1.2964616619284826, 'num_leaves': 3520, 'colsample_bytree': 0.0952737178007872, 'subsample': 0.608371872642128, 'subsample_freq': 8, 'min_child_samples': 35, 'max_bin': 309}. Best is trial 3 with value: 1.496307303880717.\u001b[0m\n",
      "\u001b[32m[I 2022-03-25 06:39:35,071]\u001b[0m Trial 26 finished with value: 1.5087336901407784 and parameters: {'learning_rate': 0.00250988346738352, 'max_depth': 9, 'reg_alpha': 0.27494376052367053, 'reg_lambda': 4.436309630466382, 'num_leaves': 90, 'colsample_bytree': 0.46370985048300684, 'subsample': 0.5664221746631577, 'subsample_freq': 4, 'min_child_samples': 20, 'max_bin': 260}. Best is trial 3 with value: 1.496307303880717.\u001b[0m\n",
      "\u001b[32m[I 2022-03-25 06:40:28,541]\u001b[0m Trial 27 finished with value: 1.5068546459809813 and parameters: {'learning_rate': 0.02328195884774445, 'max_depth': 5, 'reg_alpha': 0.06691217011839588, 'reg_lambda': 17.98677832444738, 'num_leaves': 1863, 'colsample_bytree': 0.3158910848299882, 'subsample': 0.4586607772756491, 'subsample_freq': 2, 'min_child_samples': 37, 'max_bin': 177}. Best is trial 3 with value: 1.496307303880717.\u001b[0m\n",
      "\u001b[32m[I 2022-03-25 06:41:14,100]\u001b[0m Trial 28 finished with value: 2.3466831418614347 and parameters: {'learning_rate': 0.01163487313778622, 'max_depth': 9, 'reg_alpha': 0.0197128008495795, 'reg_lambda': 0.5001364437780421, 'num_leaves': 2719, 'colsample_bytree': 0.6020818073248694, 'subsample': 0.007736943476553071, 'subsample_freq': 4, 'min_child_samples': 28, 'max_bin': 329}. Best is trial 3 with value: 1.496307303880717.\u001b[0m\n",
      "\u001b[32m[I 2022-03-25 06:42:32,890]\u001b[0m Trial 29 finished with value: 1.5170278596616056 and parameters: {'learning_rate': 0.005692471703690196, 'max_depth': 8, 'reg_alpha': 0.09996834270163775, 'reg_lambda': 3.241576444467576, 'num_leaves': 622, 'colsample_bytree': 0.10332177849792334, 'subsample': 0.35843751630802256, 'subsample_freq': 20, 'min_child_samples': 25, 'max_bin': 277}. Best is trial 3 with value: 1.496307303880717.\u001b[0m\n",
      "\u001b[32m[I 2022-03-25 06:46:42,368]\u001b[0m Trial 30 finished with value: 1.5598407969539991 and parameters: {'learning_rate': 0.004707185622663261, 'max_depth': 6, 'reg_alpha': 0.43221649447983984, 'reg_lambda': 37.33573958176125, 'num_leaves': 3484, 'colsample_bytree': 0.7134138716690808, 'subsample': 0.14017710627352564, 'subsample_freq': 8, 'min_child_samples': 33, 'max_bin': 397}. Best is trial 3 with value: 1.496307303880717.\u001b[0m\n",
      "\u001b[32m[I 2022-03-25 06:49:23,907]\u001b[0m Trial 31 finished with value: 1.5028893052182657 and parameters: {'learning_rate': 0.007894334740748693, 'max_depth': 8, 'reg_alpha': 0.044533355797234095, 'reg_lambda': 1.1264990243546917, 'num_leaves': 2229, 'colsample_bytree': 0.384396752951343, 'subsample': 0.38520449758709624, 'subsample_freq': 1, 'min_child_samples': 34, 'max_bin': 234}. Best is trial 3 with value: 1.496307303880717.\u001b[0m\n",
      "\u001b[32m[I 2022-03-25 06:51:50,683]\u001b[0m Trial 32 finished with value: 1.5128611617792054 and parameters: {'learning_rate': 0.008911042438126559, 'max_depth': 12, 'reg_alpha': 0.02143057329349524, 'reg_lambda': 1.0678208695327311, 'num_leaves': 1895, 'colsample_bytree': 0.32911661431176414, 'subsample': 0.29467565862568035, 'subsample_freq': 2, 'min_child_samples': 38, 'max_bin': 199}. Best is trial 3 with value: 1.496307303880717.\u001b[0m\n",
      "\u001b[32m[I 2022-03-25 06:53:12,191]\u001b[0m Trial 33 finished with value: 1.5044780492123448 and parameters: {'learning_rate': 0.017259900695031145, 'max_depth': 7, 'reg_alpha': 0.19192131102207546, 'reg_lambda': 0.12533390083843113, 'num_leaves': 954, 'colsample_bytree': 0.26212035855449883, 'subsample': 0.4108949985126379, 'subsample_freq': 1, 'min_child_samples': 31, 'max_bin': 232}. Best is trial 3 with value: 1.496307303880717.\u001b[0m\n",
      "\u001b[32m[I 2022-03-25 06:55:31,101]\u001b[0m Trial 34 finished with value: 1.5064755284764573 and parameters: {'learning_rate': 0.007201413623632861, 'max_depth': 10, 'reg_alpha': 0.047280704119600295, 'reg_lambda': 0.33101676735387214, 'num_leaves': 2492, 'colsample_bytree': 0.4464976447012349, 'subsample': 0.3207442587292132, 'subsample_freq': 3, 'min_child_samples': 24, 'max_bin': 101}. Best is trial 3 with value: 1.496307303880717.\u001b[0m\n",
      "\u001b[32m[I 2022-03-25 06:56:28,460]\u001b[0m Trial 35 finished with value: 1.5163320432269025 and parameters: {'learning_rate': 0.01346344318416375, 'max_depth': 8, 'reg_alpha': 0.013468408047895172, 'reg_lambda': 0.8715461667646738, 'num_leaves': 1097, 'colsample_bytree': 0.1637027886857877, 'subsample': 0.23453246355573906, 'subsample_freq': 5, 'min_child_samples': 35, 'max_bin': 244}. Best is trial 3 with value: 1.496307303880717.\u001b[0m\n",
      "\u001b[32m[I 2022-03-25 06:59:34,115]\u001b[0m Trial 36 finished with value: 1.5196065379434807 and parameters: {'learning_rate': 0.004185340277420226, 'max_depth': 9, 'reg_alpha': 0.11869877675738912, 'reg_lambda': 0.027378846309422052, 'num_leaves': 517, 'colsample_bytree': 0.5324088445260228, 'subsample': 0.16358839947094267, 'subsample_freq': 2, 'min_child_samples': 20, 'max_bin': 155}. Best is trial 3 with value: 1.496307303880717.\u001b[0m\n",
      "\u001b[32m[I 2022-03-25 07:05:56,980]\u001b[0m Trial 37 finished with value: 1.599037095684323 and parameters: {'learning_rate': 0.002762141710989301, 'max_depth': 11, 'reg_alpha': 97.67514128387658, 'reg_lambda': 1.5801723897612343, 'num_leaves': 2059, 'colsample_bytree': 0.38144628591858837, 'subsample': 0.47993076279094987, 'subsample_freq': 13, 'min_child_samples': 16, 'max_bin': 216}. Best is trial 3 with value: 1.496307303880717.\u001b[0m\n"
     ]
    },
    {
     "name": "stderr",
     "output_type": "stream",
     "text": [
      "\u001b[32m[I 2022-03-25 07:06:46,152]\u001b[0m Trial 38 finished with value: 1.513825966166732 and parameters: {'learning_rate': 0.05190939849624387, 'max_depth': 8, 'reg_alpha': 0.024405238809703446, 'reg_lambda': 4.157762961653591, 'num_leaves': 1605, 'colsample_bytree': 0.19768397879723684, 'subsample': 0.3342492092432078, 'subsample_freq': 5, 'min_child_samples': 23, 'max_bin': 227}. Best is trial 3 with value: 1.496307303880717.\u001b[0m\n",
      "\u001b[32m[I 2022-03-25 07:32:09,051]\u001b[0m Trial 39 finished with value: 1.5152527297397667 and parameters: {'learning_rate': 0.0011895953979898495, 'max_depth': 5, 'reg_alpha': 0.011012156852793085, 'reg_lambda': 0.36393176902110724, 'num_leaves': 3127, 'colsample_bytree': 0.5944027006843046, 'subsample': 0.27926747748135083, 'subsample_freq': 1, 'min_child_samples': 7, 'max_bin': 271}. Best is trial 3 with value: 1.496307303880717.\u001b[0m\n",
      "\u001b[32m[I 2022-03-25 07:33:53,136]\u001b[0m Trial 40 finished with value: 1.5176135038873204 and parameters: {'learning_rate': 0.02085973924974257, 'max_depth': 7, 'reg_alpha': 0.05831259455032447, 'reg_lambda': 30.112725492164916, 'num_leaves': 2490, 'colsample_bytree': 0.49860330037495876, 'subsample': 0.5484842076855863, 'subsample_freq': 10, 'min_child_samples': 29, 'max_bin': 163}. Best is trial 3 with value: 1.496307303880717.\u001b[0m\n",
      "\u001b[32m[I 2022-03-25 07:35:15,052]\u001b[0m Trial 41 finished with value: 1.5134710943120153 and parameters: {'learning_rate': 0.016681503995181837, 'max_depth': 7, 'reg_alpha': 0.19378600474054664, 'reg_lambda': 0.1677475114843222, 'num_leaves': 426, 'colsample_bytree': 0.2551830896923649, 'subsample': 0.39852020855910986, 'subsample_freq': 1, 'min_child_samples': 31, 'max_bin': 239}. Best is trial 3 with value: 1.496307303880717.\u001b[0m\n",
      "\u001b[32m[I 2022-03-25 07:36:40,951]\u001b[0m Trial 42 finished with value: 1.5123881752456814 and parameters: {'learning_rate': 0.014607733412317407, 'max_depth': 6, 'reg_alpha': 0.09864294726273709, 'reg_lambda': 0.06794921888632259, 'num_leaves': 1096, 'colsample_bytree': 0.3301953914241652, 'subsample': 0.4210388098416455, 'subsample_freq': 2, 'min_child_samples': 37, 'max_bin': 193}. Best is trial 3 with value: 1.496307303880717.\u001b[0m\n",
      "\u001b[32m[I 2022-03-25 07:39:26,609]\u001b[0m Trial 43 finished with value: 1.5048190741103553 and parameters: {'learning_rate': 0.006170830251985956, 'max_depth': 7, 'reg_alpha': 0.18005808512730148, 'reg_lambda': 0.11077915665739689, 'num_leaves': 1398, 'colsample_bytree': 0.3039760491147214, 'subsample': 0.4771850765274075, 'subsample_freq': 4, 'min_child_samples': 33, 'max_bin': 221}. Best is trial 3 with value: 1.496307303880717.\u001b[0m\n",
      "\u001b[32m[I 2022-03-25 07:40:44,596]\u001b[0m Trial 44 finished with value: 1.5155581513027976 and parameters: {'learning_rate': 0.0318331906978207, 'max_depth': 9, 'reg_alpha': 0.36738588715712567, 'reg_lambda': 0.6123122591782078, 'num_leaves': 784, 'colsample_bytree': 0.23432239560598841, 'subsample': 0.33045769999720187, 'subsample_freq': 2, 'min_child_samples': 26, 'max_bin': 299}. Best is trial 3 with value: 1.496307303880717.\u001b[0m\n",
      "\u001b[32m[I 2022-03-25 07:41:26,968]\u001b[0m Trial 45 finished with value: 1.4997569902300099 and parameters: {'learning_rate': 0.010568733711085344, 'max_depth': 6, 'reg_alpha': 0.04809959939864846, 'reg_lambda': 0.010742319670326468, 'num_leaves': 3847, 'colsample_bytree': 0.10313362151935754, 'subsample': 0.4056645039310258, 'subsample_freq': 3, 'min_child_samples': 40, 'max_bin': 127}. Best is trial 3 with value: 1.496307303880717.\u001b[0m\n",
      "\u001b[32m[I 2022-03-25 07:42:01,931]\u001b[0m Trial 46 finished with value: 1.524540164390241 and parameters: {'learning_rate': 0.010153794837166621, 'max_depth': 5, 'reg_alpha': 0.04311883561971341, 'reg_lambda': 0.019423722644469555, 'num_leaves': 4568, 'colsample_bytree': 0.11420948619580656, 'subsample': 0.25740517961414955, 'subsample_freq': 7, 'min_child_samples': 40, 'max_bin': 132}. Best is trial 3 with value: 1.496307303880717.\u001b[0m\n",
      "\u001b[32m[I 2022-03-25 07:43:15,970]\u001b[0m Trial 47 finished with value: 1.5030071058205836 and parameters: {'learning_rate': 0.00737806758337802, 'max_depth': 6, 'reg_alpha': 4.936638193578449, 'reg_lambda': 12.793578305981207, 'num_leaves': 3885, 'colsample_bytree': 0.14579013998420137, 'subsample': 0.647462768002332, 'subsample_freq': 4, 'min_child_samples': 38, 'max_bin': 124}. Best is trial 3 with value: 1.496307303880717.\u001b[0m\n",
      "\u001b[32m[I 2022-03-25 07:46:45,985]\u001b[0m Trial 48 finished with value: 1.5432913064180231 and parameters: {'learning_rate': 0.008558871430902018, 'max_depth': 5, 'reg_alpha': 0.02391049143239148, 'reg_lambda': 56.69333854222705, 'num_leaves': 4734, 'colsample_bytree': 0.7619898231934177, 'subsample': 0.16786359368005177, 'subsample_freq': 3, 'min_child_samples': 35, 'max_bin': 329}. Best is trial 3 with value: 1.496307303880717.\u001b[0m\n",
      "\u001b[32m[I 2022-03-25 07:48:01,741]\u001b[0m Trial 49 finished with value: 1.513918020236676 and parameters: {'learning_rate': 0.004873342377482501, 'max_depth': 6, 'reg_alpha': 0.6865955981736556, 'reg_lambda': 0.040283951260604384, 'num_leaves': 1653, 'colsample_bytree': 0.06954760155235598, 'subsample': 0.513487161632334, 'subsample_freq': 5, 'min_child_samples': 40, 'max_bin': 287}. Best is trial 3 with value: 1.496307303880717.\u001b[0m\n"
     ]
    },
    {
     "name": "stdout",
     "output_type": "stream",
     "text": [
      "The best hyperparameters are:\n",
      " {'learning_rate': 0.016409286730647923, 'max_depth': 5, 'reg_alpha': 0.018205657658407266, 'reg_lambda': 62.451395747430766, 'num_leaves': 4830, 'colsample_bytree': 0.8083973481164611, 'subsample': 0.3046137691733707, 'subsample_freq': 2, 'min_child_samples': 28, 'max_bin': 276, 'n_estimators': 10000}\n"
     ]
    }
   ],
   "source": [
    "sampler = TPESampler(seed=basic_seed)\n",
    "lgb_study = optuna.create_study(study_name=\"lgb_parameter_opt\", direction=\"minimize\", sampler=sampler)\n",
    "lgb_study.optimize(lgb_objective, n_trials=num_trial)\n",
    "\n",
    "lgb_best_hyperparams = lgb_study.best_trial.params\n",
    "lgb_base_hyperparams = {'n_estimators':10000}\n",
    "lgb_best_hyperparams.update(lgb_base_hyperparams)\n",
    "\n",
    "with open('../pickle/lgb_best_hyperparams.pickle', 'wb') as fw:\n",
    "    pickle.dump(lgb_best_hyperparams, fw)\n",
    "print(\"The best hyperparameters are:\\n\", lgb_best_hyperparams)"
   ]
  },
  {
   "cell_type": "code",
   "execution_count": 21,
   "id": "5f297638",
   "metadata": {},
   "outputs": [
    {
     "data": {
      "image/png": "[encoded data removed]",
      "text/plain": [
       "<Figure size 432x288 with 1 Axes>"
      ]
     },
     "metadata": {
      "needs_background": "light"
     },
     "output_type": "display_data"
    }
   ],
   "source": [
    "optuna.visualization.matplotlib.plot_param_importances(lgb_study);"
   ]
  },
  {
   "cell_type": "code",
   "execution_count": 22,
   "id": "3b18fa1d",
   "metadata": {},
   "outputs": [
    {
     "data": {
      "image/png": "[encoded data removed]",
      "text/plain": [
       "<Figure size 2160x288 with 11 Axes>"
      ]
     },
     "metadata": {},
     "output_type": "display_data"
    }
   ],
   "source": [
    "optuna.visualization.matplotlib.plot_slice(lgb_study);"
   ]
  },
  {
   "cell_type": "code",
   "execution_count": null,
   "id": "aca24a30",
   "metadata": {},
   "outputs": [],
   "source": [
    "# with open('../pickle/lgb_best_hyperparams.pickle', 'rb') as fw:\n",
    "#     lgb_best_hyperparams = pickle.load(fw)"
   ]
  },
  {
   "cell_type": "code",
   "execution_count": 23,
   "id": "37cba641",
   "metadata": {},
   "outputs": [
    {
     "name": "stdout",
     "output_type": "stream",
     "text": [
      "seed 81 mean_absolute_error : 1.5103172592193435\n",
      "seed 672 mean_absolute_error : 1.503274367016825\n",
      "seed 808 mean_absolute_error : 1.505958932276833\n",
      "seed 996 mean_absolute_error : 1.4961064468471394\n",
      "seed 847 mean_absolute_error : 1.512225732228379\n",
      "seed 722 mean_absolute_error : 1.5009954152167524\n",
      "seed 809 mean_absolute_error : 1.4948802647053905\n",
      "seed 963 mean_absolute_error : 1.4996419295624261\n",
      "seed 485 mean_absolute_error : 1.5050511330172123\n",
      "seed 626 mean_absolute_error : 1.503002619624657\n"
     ]
    }
   ],
   "source": [
    "lucky_seeds = np.random.randint(0, 1000, num_seed_tr)\n",
    "\n",
    "for i, seed in enumerate(lucky_seeds):\n",
    "\n",
    "    kfold = StratifiedKFold(n_splits=splits_tr, random_state=seed, shuffle=True) # CV 늘려가면서 하기\n",
    "    cv = np.zeros(rows_train)\n",
    "    pred_test = np.zeros(rows_test)\n",
    "\n",
    "    for n, (train_idx, val_idx) in enumerate(kfold.split(train_x, train_y)):\n",
    "        \n",
    "        x_train, x_val = train_x.iloc[train_idx], train_x.iloc[val_idx]\n",
    "        y_train, y_val = train_y.iloc[train_idx].values.ravel(), train_y.iloc[val_idx].values.ravel()\n",
    "\n",
    "        lgbmodel = LGBMRegressor(**lgb_best_hyperparams)\n",
    "        lgbmodel.fit(x_train, y_train, eval_set=[(x_val, y_val)], early_stopping_rounds=30, verbose=-1)\n",
    "        \n",
    "        cv[val_idx] = lgbmodel.predict(x_val)\n",
    "        pred_test += lgbmodel.predict(test_x) / splits_tr\n",
    "        \n",
    "    pred_dict['lgb'+str(seed)] = cv\n",
    "    pred_test_dict['lgb'+str(seed)] = pred_test\n",
    "    print(f'seed {seed}', 'mean_absolute_error :', mean_absolute_error(train_y, cv))"
   ]
  },
  {
   "cell_type": "markdown",
   "id": "32e22259",
   "metadata": {},
   "source": [
    "# 3. Export"
   ]
  },
  {
   "cell_type": "code",
   "execution_count": 24,
   "id": "018720e0",
   "metadata": {},
   "outputs": [],
   "source": [
    "def sort_dict(model, pred_dict, pred_test_dict):\n",
    "    pred_dict_local = {}\n",
    "    for key, value in pred_dict.items():\n",
    "        if model in key:\n",
    "            pred_dict_local[key]=value\n",
    "\n",
    "    pred_test_dict_local = {}\n",
    "    for key, value in pred_test_dict.items():\n",
    "        if model in key:\n",
    "            pred_test_dict_local[key]=value\n",
    "\n",
    "    pred_dict_new_local = dict(sorted(\n",
    "        pred_dict_local.items(), \n",
    "        key=lambda x:mean_absolute_error((train_y), list(x[1])), reverse=False)[:sel_seed])\n",
    "    pred_test_dict_new_local = {}\n",
    "    for key, value in pred_dict_new_local.items():\n",
    "        pred_test_dict_new_local[key]=pred_test_dict_local[key]\n",
    "        \n",
    "    return pred_dict_new_local, pred_test_dict_new_local"
   ]
  },
  {
   "cell_type": "code",
   "execution_count": 25,
   "id": "d7a1ca88",
   "metadata": {},
   "outputs": [],
   "source": [
    "def save_dict(model, pred_dict, pred_test_dict):\n",
    "    with open('../pickle/pred_dict_'+model+'.pickle', 'wb') as fw:\n",
    "        pickle.dump(pred_dict, fw)\n",
    "    with open('../pickle/pred_test_dict_'+model+'.pickle', 'wb') as fw:\n",
    "        pickle.dump(pred_test_dict, fw)"
   ]
  },
  {
   "cell_type": "code",
   "execution_count": 26,
   "id": "63edff23",
   "metadata": {},
   "outputs": [],
   "source": [
    "pred_dict_lgb, pred_test_dict_lgb = sort_dict('lgb', pred_dict, pred_test_dict)\n",
    "save_dict('lgb', pred_dict_lgb, pred_test_dict_lgb)"
   ]
  },
  {
   "cell_type": "markdown",
   "id": "4f15ffe4",
   "metadata": {},
   "source": [
    "## (2) XGBoost"
   ]
  },
  {
   "cell_type": "code",
   "execution_count": 26,
   "id": "462c3b4b",
   "metadata": {},
   "outputs": [
    {
     "name": "stdout",
     "output_type": "stream",
     "text": [
      "One-Hot Encoding Completed\n"
     ]
    }
   ],
   "source": [
    "train_ohe = train.copy()\n",
    "test_ohe = test.copy()\n",
    "\n",
    "train_ohe = pd.get_dummies(train_ohe)\n",
    "test_ohe = pd.get_dummies(test_ohe)\n",
    "\n",
    "train_x = train_ohe.drop(['Target'], axis=1) # 데이터 나누기\n",
    "train_y = train_ohe['Target']\n",
    "test_x = test_ohe.copy()\n",
    "\n",
    "print('One-Hot Encoding Completed')"
   ]
  },
  {
   "cell_type": "code",
   "execution_count": 30,
   "id": "1cc1248d",
   "metadata": {},
   "outputs": [],
   "source": [
    "def xgb_objective(trial: Trial) -> float:\n",
    "    score_hp = []\n",
    "    for seed_hp in np.random.randint(0, 1000, num_seed_hp):\n",
    "        params_xgb = {\n",
    "        \"random_state\": seed_hp,\n",
    "        \"verbose\": None,\n",
    "        \"learning_rate\": trial.suggest_uniform(\"learning_rate\", 1e-3, 1e-2), # eta, default=0.3, range=[0,1]\n",
    "        \"gamma\": trial.suggest_loguniform(\"gamma\", 1e-2, 1e+2), # min_split_loss, default=0, range=[0,∞]\n",
    "        \"max_depth\": trial.suggest_int(\"max_depth\", 4, 12), # default=5, range=[0,∞]\n",
    "        \"min_child_weight\": trial.suggest_int(\"min_child_weight\", 1, 10), #default=1\n",
    "        \"max_delta_step\" : trial.suggest_int(\"max_delta_step\", 0, 10), #default=0\n",
    "        \"subsample\": trial.suggest_uniform(\"subsample\", 0.0, 1.0), # default=1, range=(0,1]\n",
    "        \"colsample_bytree\": trial.suggest_uniform(\"colsample_bytree\", 0.0, 0.5), # default=1, range=(0,1]\n",
    "        \"colsample_bylevel\": trial.suggest_uniform(\"colsample_bylevel\", 0.0, 1.0), # default=1, range=(0,1]\n",
    "        \"colsample_bynode\": trial.suggest_uniform(\"colsample_bynode\", 0.0, 1.0), # default=1, range=(0,1]\n",
    "        \"reg_alpha\": trial.suggest_loguniform(\"reg_alpha\", 1e-1, 1e+1), # default=0, range=[0,∞]\n",
    "        \"reg_lambda\": trial.suggest_loguniform(\"reg_lambda\", 1e-1, 1e+1), # default=1, range=[0,∞]\n",
    "        \"max_bin\": trial.suggest_int(\"max_bin\", 100, 400),\n",
    "        }\n",
    "\n",
    "        kfold = StratifiedKFold(n_splits=splits_hp, random_state=seed_hp, shuffle=True) # Cross-validation cv=5\n",
    "        cv = np.zeros(rows_train)\n",
    "\n",
    "        for n, (train_idx, val_idx) in enumerate(kfold.split(train_x, train_y)):\n",
    "\n",
    "            x_train, x_val = train_x.iloc[train_idx], train_x.iloc[val_idx]\n",
    "            y_train, y_val = train_y.iloc[train_idx].values, train_y.iloc[val_idx].values\n",
    "            \n",
    "            dtrain = xgb.DMatrix(x_train, label=y_train)\n",
    "            dvalid = xgb.DMatrix(x_val, label=y_val)\n",
    "            watchlist = [(dtrain, 'train'), (dvalid, 'valid')]\n",
    "                                                                                                # 진행상황 보고싶을때 None을 100으로\n",
    "            xgbmodel = xgb.train(params_xgb, dtrain, 100000, watchlist, early_stopping_rounds=30, verbose_eval=None)\n",
    "            cv[val_idx] = xgbmodel.predict(dvalid)\n",
    "            \n",
    "        score_hp.append(mean_absolute_error(train_y, cv))\n",
    "    \n",
    "    np.mean(score_hp)\n",
    "#     pred_hp_dict['lgb'+str(seed)] = cv\n",
    "#     print(f'seed {seed}', 'mean_absolute_error :', mean_absolute_error(train_y, cv))\n",
    "    \n",
    "#     return mean_absolute_error(train_y, cv)\n",
    "    return np.mean(score_hp)"
   ]
  },
  {
   "cell_type": "code",
   "execution_count": null,
   "id": "0eed7d67",
   "metadata": {},
   "outputs": [
    {
     "name": "stderr",
     "output_type": "stream",
     "text": [
      "\u001b[32m[I 2022-03-25 11:25:25,163]\u001b[0m A new study created in memory with name: xgb_parameter_opt\u001b[0m\n"
     ]
    }
   ],
   "source": [
    "sampler = TPESampler(seed=basic_seed)\n",
    "xgb_study = optuna.create_study(study_name=\"xgb_parameter_opt\", direction=\"minimize\", sampler=sampler)\n",
    "xgb_study.optimize(xgb_objective, n_trials=num_trial)\n",
    "\n",
    "xgb_best_hyperparams = xgb_study.best_trial.params\n",
    "xgb_base_hyperparams = {\"random_state\": basic_seed}\n",
    "xgb_best_hyperparams.update(xgb_base_hyperparams)\n",
    "\n",
    "with open('../pickle/xgb_best_hyperparams.pickle', 'wb') as fw:\n",
    "    pickle.dump(xgb_best_hyperparams, fw)\n",
    "print(\"The best hyperparameters are:\\n\", xgb_best_hyperparams)"
   ]
  },
  {
   "cell_type": "code",
   "execution_count": null,
   "id": "1a48a555",
   "metadata": {},
   "outputs": [],
   "source": [
    "optuna.visualization.matplotlib.plot_param_importances(xgb_study);"
   ]
  },
  {
   "cell_type": "code",
   "execution_count": null,
   "id": "326bafdd",
   "metadata": {},
   "outputs": [],
   "source": [
    "optuna.visualization.matplotlib.plot_slice(xgb_study);"
   ]
  },
  {
   "cell_type": "code",
   "execution_count": null,
   "id": "e0985b2d",
   "metadata": {},
   "outputs": [],
   "source": [
    "with open('../pickle/xgb_best_hyperparams.pickle', 'rb') as fw:\n",
    "    xgb_best_hyperparams = pickle.load(fw)"
   ]
  },
  {
   "cell_type": "code",
   "execution_count": null,
   "id": "25b4adae",
   "metadata": {},
   "outputs": [],
   "source": [
    "lucky_seeds = np.random.randint(0, 1000, num_seed_tr)\n",
    "xgtest = xgb.DMatrix(test_x)\n",
    "for i, seed in enumerate(lucky_seeds):\n",
    "\n",
    "    kfold = StratifiedKFold(n_splits=splits_tr, random_state=seed, shuffle = True) # CV 늘려가면서 하기\n",
    "    cv=np.zeros(rows_train)\n",
    "    pred_test = np.zeros(rows_test)\n",
    "\n",
    "    for n, (train_idx, val_idx) in enumerate(kfold.split(train_x, train_y)):\n",
    "        \n",
    "        x_train, x_val = train_x.iloc[train_idx], train_x.iloc[val_idx]\n",
    "        y_train, y_val = train_y.iloc[train_idx].values.ravel(), train_y.iloc[val_idx].values.ravel()\n",
    "        \n",
    "        dtrain = xgb.DMatrix(x_train, label=y_train)\n",
    "        dvalid = xgb.DMatrix(x_val, label=y_val)\n",
    "        watchlist = [(dtrain, 'train'), (dvalid, 'valid')]\n",
    "        \n",
    "                                                                                            # 진행상황 보고싶을때 None을 100으로\n",
    "        xgbmodel = xgb.train(xgb_best_hyperparams, dtrain, 100000, watchlist, early_stopping_rounds=30, verbose_eval=None)\n",
    "\n",
    "        cv[val_idx] = xgbmodel.predict(dvalid)\n",
    "        pred_test += xgbmodel.predict(xgtest) / splits_tr # CV 바꾸면 이 숫자도 똑같이 바꿔야함\n",
    "        \n",
    "    pred_dict['xgb'+str(seed)] = cv\n",
    "    pred_test_dict['xgb'+str(seed)] = pred_test\n",
    "    print(f'seed {seed}', 'mean_absolute_error :', mean_absolute_error(train_y, cv))"
   ]
  },
  {
   "cell_type": "code",
   "execution_count": null,
   "id": "0307caee",
   "metadata": {},
   "outputs": [],
   "source": [
    "pred = pred_dict['xgb75']"
   ]
  },
  {
   "cell_type": "code",
   "execution_count": null,
   "id": "61309c93",
   "metadata": {},
   "outputs": [],
   "source": [
    "pred_test = pred_test_dict['xgb75']"
   ]
  },
  {
   "cell_type": "code",
   "execution_count": null,
   "id": "d201336c",
   "metadata": {},
   "outputs": [],
   "source": [
    "mean_absolute_error(train_y, np.round(pred))"
   ]
  },
  {
   "cell_type": "code",
   "execution_count": null,
   "id": "87baf101",
   "metadata": {},
   "outputs": [],
   "source": [
    "mean_absolute_error(train_y, np.round(pred))"
   ]
  },
  {
   "cell_type": "markdown",
   "id": "cc3d4a67",
   "metadata": {},
   "source": [
    "# 3. Stacking"
   ]
  },
  {
   "cell_type": "markdown",
   "id": "648daaaf",
   "metadata": {},
   "source": [
    "## (1) Collect Data"
   ]
  },
  {
   "cell_type": "code",
   "execution_count": null,
   "id": "acb1d754",
   "metadata": {},
   "outputs": [],
   "source": [
    "def sort_dict(model, pred_dict, pred_test_dict):\n",
    "    pred_dict_local = {}\n",
    "    for key, value in pred_dict.items():\n",
    "        if model in key:\n",
    "            pred_dict_local[key]=value\n",
    "\n",
    "    pred_test_dict_local = {}\n",
    "    for key, value in pred_test_dict.items():\n",
    "        if model in key:\n",
    "            pred_test_dict_local[key]=value\n",
    "\n",
    "    pred_dict_new_local = dict(sorted(\n",
    "        pred_dict_local.items(), \n",
    "        key=lambda x:mean_absolute_error((train_y), list(x[1])), reverse=False)[:sel_seed])\n",
    "    pred_test_dict_new_local = {}\n",
    "    for key, value in pred_dict_new_local.items():\n",
    "        pred_test_dict_new_local[key]=pred_test_dict_local[key]\n",
    "        \n",
    "    return pred_dict_new_local, pred_test_dict_new_local"
   ]
  },
  {
   "cell_type": "code",
   "execution_count": null,
   "id": "5061cffd",
   "metadata": {},
   "outputs": [],
   "source": [
    "pred_dict_lgb, pred_test_dict_lgb = sort_dict('lgb', pred_dict, pred_test_dict)\n",
    "pred_dict_xgb, pred_test_dict_xgb = sort_dict('xgb', pred_dict, pred_test_dict)"
   ]
  },
  {
   "cell_type": "code",
   "execution_count": null,
   "id": "ebce0c23",
   "metadata": {},
   "outputs": [],
   "source": [
    "def save_dict(model, pred_dict, pred_test_dict):\n",
    "    with open('../pickle/pred_dict_'+model+'.pickle', 'wb') as fw:\n",
    "        pickle.dump(pred_dict, fw)\n",
    "    with open('../pickle/pred_test_dict_'+model+'.pickle', 'wb') as fw:\n",
    "        pickle.dump(pred_test_dict, fw)"
   ]
  },
  {
   "cell_type": "code",
   "execution_count": null,
   "id": "4f026fc1",
   "metadata": {},
   "outputs": [],
   "source": [
    "save_dict('lgb', pred_dict_lgb, pred_test_dict_lgb)\n",
    "save_dict('xgb', pred_dict_xgb, pred_test_dict_xgb)"
   ]
  },
  {
   "cell_type": "code",
   "execution_count": null,
   "id": "7df06f04",
   "metadata": {},
   "outputs": [],
   "source": [
    "def load_dict(model):\n",
    "    with open('../pickle/pred_dict_'+model+'.pickle', 'rb') as fw:\n",
    "        pred_dict_new_local = pickle.load(fw)\n",
    "    with open('../pickle/pred_test_dict_'+model+'.pickle', 'rb') as fw:\n",
    "        pred_test_dict_new_local = pickle.load(fw)\n",
    "    return pred_dict_new_local, pred_test_dict_new_local"
   ]
  },
  {
   "cell_type": "code",
   "execution_count": null,
   "id": "312683f3",
   "metadata": {},
   "outputs": [],
   "source": [
    "pred_dict_lgb, pred_test_dict_lgb = load_dict('lgb')\n",
    "pred_dict_xgb, pred_test_dict_xgb = load_dict('xgb')"
   ]
  },
  {
   "cell_type": "code",
   "execution_count": null,
   "id": "bc4f6fa6",
   "metadata": {},
   "outputs": [],
   "source": [
    "pred_dict_total = {**pred_dict_lgb, **pred_dict_xgb}\n",
    "pred_test_dict_total = {**pred_test_dict_lgb, **pred_test_dict_xgb}"
   ]
  },
  {
   "cell_type": "markdown",
   "id": "9b98db1d",
   "metadata": {},
   "source": [
    "## (2) HP Tuning"
   ]
  },
  {
   "cell_type": "code",
   "execution_count": null,
   "id": "0cb8e583",
   "metadata": {},
   "outputs": [],
   "source": [
    "def stack_objective(trial: Trial) -> float:\n",
    "    score_hp = []\n",
    "    for seed_hp in np.random.randint(0, 1000, 5):\n",
    "        params_xgb = {\n",
    "            \"random_state\": basic_seed,\n",
    "            \"verbose\": None,\n",
    "            \"learning_rate\": trial.suggest_loguniform(\"learning_rate\", 1e-3, 1e-1), # eta, default=0.3, range=[0,1]\n",
    "            \"gamma\": trial.suggest_loguniform(\"gamma\", 1e-2, 1e+2), # min_split_loss, default=0, range=[0,∞]\n",
    "            \"max_depth\": trial.suggest_int(\"max_depth\", 4, 10), # default=5, range=[0,∞]\n",
    "            \"min_child_weight\": trial.suggest_int(\"min_child_weight\", 1, 10), #default=1\n",
    "            \"max_delta_step\" : trial.suggest_int(\"max_delta_step\", 0, 10), #default=0\n",
    "            \"subsample\": trial.suggest_uniform(\"subsample\", 0.0, 1.0), # default=1, range=(0,1]\n",
    "            \"colsample_bytree\": trial.suggest_uniform(\"colsample_bytree\", 0.0, 1.0), # default=1, range=(0,1]\n",
    "            \"colsample_bylevel\": trial.suggest_uniform(\"colsample_bylevel\", 0.0, 1.0), # default=1, range=(0,1]\n",
    "            \"colsample_bynode\": trial.suggest_uniform(\"colsample_bynode\", 0.0, 1.0), # default=1, range=(0,1]\n",
    "            \"reg_alpha\": trial.suggest_loguniform(\"reg_alpha\", 1e-2, 1e+2), # default=0, range=[0,∞]\n",
    "            \"reg_lambda\": trial.suggest_loguniform(\"reg_lambda\", 1e-2, 1e+2), # default=1, range=[0,∞]\n",
    "            \"max_bin\": trial.suggest_int(\"max_bin\", 100, 400),\n",
    "        }\n",
    "\n",
    "        kfold = StratifiedKFold(n_splits=splits_hp, random_state=seed_hp, shuffle=True)\n",
    "        cv = np.zeros(rows_train)\n",
    "\n",
    "        for n, (train_idx, val_idx) in enumerate(kfold.split(train_x, train_y)):\n",
    "\n",
    "            x_train, x_val = X_train.iloc[train_idx], X_train.iloc[val_idx]\n",
    "            y_train, y_val = train_y.iloc[train_idx], train_y.iloc[val_idx]\n",
    "\n",
    "            dtrain = xgb.DMatrix(x_train, label=y_train)\n",
    "            dvalid = xgb.DMatrix(x_val, label=y_val)\n",
    "            watchlist = [(dtrain, 'train'), (dvalid, 'valid')]\n",
    "                                                                                                # 진행상황 보고싶을때 None을 100으로\n",
    "            stack_xgbmodel = xgb.train(params_xgb, dtrain, 100000, watchlist, early_stopping_rounds=30, verbose_eval=None)\n",
    "            cv[val_idx] = stack_xgbmodel.predict(dvalid)\n",
    "\n",
    "        score_hp.append(mean_absolute_error(train_y, cv))\n",
    "    \n",
    "    np.mean(score_hp)\n",
    "#     pred_hp_dict['lgb'+str(seed)] = cv\n",
    "#     print(f'seed {seed}', 'mean_absolute_error :', mean_absolute_error(train_y, cv))\n",
    "    \n",
    "#     return mean_absolute_error(train_y, cv)\n",
    "    return np.mean(score_hp)"
   ]
  },
  {
   "cell_type": "code",
   "execution_count": null,
   "id": "905e8225",
   "metadata": {},
   "outputs": [],
   "source": [
    "X_train = pd.DataFrame(np.vstack([x for _, x in pred_dict_total.items()]).T)\n",
    "X_test = pd.DataFrame(np.vstack([x for _, x in pred_test_dict_total.items()]).T)\n",
    "\n",
    "sampler = TPESampler(seed=basic_seed)\n",
    "stack_study = optuna.create_study(study_name=\"stack_parameter_opt\", direction=\"minimize\", sampler=sampler)\n",
    "stack_study.optimize(stack_objective, n_trials=num_trial)\n",
    "\n",
    "stack_best_hyperparams = stack_study.best_trial.params\n",
    "stack_base_hyperparams = {\"random_state\": basic_seed}\n",
    "stack_best_hyperparams.update(stack_base_hyperparams)\n",
    "print(\"The best hyperparameters are:\\n\", stack_best_hyperparams)"
   ]
  },
  {
   "cell_type": "code",
   "execution_count": null,
   "id": "450cc12c",
   "metadata": {},
   "outputs": [],
   "source": [
    "# X_train = pd.DataFrame(np.vstack([x for _, x in pred_dict_total.items()]).T)\n",
    "# X_test = pd.DataFrame(np.vstack([x for _, x in pred_test_dict_total.items()]).T)\n",
    "\n",
    "# sampler = TPESampler(seed=basic_seed)\n",
    "# stack_study = optuna.create_study(study_name=\"stack_parameter_opt\", direction=\"minimize\", sampler=sampler)\n",
    "# stack_study.optimize(stack_objective, n_trials=num_trial)\n",
    "\n",
    "# stack_best_hyperparams = stack_study.best_trial.params\n",
    "# stack_base_hyperparams = {\"random_state\": basic_seed}\n",
    "# stack_best_hyperparams.update(stack_base_hyperparams)\n",
    "\n",
    "# with open('../pickle/stack_best_hyperparams.pickle', 'wb') as fw:\n",
    "#     pickle.dump(stack_best_hyperparams, fw)\n",
    "# print(\"The best hyperparameters are:\\n\", stack_best_hyperparams)"
   ]
  },
  {
   "cell_type": "code",
   "execution_count": null,
   "id": "b0b06cc2",
   "metadata": {},
   "outputs": [],
   "source": [
    "# optuna.visualization.matplotlib.plot_param_importances(stack_study);"
   ]
  },
  {
   "cell_type": "code",
   "execution_count": null,
   "id": "0e71b736",
   "metadata": {},
   "outputs": [],
   "source": [
    "# optuna.visualization.matplotlib.plot_slice(stack_study);"
   ]
  },
  {
   "cell_type": "code",
   "execution_count": null,
   "id": "609578e8",
   "metadata": {},
   "outputs": [],
   "source": [
    "with open('../pickle/stack_best_hyperparams.pickle', 'rb') as fw:\n",
    "    stack_best_hyperparams = pickle.load(fw)"
   ]
  },
  {
   "cell_type": "code",
   "execution_count": null,
   "id": "5cc49ca8",
   "metadata": {},
   "outputs": [],
   "source": [
    "pred = np.zeros(rows_train)\n",
    "pred_test = np.zeros(rows_test)\n",
    "kfold = StratifiedKFold(n_splits=splits_tr, random_state=basic_seed, shuffle = True)\n",
    "\n",
    "for n, (train_idx, val_idx) in enumerate(kfold.split(X_train, train_y)):\n",
    "    x_train, x_val = X_train.iloc[train_idx], X_train.iloc[val_idx]\n",
    "    y_train, y_val = train_y.iloc[train_idx], train_y.iloc[val_idx]\n",
    "\n",
    "    dtrain = xgb.DMatrix(x_train, label=y_train)\n",
    "    dvalid = xgb.DMatrix(x_val, label=y_val)\n",
    "    watchlist = [(dtrain, 'train'), (dvalid, 'valid')]\n",
    "                                                                                        # 진행상황 보고싶을때 None을 100으로\n",
    "    stack_xgbmodel = xgb.train(stack_best_hyperparams, dtrain, 100000, watchlist, early_stopping_rounds=30, verbose_eval=None)\n",
    "    \n",
    "    pred[val_idx] = stack_xgbmodel.predict(dvalid)\n",
    "    pred_test += stack_xgbmodel.predict(xgb.DMatrix(X_test)) / splits_tr"
   ]
  },
  {
   "cell_type": "code",
   "execution_count": null,
   "id": "805c915c",
   "metadata": {},
   "outputs": [],
   "source": [
    "print(f'CV mean_absolute_error: {mean_absolute_error(train_y, pred):.6f}')"
   ]
  },
  {
   "cell_type": "markdown",
   "id": "ffb2504d",
   "metadata": {},
   "source": [
    "# 4. Blending"
   ]
  },
  {
   "cell_type": "code",
   "execution_count": null,
   "id": "38356128",
   "metadata": {},
   "outputs": [],
   "source": [
    "stack_train = pred.copy()\n",
    "stack_test = pred_test.copy()"
   ]
  },
  {
   "cell_type": "code",
   "execution_count": null,
   "id": "00caa2f6",
   "metadata": {},
   "outputs": [],
   "source": [
    "candidate = np.arange(0, 15)\n",
    "permute = permutations(candidate, 3)\n",
    "score = {}\n",
    "for i in list(permute):\n",
    "    pred_permute = (sum(pred_dict_lgb.values())/sel_seed * i[0] +\n",
    "                  sum(pred_dict_xgb.values())/sel_seed * i[1] +\n",
    "#               sum(pred_dict_cnn.values())/sel_seed * i[2] +\n",
    "#               sum(pred_dict_rcnn.values())/sel_seed * i[3] +\n",
    "                               stack_train * i[2])\n",
    "    score[i] = mean_absolute_error(train_y, pred_permute/sum(i))\n",
    "\n",
    "score = dict(sorted(score.items(), key=lambda x: x[1], reverse=False)[:5])\n",
    "score"
   ]
  },
  {
   "cell_type": "code",
   "execution_count": null,
   "id": "59a80421",
   "metadata": {},
   "outputs": [],
   "source": [
    "pred = (sum(pred_dict_lgb.values())/sel_seed * list(score.keys())[0][0] +\n",
    "        sum(pred_dict_xgb.values())/sel_seed * list(score.keys())[0][1] +\n",
    "#         sum(pred_dict_cnn.values())/sel_seed * list(score.keys())[0][2] +\n",
    "#         sum(pred_dict_rcnn.values())/sel_seed * list(score.keys())[0][3] +\n",
    "        stack_train * list(score.keys())[0][2]\n",
    "       ) / sum(list(score.keys())[0])\n",
    "mean_absolute_error(train_y, pred)"
   ]
  },
  {
   "cell_type": "code",
   "execution_count": null,
   "id": "f60bd229",
   "metadata": {},
   "outputs": [],
   "source": [
    "pred_test = (sum(pred_test_dict_lgb.values())/3 * list(score.keys())[0][0] +\n",
    "             sum(pred_test_dict_xgb.values())/3 * list(score.keys())[0][1] +\n",
    "#              sum(pred_test_dict_cnn.values())/3 * list(score.keys())[0][2] +\n",
    "#              sum(pred_test_dict_rcnn.values())/3 * list(score.keys())[0][3] +\n",
    "             stack_test * list(score.keys())[0][2]\n",
    "            ) / sum(list(score.keys())[0])"
   ]
  },
  {
   "cell_type": "code",
   "execution_count": null,
   "id": "f6fc6fc0",
   "metadata": {},
   "outputs": [],
   "source": []
  },
  {
   "cell_type": "code",
   "execution_count": null,
   "id": "433d7bc8",
   "metadata": {},
   "outputs": [],
   "source": []
  },
  {
   "cell_type": "code",
   "execution_count": null,
   "id": "8f73098a",
   "metadata": {},
   "outputs": [],
   "source": []
  },
  {
   "cell_type": "code",
   "execution_count": null,
   "id": "2da3e630",
   "metadata": {},
   "outputs": [],
   "source": [
    "candidate = np.arange(0, 11)\n",
    "permute = permutations(candidate,5)\n",
    "score = {}\n",
    "for i in list(permute):\n",
    "    pred_permute = (sum(pred_dict_lgb.values())/sel_seed * i[0] +\n",
    "                    sum(pred_dict_xgb.values())/sel_seed * i[1] +\n",
    "                    sum(pred_dict_cnn.values())/sel_seed * i[2] +\n",
    "                    sum(pred_dict_rcnn.values())/sel_seed * i[3] +\n",
    "                    stack_train * i[4]\n",
    "                   ) / \n",
    "    score[i] = mean_absolute_error(train_y, pred_permute/sum(i))\n",
    "\n",
    "score = dict(sorted(score.items(), key=lambda x: x[1], reverse=False)[:5])\n",
    "score"
   ]
  },
  {
   "cell_type": "code",
   "execution_count": null,
   "id": "dddbd619",
   "metadata": {},
   "outputs": [],
   "source": [
    "pred = (sum(pred_dict_lgb.values())/sel_seed * list(score.keys())[0][0] +\n",
    "        sum(pred_dict_xgb.values())/sel_seed * list(score.keys())[0][1] +\n",
    "        sum(pred_dict_cnn.values())/sel_seed * list(score.keys())[0][2] +\n",
    "        sum(pred_dict_rcnn.values())/sel_seed * list(score.keys())[0][3] +\n",
    "        stack_train * list(score.keys())[0][4]\n",
    "       ) / sum(list(score.keys())[0])\n",
    "mean_absolute_error(train_y, pred)"
   ]
  },
  {
   "cell_type": "code",
   "execution_count": null,
   "id": "6c414698",
   "metadata": {},
   "outputs": [],
   "source": [
    "pred_test = (sum(pred_test_dict_lgb.values())/3 * list(score.keys())[0][0] +\n",
    "             sum(pred_test_dict_xgb.values())/3 * list(score.keys())[0][1] +\n",
    "             sum(pred_test_dict_cnn.values())/3 * list(score.keys())[0][2] +\n",
    "             sum(pred_test_dict_rcnn.values())/3 * list(score.keys())[0][3] +\n",
    "             stack_test * list(score.keys())[0][4]\n",
    "            ) / sum(list(score.keys())[0])"
   ]
  },
  {
   "cell_type": "markdown",
   "id": "5dc79911",
   "metadata": {},
   "source": [
    "# 5. Weight"
   ]
  },
  {
   "cell_type": "code",
   "execution_count": null,
   "id": "f96896ed",
   "metadata": {},
   "outputs": [],
   "source": [
    "weight_dict = {}\n",
    "for target in tqdm(np.arange(4, 17)):\n",
    "    score_dict = {}\n",
    "    for weight in np.linspace(0.7, 1.3, 601):\n",
    "        score_dict[weight] = mean_absolute_error(train_y, np.where(((pred>target)&(pred<target+1)), pred*weight, pred))\n",
    "    weight_dict[target] = min(score_dict,key=score_dict.get)"
   ]
  },
  {
   "cell_type": "code",
   "execution_count": null,
   "id": "df656f09",
   "metadata": {},
   "outputs": [],
   "source": [
    "for key, value in weight_dict.items():\n",
    "    pred = np.where(((pred>key)&(pred<key+1)), pred*value, pred)\n",
    "    pred_test = np.where(((pred_test>key)&(pred_test<key+1)), pred_test*value, pred_test)"
   ]
  },
  {
   "cell_type": "code",
   "execution_count": null,
   "id": "6302743a",
   "metadata": {},
   "outputs": [],
   "source": [
    "for key, value in weight_dict.items():\n",
    "    pred = np.where(((pred>key)&(pred<key+1)), pred*value, pred)\n",
    "    pred_test = np.where(((pred_test>key)&(pred_test<key+1)), pred_test*value, pred_test)\n",
    "min_target = list(weight_dict.keys())[0]\n",
    "max_target = list(weight_dict.keys())[-1]\n",
    "min_weight = weight_dict[min_target]\n",
    "max_weight = weight_dict[max_target]\n",
    "pred = np.where(pred<min_target, pred*min_weight, pred)\n",
    "pred = np.where(pred>max_target+1, pred*max_weight, pred)\n",
    "pred_test = np.where(pred_test<min_target, pred_test*min_weight, pred_test)\n",
    "pred_test = np.where(pred_test>max_target+1, pred_test*max_weight, pred_test)"
   ]
  },
  {
   "cell_type": "code",
   "execution_count": 48,
   "id": "a9215f7b",
   "metadata": {},
   "outputs": [],
   "source": [
    "submission.Target = np.round(pred_test)"
   ]
  },
  {
   "cell_type": "code",
   "execution_count": 46,
   "id": "dcda87f7",
   "metadata": {},
   "outputs": [],
   "source": [
    "with open('../pickle/autosklearn_cv10_seed0.pickle', 'rb') as fw:\n",
    "    pred_test = pickle.load(fw)"
   ]
  },
  {
   "cell_type": "code",
   "execution_count": 50,
   "id": "2b979f20",
   "metadata": {},
   "outputs": [],
   "source": [
    "submission_name = '20220325'\n",
    "submission_number = '1'\n",
    "submission.to_csv(f'../submission/{submission_name}-{submission_number}.csv', index = False)"
   ]
  }
 ],
 "metadata": {
  "kernelspec": {
   "display_name": "Python 3 (ipykernel)",
   "language": "python",
   "name": "python3"
  },
  "language_info": {
   "codemirror_mode": {
    "name": "ipython",
    "version": 3
   },
   "file_extension": ".py",
   "mimetype": "text/x-python",
   "name": "python",
   "nbconvert_exporter": "python",
   "pygments_lexer": "ipython3",
   "version": "3.9.7"
  }
 },
 "nbformat": 4,
 "nbformat_minor": 5
}
