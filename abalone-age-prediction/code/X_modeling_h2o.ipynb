{
 "cells": [
  {
   "cell_type": "markdown",
   "id": "4e3babe3",
   "metadata": {},
   "source": [
    "# 1. Import"
   ]
  },
  {
   "cell_type": "code",
   "execution_count": null,
   "id": "5d3afc55",
   "metadata": {},
   "outputs": [],
   "source": [
    "# Basic Library\n",
    "import pandas as pd\n",
    "import pickle\n",
    "\n",
    "# Preprocessing\n",
    "from feature_engine import transformation as vt\n",
    "\n",
    "# Modeling\n",
    "import h2o\n",
    "from h2o.automl import H2OAutoML"
   ]
  },
  {
   "cell_type": "markdown",
   "id": "a7452e11",
   "metadata": {},
   "source": [
    "# 2. H2O"
   ]
  },
  {
   "cell_type": "code",
   "execution_count": null,
   "id": "d674eedd",
   "metadata": {},
   "outputs": [],
   "source": [
    "train = pd.read_csv(\"../data/train.csv\")\n",
    "test = pd.read_csv(\"../data/test.csv\")\n",
    "submission = pd.read_csv(\"../data/sample_submission.csv\")"
   ]
  },
  {
   "cell_type": "code",
   "execution_count": null,
   "id": "01abac5c",
   "metadata": {},
   "outputs": [],
   "source": [
    "h2o.init(nthreads=-1, max_mem_size=12)\n",
    "\n",
    "train = h2o.H2OFrame(train)\n",
    "test = h2o.H2OFrame(test)"
   ]
  },
  {
   "cell_type": "code",
   "execution_count": null,
   "id": "5387584c",
   "metadata": {},
   "outputs": [],
   "source": [
    "x = train.columns\n",
    "y = \"Target\"\n",
    "x.remove(y)"
   ]
  },
  {
   "cell_type": "code",
   "execution_count": null,
   "id": "3575ca9b",
   "metadata": {},
   "outputs": [],
   "source": [
    "aml = H2OAutoML(max_models=20, stopping_metric=\"MAE\", sort_metric=\"MAE\", seed=42, project_name=\"H2O\")\n",
    "aml.train(x=x, y=y, training_frame=train)"
   ]
  },
  {
   "cell_type": "code",
   "execution_count": null,
   "id": "da282ade",
   "metadata": {},
   "outputs": [],
   "source": [
    "lb = aml.leaderboard\n",
    "lb.head(rows=lb.nrows)"
   ]
  },
  {
   "cell_type": "code",
   "execution_count": null,
   "id": "2908cfd0",
   "metadata": {},
   "outputs": [],
   "source": [
    "pred_test = aml.predict(test)"
   ]
  }
 ],
 "metadata": {
  "kernelspec": {
   "display_name": "Python 3 (ipykernel)",
   "language": "python",
   "name": "python3"
  },
  "language_info": {
   "codemirror_mode": {
    "name": "ipython",
    "version": 3
   },
   "file_extension": ".py",
   "mimetype": "text/x-python",
   "name": "python",
   "nbconvert_exporter": "python",
   "pygments_lexer": "ipython3",
   "version": "3.9.7"
  }
 },
 "nbformat": 4,
 "nbformat_minor": 5
}
