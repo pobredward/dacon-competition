{
 "cells": [
  {
   "cell_type": "markdown",
   "id": "038a6c13",
   "metadata": {},
   "source": [
    "Lasso, Ridge, Randomforest, ElasticNet, GradientBoostingRegressor, LGBM(dart), XGB(otherBoosting)"
   ]
  },
  {
   "cell_type": "markdown",
   "id": "4e3babe3",
   "metadata": {},
   "source": [
    "# 1. Import"
   ]
  },
  {
   "cell_type": "code",
   "execution_count": 486,
   "id": "5d3afc55",
   "metadata": {},
   "outputs": [],
   "source": [
    "# Basic Library\n",
    "import os\n",
    "import pandas as pd\n",
    "import numpy as np\n",
    "import pickle\n",
    "from itertools import permutations\n",
    "from tqdm.auto import tqdm\n",
    "import warnings\n",
    "warnings.filterwarnings('ignore')\n",
    "\n",
    "# Preprocessing\n",
    "from sklearn.preprocessing import OneHotEncoder, LabelEncoder\n",
    "\n",
    "# HP Tuning\n",
    "import optuna\n",
    "from optuna import Trial\n",
    "from optuna.samplers import TPESampler\n",
    "from optuna.visualization import plot_contour, plot_optimization_history\n",
    "from optuna.visualization import plot_parallel_coordinate, plot_slice, plot_param_importances\n",
    "\n",
    "# Modeling\n",
    "from sklearn.model_selection import StratifiedKFold\n",
    "from sklearn.metrics import mean_absolute_error\n",
    "from lightgbm import LGBMRegressor\n",
    "import xgboost as xgb"
   ]
  },
  {
   "cell_type": "code",
   "execution_count": 437,
   "id": "c700011b",
   "metadata": {},
   "outputs": [],
   "source": [
    "train = pd.read_csv(\"../data/train.csv\")\n",
    "test = pd.read_csv(\"../data/test.csv\")\n",
    "submission = pd.read_csv(\"../data/sample_submission.csv\")"
   ]
  },
  {
   "cell_type": "code",
   "execution_count": 438,
   "id": "d5e4aa3e",
   "metadata": {},
   "outputs": [],
   "source": [
    "train = train.drop('id', axis=1)\n",
    "test = test.drop('id', axis=1)"
   ]
  },
  {
   "cell_type": "code",
   "execution_count": 439,
   "id": "ebf83377",
   "metadata": {},
   "outputs": [
    {
     "name": "stdout",
     "output_type": "stream",
     "text": [
      "Directory already existed : ../pickle\n",
      "Directory already existed : ../model\n",
      "Directory already existed : ../submission\n"
     ]
    }
   ],
   "source": [
    "def create_dir(dir):\n",
    "    if not os.path.exists(dir):\n",
    "        os.makedirs(dir)\n",
    "        print(\"Created Directory :\", dir)\n",
    "    else:\n",
    "        print(\"Directory already existed :\", dir)\n",
    "create_dir(\"../pickle\")\n",
    "create_dir(\"../model\")\n",
    "create_dir(\"../submission\")"
   ]
  },
  {
   "cell_type": "code",
   "execution_count": 464,
   "id": "20b95a29",
   "metadata": {},
   "outputs": [],
   "source": [
    "rows_train = train.shape[0] # 주어진 train data의 row 수\n",
    "rows_test = test.shape[0] # 주어진 test data의 row 수\n",
    "num_trial = 100 # 파라미터 튜닝을 몇 번 진행하는지의 수\n",
    "splits_hp = 5 # 파라미터 튜닝을 진행할 때의 kfold 수\n",
    "splits_tr = 15 # 모델 트레이닝을 진행할 때의 kfold 수\n",
    "basic_seed = 42 # default seed\n",
    "num_seed_hp = 3 # 파라미터 튜닝 seed 개수\n",
    "num_seed_tr = 10 # 트레이닝 seed 개수\n",
    "sel_seed = 3 # 선택할 seed 개수"
   ]
  },
  {
   "cell_type": "markdown",
   "id": "4efd3099",
   "metadata": {},
   "source": [
    "# 2. Modeling"
   ]
  },
  {
   "cell_type": "code",
   "execution_count": 16,
   "id": "cab1b054",
   "metadata": {},
   "outputs": [],
   "source": [
    "pred_dict = {}\n",
    "pred_test_dict = {}"
   ]
  },
  {
   "cell_type": "markdown",
   "id": "85418724",
   "metadata": {},
   "source": [
    "## (1) LightGBM"
   ]
  },
  {
   "cell_type": "code",
   "execution_count": 17,
   "id": "bcdc78af",
   "metadata": {},
   "outputs": [
    {
     "name": "stdout",
     "output_type": "stream",
     "text": [
      "Category Encoding Completed\n"
     ]
    }
   ],
   "source": [
    "train_lab = train.copy()\n",
    "test_lab = test.copy()\n",
    "\n",
    "for col in train_lab.columns:\n",
    "    if train_lab[col].dtypes=='object':\n",
    "        train_lab[col] = train_lab[col].astype('category')\n",
    "        test_lab[col] = test_lab[col].astype('category')\n",
    "\n",
    "train_x = train_lab.drop(['Target'], axis=1) # 데이터 나누기\n",
    "train_y = train_lab['Target']\n",
    "test_x = test_lab.copy()\n",
    "\n",
    "print('Category Encoding Completed')"
   ]
  },
  {
   "cell_type": "code",
   "execution_count": 18,
   "id": "c03a4b45",
   "metadata": {},
   "outputs": [],
   "source": [
    "def lgb_objective(trial: Trial) -> float:\n",
    "    score_hp = []\n",
    "    for seed_hp in np.random.randint(0, 1000, num_seed_hp):\n",
    "        params_lgb = {\n",
    "            \"random_state\": seed_hp,\n",
    "            \"verbosity\": -1,\n",
    "#             \"metric\": \"mae\",\n",
    "            \"n_estimators\": 10000,\n",
    "            'learning_rate': trial.suggest_loguniform(\"learning_rate\", 2e-3, 1e-1), # default=0.1, range=[0,1]\n",
    "            \"max_depth\": trial.suggest_int(\"max_depth\", 3, 10), # default=-1\n",
    "            \"reg_alpha\": trial.suggest_loguniform(\"reg_alpha\", 1e-2, 1e+2), # default=0\n",
    "            \"reg_lambda\": trial.suggest_loguniform(\"reg_lambda\", 1e-2, 1e+2), # default=0\n",
    "            \"num_leaves\": trial.suggest_int(\"num_leaves\", 31, 3000), # default=31, range=(1,130172]\n",
    "            \"colsample_bytree\": trial.suggest_uniform(\"colsample_bytree\", 0.0, 1.0), # feature_fraction, default=1\n",
    "            \"subsample\": trial.suggest_uniform(\"subsample\", 0.0, 1.0), # bagging_fraction, default=1, range=[0,1]\n",
    "            \"subsample_freq\": trial.suggest_int(\"subsample_freq\", 1, 20), # bagging_freq, default=0\n",
    "            \"min_child_samples\": trial.suggest_int(\"min_child_samples\", 1, 40), # min_data_in_leaf, default=20 \n",
    "            \"max_bin\": trial.suggest_int(\"max_bin\", 100, 500),\n",
    "        }\n",
    "\n",
    "        kfold = StratifiedKFold(n_splits=splits_hp, random_state=basic_seed, shuffle=True) # Cross-validation cv=5\n",
    "        cv = np.zeros(rows_train)\n",
    "\n",
    "        for n, (train_idx, val_idx) in enumerate(kfold.split(train_x, train_y)):\n",
    "\n",
    "            x_train, x_val = train_x.iloc[train_idx], train_x.iloc[val_idx]\n",
    "            y_train, y_val = train_y.iloc[train_idx].values, train_y.iloc[val_idx].values\n",
    "\n",
    "            lgbmodel = LGBMRegressor(**params_lgb)\n",
    "                                                                                            # 진행상황 보고싶을때 -1을 100으로\n",
    "            lgbmodel.fit(x_train, y_train, eval_set=[(x_val, y_val)], early_stopping_rounds=30, verbose=-1) \n",
    "            cv[val_idx] = lgbmodel.predict(x_val)\n",
    "            \n",
    "        score_hp.append(mean_absolute_error(train_y, cv))\n",
    "    \n",
    "    np.mean(score_hp)\n",
    "    return np.mean(score_hp)"
   ]
  },
  {
   "cell_type": "code",
   "execution_count": null,
   "id": "28ede5a6",
   "metadata": {},
   "outputs": [],
   "source": [
    "# sampler = TPESampler(seed=basic_seed)\n",
    "# lgb_study = optuna.create_study(study_name=\"lgb_parameter_opt\", direction=\"minimize\", sampler=sampler)\n",
    "# lgb_study.optimize(lgb_objective, n_trials=num_trial)\n",
    "\n",
    "# lgb_best_hyperparams = lgb_study.best_trial.params\n",
    "# lgb_base_hyperparams = {'n_estimators':10000,\n",
    "# #                         'lambda_l1':lgb_best_hyperparams['reg_alpha'],\n",
    "# #                         'lambda_l2':lgb_best_hyperparams['reg_lambda']\n",
    "#                        }\n",
    "# lgb_best_hyperparams.update(lgb_base_hyperparams)\n",
    "\n",
    "# with open('../pickle/lgb_best_hyperparams.pickle', 'wb') as fw:\n",
    "#     pickle.dump(lgb_best_hyperparams, fw)\n",
    "# print(\"The best hyperparameters are:\\n\", lgb_best_hyperparams)"
   ]
  },
  {
   "cell_type": "code",
   "execution_count": null,
   "id": "5f297638",
   "metadata": {},
   "outputs": [],
   "source": [
    "# optuna.visualization.matplotlib.plot_param_importances(lgb_study);"
   ]
  },
  {
   "cell_type": "code",
   "execution_count": null,
   "id": "3b18fa1d",
   "metadata": {},
   "outputs": [],
   "source": [
    "# optuna.visualization.matplotlib.plot_slice(lgb_study);"
   ]
  },
  {
   "cell_type": "code",
   "execution_count": 25,
   "id": "e38465e7",
   "metadata": {},
   "outputs": [],
   "source": [
    "with open('../pickle/lgb_best_hyperparams.pickle', 'rb') as fw:\n",
    "    lgb_best_hyperparams = pickle.load(fw)"
   ]
  },
  {
   "cell_type": "code",
   "execution_count": 27,
   "id": "d7300f99",
   "metadata": {},
   "outputs": [
    {
     "name": "stdout",
     "output_type": "stream",
     "text": [
      "seed 376 mean_absolute_error : 1.5332986972484361\n",
      "seed 122 mean_absolute_error : 1.5534265936102754\n",
      "seed 417 mean_absolute_error : 1.5326355148005655\n",
      "seed 313 mean_absolute_error : 1.5454973402537098\n",
      "seed 96 mean_absolute_error : 1.540496600501955\n",
      "seed 929 mean_absolute_error : 1.544468281295068\n",
      "seed 403 mean_absolute_error : 1.552674879079668\n",
      "seed 283 mean_absolute_error : 1.5465283947093096\n",
      "seed 191 mean_absolute_error : 1.5558445715850195\n",
      "seed 648 mean_absolute_error : 1.550393248376521\n"
     ]
    }
   ],
   "source": [
    "lucky_seeds = np.random.randint(0, 1000, num_seed_tr)\n",
    "\n",
    "for i, seed in enumerate(lucky_seeds):\n",
    "\n",
    "    kfold = StratifiedKFold(n_splits=splits_tr, random_state=seed, shuffle=True) # CV 늘려가면서 하기\n",
    "    cv = np.zeros(rows_train)\n",
    "    pred_test = np.zeros(rows_test)\n",
    "\n",
    "    for n, (train_idx, val_idx) in enumerate(kfold.split(train_x, train_y)):\n",
    "        \n",
    "        x_train, x_val = train_x.iloc[train_idx], train_x.iloc[val_idx]\n",
    "        y_train, y_val = train_y.iloc[train_idx].values.ravel(), train_y.iloc[val_idx].values.ravel()\n",
    "\n",
    "        lgbmodel = LGBMRegressor(**lgb_best_hyperparams)\n",
    "        lgbmodel.fit(x_train, y_train, eval_set=[(x_val, y_val)], early_stopping_rounds=30, verbose=-1)\n",
    "        \n",
    "        cv[val_idx] = lgbmodel.predict(x_val)\n",
    "        pred_test += lgbmodel.predict(test_x) / splits_tr\n",
    "        \n",
    "    pred_dict['lgb'+str(seed)] = cv\n",
    "    pred_test_dict['lgb'+str(seed)] = pred_test\n",
    "    print(f'seed {seed}', 'mean_absolute_error :', mean_absolute_error(train_y, cv))"
   ]
  },
  {
   "cell_type": "markdown",
   "id": "4f15ffe4",
   "metadata": {},
   "source": [
    "## (2) XGBoost"
   ]
  },
  {
   "cell_type": "code",
   "execution_count": 442,
   "id": "472b0175",
   "metadata": {},
   "outputs": [
    {
     "name": "stdout",
     "output_type": "stream",
     "text": [
      "Label Encoding Completed\n"
     ]
    }
   ],
   "source": [
    "train_lab = train.copy()\n",
    "test_lab = test.copy()\n",
    "\n",
    "enc = LabelEncoder()\n",
    "for col in train_lab.columns:\n",
    "    if train_lab[col].dtypes=='object':\n",
    "        train_lab[col] = enc.fit_transform(train_lab[col])\n",
    "        test_lab[col] = enc.fit_transform(test_lab[col])\n",
    "\n",
    "train_x = train_lab.drop(['Target'], axis=1) # 데이터 나누기\n",
    "train_y = train_lab['Target']\n",
    "test_x = test_lab.copy()\n",
    "\n",
    "print('Label Encoding Completed')"
   ]
  },
  {
   "cell_type": "code",
   "execution_count": 446,
   "id": "1cc1248d",
   "metadata": {},
   "outputs": [],
   "source": [
    "def xgb_objective(trial: Trial) -> float:\n",
    "    score_hp = []\n",
    "    for seed_hp in np.random.randint(0, 1000, num_seed_hp):\n",
    "        params_xgb = {\n",
    "        \"random_state\": seed_hp,\n",
    "        \"verbose\": None,\n",
    "        \"learning_rate\": trial.suggest_loguniform(\"learning_rate\", 2e-3, 1e-1), # eta, default=0.3, range=[0,1]\n",
    "        \"gamma\": trial.suggest_loguniform(\"gamma\", 1e-2, 1e+2), # min_split_loss, default=0, range=[0,∞]\n",
    "        \"max_depth\": trial.suggest_int(\"max_depth\", 4, 10), # default=5, range=[0,∞]\n",
    "        \"min_child_weight\": trial.suggest_int(\"min_child_weight\", 1, 10), #default=1\n",
    "        \"max_delta_step\" : trial.suggest_int(\"max_delta_step\", 0, 10), #default=0\n",
    "        \"subsample\": trial.suggest_uniform(\"subsample\", 0.0, 1.0), # default=1, range=(0,1]\n",
    "        \"colsample_bytree\": trial.suggest_uniform(\"colsample_bytree\", 0.0, 1.0), # default=1, range=(0,1]\n",
    "        \"colsample_bylevel\": trial.suggest_uniform(\"colsample_bylevel\", 0.0, 1.0), # default=1, range=(0,1]\n",
    "        \"colsample_bynode\": trial.suggest_uniform(\"colsample_bynode\", 0.0, 1.0), # default=1, range=(0,1]\n",
    "        \"reg_alpha\": trial.suggest_loguniform(\"reg_alpha\", 1e-2, 1e+2), # default=0, range=[0,∞]\n",
    "        \"reg_lambda\": trial.suggest_loguniform(\"reg_lambda\", 1e-2, 1e+2), # default=1, range=[0,∞]\n",
    "        \"max_bin\": trial.suggest_int(\"max_bin\", 100, 400),\n",
    "        }\n",
    "\n",
    "        kfold = StratifiedKFold(n_splits=splits_hp, random_state=basic_seed, shuffle=True) # Cross-validation cv=5\n",
    "        cv = np.zeros(rows_train)\n",
    "\n",
    "        for n, (train_idx, val_idx) in enumerate(kfold.split(train_x, train_y)):\n",
    "\n",
    "            x_train, x_val = train_x.iloc[train_idx], train_x.iloc[val_idx]\n",
    "            y_train, y_val = train_y.iloc[train_idx].values, train_y.iloc[val_idx].values\n",
    "            \n",
    "            dtrain = xgb.DMatrix(x_train, label=y_train)\n",
    "            dvalid = xgb.DMatrix(x_val, label=y_val)\n",
    "            watchlist = [(dtrain, 'train'), (dvalid, 'valid')]\n",
    "                                                                                                # 진행상황 보고싶을때 None을 100으로\n",
    "            xgbmodel = xgb.train(params_xgb, dtrain, 100000, watchlist, early_stopping_rounds=30, verbose_eval=None)\n",
    "            cv[val_idx] = xgbmodel.predict(dvalid)\n",
    "            \n",
    "        score_hp.append(mean_absolute_error(train_y, cv))\n",
    "    \n",
    "    np.mean(score_hp)\n",
    "#     pred_hp_dict['lgb'+str(seed)] = cv\n",
    "#     print(f'seed {seed}', 'mean_absolute_error :', mean_absolute_error(train_y, cv))\n",
    "    \n",
    "#     return mean_absolute_error(train_y, cv)\n",
    "    return np.mean(score_hp)"
   ]
  },
  {
   "cell_type": "code",
   "execution_count": null,
   "id": "8f89709a",
   "metadata": {},
   "outputs": [],
   "source": [
    "# sampler = TPESampler(seed=basic_seed)\n",
    "# xgb_study = optuna.create_study(study_name=\"xgb_parameter_opt\", direction=\"minimize\", sampler=sampler)\n",
    "# xgb_study.optimize(xgb_objective, n_trials=num_trial)\n",
    "\n",
    "# xgb_best_hyperparams = xgb_study.best_trial.params\n",
    "# xgb_base_hyperparams = {\"random_state\": basic_seed}\n",
    "# xgb_best_hyperparams.update(xgb_base_hyperparams)\n",
    "\n",
    "# with open('../pickle/xgb_best_hyperparams.pickle', 'wb') as fw:\n",
    "#     pickle.dump(xgb_best_hyperparams, fw)\n",
    "# print(\"The best hyperparameters are:\\n\", xgb_best_hyperparams)"
   ]
  },
  {
   "cell_type": "code",
   "execution_count": null,
   "id": "1a48a555",
   "metadata": {},
   "outputs": [],
   "source": [
    "# optuna.visualization.matplotlib.plot_param_importances(xgb_study);"
   ]
  },
  {
   "cell_type": "code",
   "execution_count": null,
   "id": "326bafdd",
   "metadata": {},
   "outputs": [],
   "source": [
    "# optuna.visualization.matplotlib.plot_slice(xgb_study);"
   ]
  },
  {
   "cell_type": "code",
   "execution_count": 461,
   "id": "e0985b2d",
   "metadata": {},
   "outputs": [],
   "source": [
    "with open('../pickle/xgb_best_hyperparams.pickle', 'rb') as fw:\n",
    "    xgb_best_hyperparams = pickle.load(fw)"
   ]
  },
  {
   "cell_type": "code",
   "execution_count": 465,
   "id": "95caf6e7",
   "metadata": {},
   "outputs": [
    {
     "name": "stdout",
     "output_type": "stream",
     "text": [
      "seed 855 mean_absolute_error : 1.5400423008446111\n",
      "seed 260 mean_absolute_error : 1.5361560867580526\n",
      "seed 688 mean_absolute_error : 1.5346606413269652\n",
      "seed 587 mean_absolute_error : 1.5275836489434633\n",
      "seed 495 mean_absolute_error : 1.5460346753561107\n",
      "seed 663 mean_absolute_error : 1.5364055114085449\n",
      "seed 392 mean_absolute_error : 1.5396822381761677\n",
      "seed 273 mean_absolute_error : 1.5283113315594454\n",
      "seed 362 mean_absolute_error : 1.5378323035152646\n",
      "seed 740 mean_absolute_error : 1.5491282664007504\n"
     ]
    }
   ],
   "source": [
    "lucky_seeds = np.random.randint(0, 1000, num_seed_tr)\n",
    "xgtest = xgb.DMatrix(test_x)\n",
    "for i, seed in enumerate(lucky_seeds):\n",
    "\n",
    "    kfold = StratifiedKFold(n_splits=splits_tr, random_state=seed, shuffle = True) # CV 늘려가면서 하기\n",
    "    cv=np.zeros(rows_train)\n",
    "    pred_test = np.zeros(rows_test)\n",
    "\n",
    "    for n, (train_idx, val_idx) in enumerate(kfold.split(train_x, train_y)):\n",
    "        \n",
    "        x_train, x_val = train_x.iloc[train_idx], train_x.iloc[val_idx]\n",
    "        y_train, y_val = train_y.iloc[train_idx].values.ravel(), train_y.iloc[val_idx].values.ravel()\n",
    "        \n",
    "        dtrain = xgb.DMatrix(x_train, label=y_train)\n",
    "        dvalid = xgb.DMatrix(x_val, label=y_val)\n",
    "        watchlist = [(dtrain, 'train'), (dvalid, 'valid')]\n",
    "        \n",
    "                                                                                            # 진행상황 보고싶을때 None을 100으로\n",
    "        xgbmodel = xgb.train(xgb_best_hyperparams, dtrain, 100000, watchlist, early_stopping_rounds=30, verbose_eval=None)\n",
    "\n",
    "        cv[val_idx] = xgbmodel.predict(dvalid)\n",
    "        pred_test += xgbmodel.predict(xgtest) / splits_tr # CV 바꾸면 이 숫자도 똑같이 바꿔야함\n",
    "        \n",
    "    pred_dict['xgb'+str(seed)] = cv\n",
    "    pred_test_dict['xgb'+str(seed)] = pred_test\n",
    "    print(f'seed {seed}', 'mean_absolute_error :', mean_absolute_error(train_y, cv))"
   ]
  },
  {
   "cell_type": "markdown",
   "id": "cc3d4a67",
   "metadata": {},
   "source": [
    "# 3. Stacking"
   ]
  },
  {
   "cell_type": "markdown",
   "id": "648daaaf",
   "metadata": {},
   "source": [
    "## (1) Collect Data"
   ]
  },
  {
   "cell_type": "code",
   "execution_count": 466,
   "id": "acb1d754",
   "metadata": {},
   "outputs": [],
   "source": [
    "def sort_dict(model, pred_dict, pred_test_dict):\n",
    "    pred_dict_local = {}\n",
    "    for key, value in pred_dict.items():\n",
    "        if model in key:\n",
    "            pred_dict_local[key]=value\n",
    "\n",
    "    pred_test_dict_local = {}\n",
    "    for key, value in pred_test_dict.items():\n",
    "        if model in key:\n",
    "            pred_test_dict_local[key]=value\n",
    "\n",
    "    pred_dict_new_local = dict(sorted(\n",
    "        pred_dict_local.items(), \n",
    "        key=lambda x:mean_absolute_error((train_y), list(x[1])), reverse=False)[:sel_seed])\n",
    "    pred_test_dict_new_local = {}\n",
    "    for key, value in pred_dict_new_local.items():\n",
    "        pred_test_dict_new_local[key]=pred_test_dict_local[key]\n",
    "        \n",
    "    return pred_dict_new_local, pred_test_dict_new_local"
   ]
  },
  {
   "cell_type": "code",
   "execution_count": 467,
   "id": "5061cffd",
   "metadata": {},
   "outputs": [],
   "source": [
    "pred_dict_lgb, pred_test_dict_lgb = sort_dict('lgb', pred_dict, pred_test_dict)\n",
    "pred_dict_xgb, pred_test_dict_xgb = sort_dict('xgb', pred_dict, pred_test_dict)"
   ]
  },
  {
   "cell_type": "code",
   "execution_count": 468,
   "id": "ebce0c23",
   "metadata": {},
   "outputs": [],
   "source": [
    "def save_dict(model, pred_dict, pred_test_dict):\n",
    "    with open('../pickle/pred_dict_'+model+'.pickle', 'wb') as fw:\n",
    "        pickle.dump(pred_dict, fw)\n",
    "    with open('../pickle/pred_test_dict_'+model+'.pickle', 'wb') as fw:\n",
    "        pickle.dump(pred_test_dict, fw)"
   ]
  },
  {
   "cell_type": "code",
   "execution_count": 469,
   "id": "4f026fc1",
   "metadata": {},
   "outputs": [],
   "source": [
    "save_dict('lgb', pred_dict_lgb, pred_test_dict_lgb)\n",
    "save_dict('xgb', pred_dict_xgb, pred_test_dict_xgb)"
   ]
  },
  {
   "cell_type": "code",
   "execution_count": 470,
   "id": "7df06f04",
   "metadata": {},
   "outputs": [],
   "source": [
    "def load_dict(model):\n",
    "    with open('../pickle/pred_dict_'+model+'.pickle', 'rb') as fw:\n",
    "        pred_dict_new_local = pickle.load(fw)\n",
    "    with open('../pickle/pred_test_dict_'+model+'.pickle', 'rb') as fw:\n",
    "        pred_test_dict_new_local = pickle.load(fw)\n",
    "    return pred_dict_new_local, pred_test_dict_new_local"
   ]
  },
  {
   "cell_type": "code",
   "execution_count": 471,
   "id": "312683f3",
   "metadata": {},
   "outputs": [],
   "source": [
    "pred_dict_lgb, pred_test_dict_lgb = load_dict('lgb')\n",
    "pred_dict_xgb, pred_test_dict_xgb = load_dict('xgb')"
   ]
  },
  {
   "cell_type": "code",
   "execution_count": 472,
   "id": "bc4f6fa6",
   "metadata": {},
   "outputs": [],
   "source": [
    "pred_dict_total = {**pred_dict_lgb, **pred_dict_xgb}\n",
    "pred_test_dict_total = {**pred_test_dict_lgb, **pred_test_dict_xgb}"
   ]
  },
  {
   "cell_type": "markdown",
   "id": "9b98db1d",
   "metadata": {},
   "source": [
    "## (2) HP Tuning"
   ]
  },
  {
   "cell_type": "code",
   "execution_count": 474,
   "id": "0cb8e583",
   "metadata": {},
   "outputs": [],
   "source": [
    "def stack_objective(trial: Trial) -> float:\n",
    "    score_hp = []\n",
    "    for seed_hp in np.random.randint(0, 1000, 5):\n",
    "        params_xgb = {\n",
    "            \"random_state\": basic_seed,\n",
    "            \"verbose\": None,\n",
    "            \"learning_rate\": trial.suggest_loguniform(\"learning_rate\", 1e-3, 1e-1), # eta, default=0.3, range=[0,1]\n",
    "            \"gamma\": trial.suggest_loguniform(\"gamma\", 1e-2, 1e+2), # min_split_loss, default=0, range=[0,∞]\n",
    "            \"max_depth\": trial.suggest_int(\"max_depth\", 4, 10), # default=5, range=[0,∞]\n",
    "            \"min_child_weight\": trial.suggest_int(\"min_child_weight\", 1, 10), #default=1\n",
    "            \"max_delta_step\" : trial.suggest_int(\"max_delta_step\", 0, 10), #default=0\n",
    "            \"subsample\": trial.suggest_uniform(\"subsample\", 0.0, 1.0), # default=1, range=(0,1]\n",
    "            \"colsample_bytree\": trial.suggest_uniform(\"colsample_bytree\", 0.0, 1.0), # default=1, range=(0,1]\n",
    "            \"colsample_bylevel\": trial.suggest_uniform(\"colsample_bylevel\", 0.0, 1.0), # default=1, range=(0,1]\n",
    "            \"colsample_bynode\": trial.suggest_uniform(\"colsample_bynode\", 0.0, 1.0), # default=1, range=(0,1]\n",
    "            \"reg_alpha\": trial.suggest_loguniform(\"reg_alpha\", 1e-2, 1e+2), # default=0, range=[0,∞]\n",
    "            \"reg_lambda\": trial.suggest_loguniform(\"reg_lambda\", 1e-2, 1e+2), # default=1, range=[0,∞]\n",
    "            \"max_bin\": trial.suggest_int(\"max_bin\", 100, 400),\n",
    "        }\n",
    "\n",
    "        kfold = StratifiedKFold(n_splits=splits_hp, random_state=basic_seed, shuffle=True)\n",
    "        cv = np.zeros(rows_train)\n",
    "\n",
    "        for n, (train_idx, val_idx) in enumerate(kfold.split(train_x, train_y)):\n",
    "\n",
    "            x_train, x_val = X_train.iloc[train_idx], X_train.iloc[val_idx]\n",
    "            y_train, y_val = train_y.iloc[train_idx], train_y.iloc[val_idx]\n",
    "\n",
    "            dtrain = xgb.DMatrix(x_train, label=y_train)\n",
    "            dvalid = xgb.DMatrix(x_val, label=y_val)\n",
    "            watchlist = [(dtrain, 'train'), (dvalid, 'valid')]\n",
    "                                                                                                # 진행상황 보고싶을때 None을 100으로\n",
    "            stack_xgbmodel = xgb.train(params_xgb, dtrain, 100000, watchlist, early_stopping_rounds=30, verbose_eval=None)\n",
    "            cv[val_idx] = stack_xgbmodel.predict(dvalid)\n",
    "\n",
    "        score_hp.append(mean_absolute_error(train_y, cv))\n",
    "    \n",
    "    np.mean(score_hp)\n",
    "#     pred_hp_dict['lgb'+str(seed)] = cv\n",
    "#     print(f'seed {seed}', 'mean_absolute_error :', mean_absolute_error(train_y, cv))\n",
    "    \n",
    "#     return mean_absolute_error(train_y, cv)\n",
    "    return np.mean(score_hp)"
   ]
  },
  {
   "cell_type": "code",
   "execution_count": null,
   "id": "905e8225",
   "metadata": {},
   "outputs": [],
   "source": [
    "X_train = pd.DataFrame(np.vstack([x for _, x in pred_dict_total.items()]).T)\n",
    "X_test = pd.DataFrame(np.vstack([x for _, x in pred_test_dict_total.items()]).T)\n",
    "\n",
    "sampler = TPESampler(seed=basic_seed)\n",
    "stack_study = optuna.create_study(study_name=\"stack_parameter_opt\", direction=\"minimize\", sampler=sampler)\n",
    "stack_study.optimize(stack_objective, n_trials=num_trial)\n",
    "\n",
    "stack_best_hyperparams = stack_study.best_trial.params\n",
    "stack_base_hyperparams = {\"random_state\": basic_seed}\n",
    "stack_best_hyperparams.update(stack_base_hyperparams)\n",
    "print(\"The best hyperparameters are:\\n\", stack_best_hyperparams)"
   ]
  },
  {
   "cell_type": "code",
   "execution_count": null,
   "id": "450cc12c",
   "metadata": {},
   "outputs": [],
   "source": [
    "# X_train = pd.DataFrame(np.vstack([x for _, x in pred_dict_total.items()]).T)\n",
    "# X_test = pd.DataFrame(np.vstack([x for _, x in pred_test_dict_total.items()]).T)\n",
    "\n",
    "# sampler = TPESampler(seed=basic_seed)\n",
    "# stack_study = optuna.create_study(study_name=\"stack_parameter_opt\", direction=\"minimize\", sampler=sampler)\n",
    "# stack_study.optimize(stack_objective, n_trials=num_trial)\n",
    "\n",
    "# stack_best_hyperparams = stack_study.best_trial.params\n",
    "# stack_base_hyperparams = {\"random_state\": basic_seed}\n",
    "# stack_best_hyperparams.update(stack_base_hyperparams)\n",
    "\n",
    "# with open('../pickle/stack_best_hyperparams.pickle', 'wb') as fw:\n",
    "#     pickle.dump(stack_best_hyperparams, fw)\n",
    "# print(\"The best hyperparameters are:\\n\", stack_best_hyperparams)"
   ]
  },
  {
   "cell_type": "code",
   "execution_count": null,
   "id": "b0b06cc2",
   "metadata": {},
   "outputs": [],
   "source": [
    "# optuna.visualization.matplotlib.plot_param_importances(stack_study);"
   ]
  },
  {
   "cell_type": "code",
   "execution_count": null,
   "id": "0e71b736",
   "metadata": {},
   "outputs": [],
   "source": [
    "# optuna.visualization.matplotlib.plot_slice(stack_study);"
   ]
  },
  {
   "cell_type": "code",
   "execution_count": 481,
   "id": "609578e8",
   "metadata": {},
   "outputs": [],
   "source": [
    "with open('../pickle/stack_best_hyperparams.pickle', 'rb') as fw:\n",
    "    stack_best_hyperparams = pickle.load(fw)"
   ]
  },
  {
   "cell_type": "code",
   "execution_count": 482,
   "id": "5cc49ca8",
   "metadata": {},
   "outputs": [],
   "source": [
    "pred = np.zeros(rows_train)\n",
    "pred_test = np.zeros(rows_test)\n",
    "kfold = StratifiedKFold(n_splits=splits_tr, random_state=basic_seed, shuffle = True)\n",
    "\n",
    "for n, (train_idx, val_idx) in enumerate(kfold.split(X_train, train_y)):\n",
    "    x_train, x_val = X_train.iloc[train_idx], X_train.iloc[val_idx]\n",
    "    y_train, y_val = train_y.iloc[train_idx], train_y.iloc[val_idx]\n",
    "\n",
    "    dtrain = xgb.DMatrix(x_train, label=y_train)\n",
    "    dvalid = xgb.DMatrix(x_val, label=y_val)\n",
    "    watchlist = [(dtrain, 'train'), (dvalid, 'valid')]\n",
    "                                                                                        # 진행상황 보고싶을때 None을 100으로\n",
    "    stack_xgbmodel = xgb.train(stack_best_hyperparams, dtrain, 100000, watchlist, early_stopping_rounds=30, verbose_eval=None)\n",
    "    \n",
    "    pred[val_idx] = stack_xgbmodel.predict(dvalid)\n",
    "    pred_test += stack_xgbmodel.predict(xgb.DMatrix(X_test)) / splits_tr"
   ]
  },
  {
   "cell_type": "code",
   "execution_count": 483,
   "id": "805c915c",
   "metadata": {},
   "outputs": [
    {
     "name": "stdout",
     "output_type": "stream",
     "text": [
      "CV mean_absolute_error: 1.537498\n"
     ]
    }
   ],
   "source": [
    "print(f'CV mean_absolute_error: {mean_absolute_error(train_y, pred):.6f}')"
   ]
  },
  {
   "cell_type": "markdown",
   "id": "ffb2504d",
   "metadata": {},
   "source": [
    "# 4. Blending"
   ]
  },
  {
   "cell_type": "code",
   "execution_count": 484,
   "id": "38356128",
   "metadata": {},
   "outputs": [],
   "source": [
    "stack_train = pred.copy()\n",
    "stack_test = pred_test.copy()"
   ]
  },
  {
   "cell_type": "code",
   "execution_count": 500,
   "id": "00caa2f6",
   "metadata": {},
   "outputs": [
    {
     "data": {
      "text/plain": [
       "{(8, 11, 4): 1.5211643962697214,\n",
       " (10, 14, 5): 1.52116472164273,\n",
       " (5, 7, 2): 1.521168462362749,\n",
       " (10, 14, 4): 1.521168462362749,\n",
       " (7, 10, 3): 1.5211692112209125}"
      ]
     },
     "execution_count": 500,
     "metadata": {},
     "output_type": "execute_result"
    }
   ],
   "source": [
    "candidate = np.arange(0, 15)\n",
    "permute = permutations(candidate, 3)\n",
    "score = {}\n",
    "for i in list(permute):\n",
    "    pred_permute = (sum(pred_dict_lgb.values())/sel_seed * i[0] +\n",
    "                  sum(pred_dict_xgb.values())/sel_seed * i[1] +\n",
    "#               sum(pred_dict_cnn.values())/sel_seed * i[2] +\n",
    "#               sum(pred_dict_rcnn.values())/sel_seed * i[3] +\n",
    "                               stack_train * i[2])\n",
    "    score[i] = mean_absolute_error(train_y, pred_permute/sum(i))\n",
    "\n",
    "score = dict(sorted(score.items(), key=lambda x: x[1], reverse=False)[:5])\n",
    "score"
   ]
  },
  {
   "cell_type": "code",
   "execution_count": 519,
   "id": "59a80421",
   "metadata": {},
   "outputs": [
    {
     "data": {
      "text/plain": [
       "1.5211643962697214"
      ]
     },
     "execution_count": 519,
     "metadata": {},
     "output_type": "execute_result"
    }
   ],
   "source": [
    "pred = (sum(pred_dict_lgb.values())/sel_seed * list(score.keys())[0][0] +\n",
    "        sum(pred_dict_xgb.values())/sel_seed * list(score.keys())[0][1] +\n",
    "#         sum(pred_dict_cnn.values())/sel_seed * list(score.keys())[0][2] +\n",
    "#         sum(pred_dict_rcnn.values())/sel_seed * list(score.keys())[0][3] +\n",
    "        stack_train * list(score.keys())[0][2]\n",
    "       ) / sum(list(score.keys())[0])\n",
    "mean_absolute_error(train_y, pred)"
   ]
  },
  {
   "cell_type": "code",
   "execution_count": 520,
   "id": "f60bd229",
   "metadata": {},
   "outputs": [],
   "source": [
    "pred_test = (sum(pred_test_dict_lgb.values())/3 * list(score.keys())[0][0] +\n",
    "             sum(pred_test_dict_xgb.values())/3 * list(score.keys())[0][1] +\n",
    "#              sum(pred_test_dict_cnn.values())/3 * list(score.keys())[0][2] +\n",
    "#              sum(pred_test_dict_rcnn.values())/3 * list(score.keys())[0][3] +\n",
    "             stack_test * list(score.keys())[0][2]\n",
    "            ) / sum(list(score.keys())[0])"
   ]
  },
  {
   "cell_type": "code",
   "execution_count": null,
   "id": "f6fc6fc0",
   "metadata": {},
   "outputs": [],
   "source": []
  },
  {
   "cell_type": "code",
   "execution_count": null,
   "id": "433d7bc8",
   "metadata": {},
   "outputs": [],
   "source": []
  },
  {
   "cell_type": "code",
   "execution_count": null,
   "id": "8f73098a",
   "metadata": {},
   "outputs": [],
   "source": []
  },
  {
   "cell_type": "code",
   "execution_count": null,
   "id": "2da3e630",
   "metadata": {},
   "outputs": [],
   "source": [
    "candidate = np.arange(0, 11)\n",
    "permute = permutations(candidate,5)\n",
    "score = {}\n",
    "for i in list(permute):\n",
    "    pred_permute = (sum(pred_dict_lgb.values())/sel_seed * i[0] +\n",
    "                    sum(pred_dict_xgb.values())/sel_seed * i[1] +\n",
    "                    sum(pred_dict_cnn.values())/sel_seed * i[2] +\n",
    "                    sum(pred_dict_rcnn.values())/sel_seed * i[3] +\n",
    "                    stack_train * i[4]\n",
    "                   ) / \n",
    "    score[i] = mean_absolute_error(train_y, pred_permute/sum(i))\n",
    "\n",
    "score = dict(sorted(score.items(), key=lambda x: x[1], reverse=False)[:5])\n",
    "score"
   ]
  },
  {
   "cell_type": "code",
   "execution_count": null,
   "id": "dddbd619",
   "metadata": {},
   "outputs": [],
   "source": [
    "pred = (sum(pred_dict_lgb.values())/sel_seed * list(score.keys())[0][0] +\n",
    "        sum(pred_dict_xgb.values())/sel_seed * list(score.keys())[0][1] +\n",
    "        sum(pred_dict_cnn.values())/sel_seed * list(score.keys())[0][2] +\n",
    "        sum(pred_dict_rcnn.values())/sel_seed * list(score.keys())[0][3] +\n",
    "        stack_train * list(score.keys())[0][4]\n",
    "       ) / sum(list(score.keys())[0])\n",
    "mean_absolute_error(train_y, pred)"
   ]
  },
  {
   "cell_type": "code",
   "execution_count": null,
   "id": "6c414698",
   "metadata": {},
   "outputs": [],
   "source": [
    "pred_test = (sum(pred_test_dict_lgb.values())/3 * list(score.keys())[0][0] +\n",
    "             sum(pred_test_dict_xgb.values())/3 * list(score.keys())[0][1] +\n",
    "             sum(pred_test_dict_cnn.values())/3 * list(score.keys())[0][2] +\n",
    "             sum(pred_test_dict_rcnn.values())/3 * list(score.keys())[0][3] +\n",
    "             stack_test * list(score.keys())[0][4]\n",
    "            ) / sum(list(score.keys())[0])"
   ]
  },
  {
   "cell_type": "markdown",
   "id": "5dc79911",
   "metadata": {},
   "source": [
    "# 5. Weight"
   ]
  },
  {
   "cell_type": "code",
   "execution_count": 507,
   "id": "f96896ed",
   "metadata": {},
   "outputs": [
    {
     "data": {
      "application/vnd.jupyter.widget-view+json": {
       "model_id": "69b99a5d63d547878261584bf5d87ee9",
       "version_major": 2,
       "version_minor": 0
      },
      "text/plain": [
       "  0%|          | 0/13 [00:00<?, ?it/s]"
      ]
     },
     "metadata": {},
     "output_type": "display_data"
    }
   ],
   "source": [
    "weight_dict = {}\n",
    "for target in tqdm(np.arange(4, 17)):\n",
    "    score_dict = {}\n",
    "    for weight in np.linspace(0.7, 1.3, 6001):\n",
    "        score_dict[weight] = mean_absolute_error(train_y, np.where(((pred>target)&(pred<target+1)), pred*weight, pred))\n",
    "    weight_dict[target] = min(score_dict,key=score_dict.get)"
   ]
  },
  {
   "cell_type": "code",
   "execution_count": null,
   "id": "787571b3",
   "metadata": {},
   "outputs": [],
   "source": [
    "mean_absolute_error(train_y, pred)"
   ]
  },
  {
   "cell_type": "code",
   "execution_count": 509,
   "id": "6302743a",
   "metadata": {},
   "outputs": [],
   "source": [
    "for key, value in weight_dict.items():\n",
    "    pred = np.where(((pred>key)&(pred<key+1)), pred*value, pred)\n",
    "    pred_test = np.where(((pred_test>key)&(pred_test<key+1)), pred_test*value, pred_test)\n",
    "min_target = list(weight_dict.keys())[0]\n",
    "max_target = list(weight_dict.keys())[-1]\n",
    "min_weight = weight_dict[min_target]\n",
    "max_weight = weight_dict[max_target]\n",
    "pred = np.where(pred<min_target, pred*min_weight, pred)\n",
    "pred = np.where(pred>max_target+1, pred*max_weight, pred)\n",
    "pred_test = np.where(pred_test<min_target, pred_test*min_weight, pred_test)\n",
    "pred_test = np.where(pred_test>max_target+1, pred_test*max_weight, pred_test)"
   ]
  },
  {
   "cell_type": "code",
   "execution_count": 522,
   "id": "a9215f7b",
   "metadata": {},
   "outputs": [],
   "source": [
    "submission.Target = pred_test"
   ]
  },
  {
   "cell_type": "code",
   "execution_count": 523,
   "id": "2b979f20",
   "metadata": {},
   "outputs": [],
   "source": [
    "submission_name = '20220324'\n",
    "submission_number = '1'\n",
    "submission.to_csv(f'../submission/{submission_name}-{submission_number}.csv', index = False)"
   ]
  }
 ],
 "metadata": {
  "kernelspec": {
   "display_name": "Python 3 (ipykernel)",
   "language": "python",
   "name": "python3"
  },
  "language_info": {
   "codemirror_mode": {
    "name": "ipython",
    "version": 3
   },
   "file_extension": ".py",
   "mimetype": "text/x-python",
   "name": "python",
   "nbconvert_exporter": "python",
   "pygments_lexer": "ipython3",
   "version": "3.9.7"
  }
 },
 "nbformat": 4,
 "nbformat_minor": 5
}
