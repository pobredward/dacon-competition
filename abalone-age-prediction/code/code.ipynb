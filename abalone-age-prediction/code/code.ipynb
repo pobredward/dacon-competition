{
 "cells": [
  {
   "cell_type": "markdown",
   "id": "4e3babe3",
   "metadata": {},
   "source": [
    "# 1. Import"
   ]
  },
  {
   "cell_type": "code",
   "execution_count": 201,
   "id": "5d3afc55",
   "metadata": {},
   "outputs": [],
   "source": [
    "# Basic Library\n",
    "import pandas as pd\n",
    "import numpy as np\n",
    "import warnings\n",
    "warnings.filterwarnings('ignore')\n",
    "\n",
    "# Preprocessing\n",
    "from sklearn.preprocessing import OneHotEncoder, LabelEncoder\n",
    "\n",
    "# Modeling\n",
    "from sklearn.model_selection import train_test_split\n",
    "from sklearn.metrics import mean_absolute_error\n",
    "from lightgbm import LGBMRegressor"
   ]
  },
  {
   "cell_type": "code",
   "execution_count": 202,
   "id": "c700011b",
   "metadata": {},
   "outputs": [],
   "source": [
    "train = pd.read_csv(\"../data/train.csv\")\n",
    "test = pd.read_csv(\"../data/test.csv\")\n",
    "submission = pd.read_csv(\"../data/sample_submission.csv\")"
   ]
  },
  {
   "cell_type": "code",
   "execution_count": 203,
   "id": "d5e4aa3e",
   "metadata": {},
   "outputs": [],
   "source": [
    "train = train.drop('id', axis=1)\n",
    "test = test.drop('id', axis=1)"
   ]
  },
  {
   "cell_type": "code",
   "execution_count": 204,
   "id": "ebf83377",
   "metadata": {},
   "outputs": [
    {
     "name": "stdout",
     "output_type": "stream",
     "text": [
      "Directory already existed : ../pickle\n",
      "Directory already existed : ../model\n",
      "Directory already existed : ../submission\n"
     ]
    }
   ],
   "source": [
    "def create_dir(dir):\n",
    "    if not os.path.exists(dir):\n",
    "        os.makedirs(dir)\n",
    "        print(\"Created Directory :\", dir)\n",
    "    else:\n",
    "        print(\"Directory already existed :\", dir)\n",
    "create_dir(\"../pickle\")\n",
    "create_dir(\"../model\")\n",
    "create_dir(\"../submission\")"
   ]
  },
  {
   "cell_type": "code",
   "execution_count": 205,
   "id": "dbf6e83c",
   "metadata": {},
   "outputs": [
    {
     "data": {
      "text/plain": [
       "Gender             object\n",
       "Lenght            float64\n",
       "Diameter          float64\n",
       "Height            float64\n",
       "Whole Weight      float64\n",
       "Shucked Weight    float64\n",
       "Viscra Weight     float64\n",
       "Shell Weight      float64\n",
       "Target              int64\n",
       "dtype: object"
      ]
     },
     "execution_count": 205,
     "metadata": {},
     "output_type": "execute_result"
    }
   ],
   "source": [
    "train.dtypes"
   ]
  },
  {
   "cell_type": "code",
   "execution_count": 298,
   "id": "20b95a29",
   "metadata": {},
   "outputs": [],
   "source": [
    "rows_train = train.shape[0] # 주어진 train data의 row 수\n",
    "rows_test = test.shape[0] # 주어진 test data의 row 수\n",
    "num_trial = 20 # 파라미터 튜닝을 몇 번 진행하는지의 수\n",
    "splits_hp = 10 # 파라미터 튜닝을 진행할 때의 kfold 수\n",
    "splits_tr = 15 # 모델 트레이닝을 진행할 때의 kfold 수\n",
    "basic_seed = 42 # default seed\n",
    "num_seed = 10 # 트레이닝 seed 개수\n",
    "sel_seed = 3 # 선택할 seed 개수"
   ]
  },
  {
   "cell_type": "markdown",
   "id": "3805acb9",
   "metadata": {},
   "source": [
    "# 2. Data Preprocessing"
   ]
  },
  {
   "cell_type": "code",
   "execution_count": 207,
   "id": "472b0175",
   "metadata": {},
   "outputs": [
    {
     "name": "stdout",
     "output_type": "stream",
     "text": [
      "Label Encoding Completed\n"
     ]
    }
   ],
   "source": [
    "train_lab = train.copy()\n",
    "test_lab = test.copy()\n",
    "\n",
    "enc = LabelEncoder()\n",
    "for col in train_lab.columns:\n",
    "    if train_lab[col].dtypes=='object':\n",
    "        train_lab[col] = enc.fit_transform(train_lab[col])\n",
    "        test_lab[col] = enc.fit_transform(test_lab[col])\n",
    "\n",
    "train_x = train_lab.drop(['Target'], axis=1) # 데이터 나누기\n",
    "train_y = train_lab['Target']\n",
    "test_x = test_lab.copy()\n",
    "\n",
    "print('Label Encoding Completed')"
   ]
  },
  {
   "cell_type": "markdown",
   "id": "4efd3099",
   "metadata": {},
   "source": [
    "# 3. Modeling"
   ]
  },
  {
   "cell_type": "markdown",
   "id": "85418724",
   "metadata": {},
   "source": [
    "## (1) LightGBM"
   ]
  },
  {
   "cell_type": "code",
   "execution_count": 353,
   "id": "79de6893",
   "metadata": {},
   "outputs": [],
   "source": [
    "def lgb_objective(trial: Trial) -> float:\n",
    "    params_lgb = {\n",
    "        \"random_state\": basic_seed,\n",
    "        \"verbosity\": -1,\n",
    "        \"n_estimators\": 10000,\n",
    "        'learning_rate': trial.suggest_uniform(\"learning_rate\", 0.001, 0.1),\n",
    "        \"max_depth\": trial.suggest_int(\"max_depth\", 3, 6),\n",
    "#         \"reg_alpha\": trial.suggest_uniform(\"reg_alpha\", 0.0, 0.5),\n",
    "#         \"reg_lambda\": trial.suggest_uniform(\"reg_lambda\", 0.0, 0.5),\n",
    "         \"num_leaves\": trial.suggest_int(\"num_leaves\", 31, 500),\n",
    "#         \"colsample_bytree\": trial.suggest_uniform(\"colsample_bytree\", 0.5, 1.0), # feature_fraction\n",
    "#         \"subsample\": trial.suggest_uniform(\"subsample\", 0.1, 1.0),\n",
    "#         \"subsample_freq\": trial.suggest_int(\"subsample_freq\", 1, 10),\n",
    "#         \"min_child_samples\": trial.suggest_int(\"min_child_samples\", 1, 10),\n",
    "#         \"max_bin\": trial.suggest_int(\"max_bin\", 150, 400),\n",
    "    }\n",
    "    \n",
    "    kfold = StratifiedKFold(n_splits=splits_hp, random_state=basic_seed, shuffle=True) # Cross-validation cv=5\n",
    "    cv = np.zeros(rows_train)\n",
    "\n",
    "    for n, (train_idx, val_idx) in enumerate(kfold.split(train_x, train_y)):\n",
    "\n",
    "        x_train, x_val = train_x.iloc[train_idx], train_x.iloc[val_idx]\n",
    "        y_train, y_val = train_y.iloc[train_idx].values, train_y.iloc[val_idx].values\n",
    "\n",
    "        lgbmodel = LGBMRegressor(**params_lgb)\n",
    "                                                                                        # 진행상황 보고싶을때 -1을 100으로\n",
    "        lgbmodel.fit(x_train, y_train, eval_set=[(x_val, y_val)], early_stopping_rounds=10, verbose=-1) \n",
    "        cv[val_idx] = lgbmodel.predict(x_val)\n",
    "        \n",
    "    print('MAE:', mean_absolute_error(train_y, cv))\n",
    "    return mean_absolute_error(train_y, cv)"
   ]
  },
  {
   "cell_type": "code",
   "execution_count": 354,
   "id": "06a854c4",
   "metadata": {},
   "outputs": [
    {
     "name": "stderr",
     "output_type": "stream",
     "text": [
      "\u001b[32m[I 2022-03-21 12:26:53,690]\u001b[0m A new study created in memory with name: lgb_parameter_opt\u001b[0m\n",
      "\u001b[32m[I 2022-03-21 12:26:54,313]\u001b[0m Trial 0 finished with value: 1.5680543880703386 and parameters: {'learning_rate': 0.03807947176588889, 'max_depth': 6, 'num_leaves': 375}. Best is trial 0 with value: 1.5680543880703386.\u001b[0m\n"
     ]
    },
    {
     "name": "stdout",
     "output_type": "stream",
     "text": [
      "MAE: 1.5680543880703386\n"
     ]
    },
    {
     "name": "stderr",
     "output_type": "stream",
     "text": [
      "\u001b[32m[I 2022-03-21 12:26:54,641]\u001b[0m Trial 1 finished with value: 1.5876377427418018 and parameters: {'learning_rate': 0.06026718993550663, 'max_depth': 3, 'num_leaves': 104}. Best is trial 0 with value: 1.5680543880703386.\u001b[0m\n"
     ]
    },
    {
     "name": "stdout",
     "output_type": "stream",
     "text": [
      "MAE: 1.5876377427418018\n"
     ]
    },
    {
     "name": "stderr",
     "output_type": "stream",
     "text": [
      "\u001b[32m[I 2022-03-21 12:26:57,347]\u001b[0m Trial 2 finished with value: 1.5693071534431322 and parameters: {'learning_rate': 0.006750277604651747, 'max_depth': 6, 'num_leaves': 313}. Best is trial 0 with value: 1.5680543880703386.\u001b[0m\n"
     ]
    },
    {
     "name": "stdout",
     "output_type": "stream",
     "text": [
      "MAE: 1.5693071534431322\n"
     ]
    },
    {
     "name": "stderr",
     "output_type": "stream",
     "text": [
      "\u001b[32m[I 2022-03-21 12:26:57,705]\u001b[0m Trial 3 finished with value: 1.5822098109614693 and parameters: {'learning_rate': 0.07109918520180851, 'max_depth': 3, 'num_leaves': 486}. Best is trial 0 with value: 1.5680543880703386.\u001b[0m\n"
     ]
    },
    {
     "name": "stdout",
     "output_type": "stream",
     "text": [
      "MAE: 1.5822098109614693\n"
     ]
    },
    {
     "name": "stderr",
     "output_type": "stream",
     "text": [
      "\u001b[32m[I 2022-03-21 12:26:58,072]\u001b[0m Trial 4 finished with value: 1.5827459958112535 and parameters: {'learning_rate': 0.08341182143924175, 'max_depth': 3, 'num_leaves': 116}. Best is trial 0 with value: 1.5680543880703386.\u001b[0m\n"
     ]
    },
    {
     "name": "stdout",
     "output_type": "stream",
     "text": [
      "MAE: 1.5827459958112535\n"
     ]
    },
    {
     "name": "stderr",
     "output_type": "stream",
     "text": [
      "\u001b[32m[I 2022-03-21 12:26:59,021]\u001b[0m Trial 5 finished with value: 1.5719575679994189 and parameters: {'learning_rate': 0.01915704647548995, 'max_depth': 4, 'num_leaves': 277}. Best is trial 0 with value: 1.5680543880703386.\u001b[0m\n"
     ]
    },
    {
     "name": "stdout",
     "output_type": "stream",
     "text": [
      "MAE: 1.5719575679994189\n"
     ]
    },
    {
     "name": "stderr",
     "output_type": "stream",
     "text": [
      "\u001b[32m[I 2022-03-21 12:26:59,553]\u001b[0m Trial 6 finished with value: 1.5722425226407246 and parameters: {'learning_rate': 0.04376255684556946, 'max_depth': 4, 'num_leaves': 318}. Best is trial 0 with value: 1.5680543880703386.\u001b[0m\n"
     ]
    },
    {
     "name": "stdout",
     "output_type": "stream",
     "text": [
      "MAE: 1.5722425226407246\n"
     ]
    },
    {
     "name": "stderr",
     "output_type": "stream",
     "text": [
      "\u001b[32m[I 2022-03-21 12:27:00,857]\u001b[0m Trial 7 finished with value: 1.5712197100206562 and parameters: {'learning_rate': 0.01480989220455214, 'max_depth': 4, 'num_leaves': 203}. Best is trial 0 with value: 1.5680543880703386.\u001b[0m\n"
     ]
    },
    {
     "name": "stdout",
     "output_type": "stream",
     "text": [
      "MAE: 1.5712197100206562\n"
     ]
    },
    {
     "name": "stderr",
     "output_type": "stream",
     "text": [
      "\u001b[32m[I 2022-03-21 12:27:01,661]\u001b[0m Trial 8 finished with value: 1.5652644053710962 and parameters: {'learning_rate': 0.04615092843748656, 'max_depth': 6, 'num_leaves': 124}. Best is trial 8 with value: 1.5652644053710962.\u001b[0m\n"
     ]
    },
    {
     "name": "stdout",
     "output_type": "stream",
     "text": [
      "MAE: 1.5652644053710962\n"
     ]
    },
    {
     "name": "stderr",
     "output_type": "stream",
     "text": [
      "\u001b[32m[I 2022-03-21 12:27:02,204]\u001b[0m Trial 9 finished with value: 1.5652104760698937 and parameters: {'learning_rate': 0.051909209402947555, 'max_depth': 5, 'num_leaves': 52}. Best is trial 9 with value: 1.5652104760698937.\u001b[0m\n"
     ]
    },
    {
     "name": "stdout",
     "output_type": "stream",
     "text": [
      "MAE: 1.5652104760698937\n"
     ]
    },
    {
     "name": "stderr",
     "output_type": "stream",
     "text": [
      "\u001b[32m[I 2022-03-21 12:27:02,575]\u001b[0m Trial 10 finished with value: 1.5716132947092973 and parameters: {'learning_rate': 0.09456851787880828, 'max_depth': 5, 'num_leaves': 34}. Best is trial 9 with value: 1.5652104760698937.\u001b[0m\n"
     ]
    },
    {
     "name": "stdout",
     "output_type": "stream",
     "text": [
      "MAE: 1.5716132947092973\n"
     ]
    },
    {
     "name": "stderr",
     "output_type": "stream",
     "text": [
      "\u001b[32m[I 2022-03-21 12:27:03,288]\u001b[0m Trial 11 finished with value: 1.567781513333312 and parameters: {'learning_rate': 0.035338238249255575, 'max_depth': 5, 'num_leaves': 164}. Best is trial 9 with value: 1.5652104760698937.\u001b[0m\n"
     ]
    },
    {
     "name": "stdout",
     "output_type": "stream",
     "text": [
      "MAE: 1.567781513333312\n"
     ]
    },
    {
     "name": "stderr",
     "output_type": "stream",
     "text": [
      "\u001b[32m[I 2022-03-21 12:27:03,856]\u001b[0m Trial 12 finished with value: 1.5659736484590825 and parameters: {'learning_rate': 0.05840526177104801, 'max_depth': 6, 'num_leaves': 49}. Best is trial 9 with value: 1.5652104760698937.\u001b[0m\n"
     ]
    },
    {
     "name": "stdout",
     "output_type": "stream",
     "text": [
      "MAE: 1.5659736484590825\n"
     ]
    },
    {
     "name": "stderr",
     "output_type": "stream",
     "text": [
      "\u001b[32m[I 2022-03-21 12:27:04,361]\u001b[0m Trial 13 finished with value: 1.561268008691888 and parameters: {'learning_rate': 0.051714576363635446, 'max_depth': 5, 'num_leaves': 198}. Best is trial 13 with value: 1.561268008691888.\u001b[0m\n"
     ]
    },
    {
     "name": "stdout",
     "output_type": "stream",
     "text": [
      "MAE: 1.561268008691888\n"
     ]
    },
    {
     "name": "stderr",
     "output_type": "stream",
     "text": [
      "\u001b[32m[I 2022-03-21 12:27:04,823]\u001b[0m Trial 14 finished with value: 1.5658607708257255 and parameters: {'learning_rate': 0.07123933358570064, 'max_depth': 5, 'num_leaves': 191}. Best is trial 13 with value: 1.561268008691888.\u001b[0m\n"
     ]
    },
    {
     "name": "stdout",
     "output_type": "stream",
     "text": [
      "MAE: 1.5658607708257255\n"
     ]
    },
    {
     "name": "stderr",
     "output_type": "stream",
     "text": [
      "\u001b[32m[I 2022-03-21 12:27:05,799]\u001b[0m Trial 15 finished with value: 1.5635548910620882 and parameters: {'learning_rate': 0.027601432165172437, 'max_depth': 5, 'num_leaves': 238}. Best is trial 13 with value: 1.561268008691888.\u001b[0m\n"
     ]
    },
    {
     "name": "stdout",
     "output_type": "stream",
     "text": [
      "MAE: 1.5635548910620882\n"
     ]
    },
    {
     "name": "stderr",
     "output_type": "stream",
     "text": [
      "\u001b[32m[I 2022-03-21 12:27:06,711]\u001b[0m Trial 16 finished with value: 1.5623862594711786 and parameters: {'learning_rate': 0.027432116221591595, 'max_depth': 5, 'num_leaves': 241}. Best is trial 13 with value: 1.561268008691888.\u001b[0m\n"
     ]
    },
    {
     "name": "stdout",
     "output_type": "stream",
     "text": [
      "MAE: 1.5623862594711786\n"
     ]
    },
    {
     "name": "stderr",
     "output_type": "stream",
     "text": [
      "\u001b[32m[I 2022-03-21 12:27:07,437]\u001b[0m Trial 17 finished with value: 1.571029084421453 and parameters: {'learning_rate': 0.024839985812590105, 'max_depth': 4, 'num_leaves': 402}. Best is trial 13 with value: 1.561268008691888.\u001b[0m\n"
     ]
    },
    {
     "name": "stdout",
     "output_type": "stream",
     "text": [
      "MAE: 1.571029084421453\n"
     ]
    },
    {
     "name": "stderr",
     "output_type": "stream",
     "text": [
      "\u001b[32m[I 2022-03-21 12:27:11,547]\u001b[0m Trial 18 finished with value: 1.565987797658077 and parameters: {'learning_rate': 0.004955715250860696, 'max_depth': 5, 'num_leaves': 244}. Best is trial 13 with value: 1.561268008691888.\u001b[0m\n"
     ]
    },
    {
     "name": "stdout",
     "output_type": "stream",
     "text": [
      "MAE: 1.565987797658077\n"
     ]
    },
    {
     "name": "stderr",
     "output_type": "stream",
     "text": [
      "\u001b[32m[I 2022-03-21 12:27:12,256]\u001b[0m Trial 19 finished with value: 1.5701513394016802 and parameters: {'learning_rate': 0.03035018068620994, 'max_depth': 4, 'num_leaves': 368}. Best is trial 13 with value: 1.561268008691888.\u001b[0m\n"
     ]
    },
    {
     "name": "stdout",
     "output_type": "stream",
     "text": [
      "MAE: 1.5701513394016802\n",
      "The best hyperparameters are:\n",
      " {'learning_rate': 0.051714576363635446, 'max_depth': 5, 'num_leaves': 198, 'n_estimators': 10000}\n"
     ]
    }
   ],
   "source": [
    "sampler = TPESampler(seed=basic_seed)\n",
    "lgb_study = optuna.create_study(study_name=\"lgb_parameter_opt\", direction=\"minimize\", sampler=sampler)\n",
    "lgb_study.optimize(lgb_objective, n_trials=num_trial)\n",
    "\n",
    "lgb_best_hyperparams = lgb_study.best_trial.params\n",
    "lgb_base_hyperparams = {'n_estimators':10000,\n",
    "#                         'lambda_l1':lgb_best_hyperparams['reg_alpha'],\n",
    "#                         'lambda_l2':lgb_best_hyperparams['reg_lambda']\n",
    "                       }\n",
    "lgb_best_hyperparams.update(lgb_base_hyperparams)\n",
    "print(\"The best hyperparameters are:\\n\", lgb_best_hyperparams)"
   ]
  },
  {
   "cell_type": "code",
   "execution_count": 355,
   "id": "5f297638",
   "metadata": {},
   "outputs": [
    {
     "data": {
      "image/png": "[encoded data removed]",
      "text/plain": [
       "<Figure size 432x288 with 1 Axes>"
      ]
     },
     "metadata": {},
     "output_type": "display_data"
    }
   ],
   "source": [
    "optuna.visualization.matplotlib.plot_param_importances(lgb_study);"
   ]
  },
  {
   "cell_type": "code",
   "execution_count": 356,
   "id": "3b18fa1d",
   "metadata": {},
   "outputs": [
    {
     "data": {
      "image/png": "[encoded data removed]",
      "text/plain": [
       "<Figure size 648x288 with 4 Axes>"
      ]
     },
     "metadata": {},
     "output_type": "display_data"
    }
   ],
   "source": [
    "optuna.visualization.matplotlib.plot_slice(lgb_study);"
   ]
  },
  {
   "cell_type": "code",
   "execution_count": null,
   "id": "5132b28d",
   "metadata": {},
   "outputs": [],
   "source": []
  },
  {
   "cell_type": "code",
   "execution_count": null,
   "id": "d7300f99",
   "metadata": {},
   "outputs": [],
   "source": []
  },
  {
   "cell_type": "code",
   "execution_count": null,
   "id": "9f80c8ca",
   "metadata": {},
   "outputs": [],
   "source": []
  },
  {
   "cell_type": "code",
   "execution_count": 357,
   "id": "22dfcfa3",
   "metadata": {},
   "outputs": [],
   "source": [
    "base_typerparameters = {'learning_rate': 0.051714576363635446, 'max_depth': 5, 'num_leaves': 198, 'n_estimators': 10000}"
   ]
  },
  {
   "cell_type": "code",
   "execution_count": 333,
   "id": "df14fdfc",
   "metadata": {},
   "outputs": [],
   "source": [
    "base_typerparameters = {'learning_rate': 0.1, 'max_depth': 3, 'verbose': 3, 'force_row_wise': True}"
   ]
  },
  {
   "cell_type": "code",
   "execution_count": 265,
   "id": "8ec432c3",
   "metadata": {},
   "outputs": [],
   "source": [
    "base_typerparameters = {'learning_rate': 0.0070415096943982226, 'reg_alpha': 0.206432032989424, 'reg_lambda': 0.29807975059531805, 'max_depth': 6, 'num_leaves': 784, 'colsample_bytree': 0.7790230196623364, 'subsample': 0.3434138185587682, 'max_bin': 306}"
   ]
  },
  {
   "cell_type": "code",
   "execution_count": 303,
   "id": "476ad0ec",
   "metadata": {},
   "outputs": [],
   "source": [
    "base_typerparameters = {'learning_rate': 0.1, 'max_depth': 3, 'num_leaves': 300, \n",
    "                        'colsample_bytree': 0.5, 'reg_alpha': 0.1, 'reg_lambda': 0.5, 'random_state': 42}"
   ]
  },
  {
   "cell_type": "code",
   "execution_count": 311,
   "id": "e44d4699",
   "metadata": {},
   "outputs": [],
   "source": [
    "x_train, x_val, y_train, y_val = train_test_split(train_x, train_y, test_size=.1, random_state=42)"
   ]
  },
  {
   "cell_type": "code",
   "execution_count": 358,
   "id": "6ea42958",
   "metadata": {},
   "outputs": [
    {
     "name": "stdout",
     "output_type": "stream",
     "text": [
      "Model1 Score:  0.44542147656707853\n",
      "MAE: 1.6564224310720335\n"
     ]
    }
   ],
   "source": [
    "lgbmodel = LGBMRegressor(**base_typerparameters)\n",
    "lgbmodel.fit(x_train, y_train)\n",
    "print(\"Model1 Score: \",lgbmodel.score(x_val,y_val))\n",
    "print(\"MAE:\",mean_absolute_error(y_val, lgbmodel.predict(x_val)))"
   ]
  },
  {
   "cell_type": "code",
   "execution_count": 288,
   "id": "4003953e",
   "metadata": {},
   "outputs": [],
   "source": [
    "pred = lgbmodel.predict(test_x)"
   ]
  },
  {
   "cell_type": "code",
   "execution_count": 322,
   "id": "73ad4f5a",
   "metadata": {},
   "outputs": [
    {
     "data": {
      "text/plain": [
       "array([ 8.43842509, 12.74286492,  5.56701004, ...,  9.71357325,\n",
       "        9.23734618, 11.08841116])"
      ]
     },
     "execution_count": 322,
     "metadata": {},
     "output_type": "execute_result"
    }
   ],
   "source": [
    "pred"
   ]
  },
  {
   "cell_type": "code",
   "execution_count": 290,
   "id": "a9215f7b",
   "metadata": {},
   "outputs": [],
   "source": [
    "submission.Target = pred"
   ]
  },
  {
   "cell_type": "code",
   "execution_count": 292,
   "id": "2b979f20",
   "metadata": {},
   "outputs": [],
   "source": [
    "submission_name = '20220321'\n",
    "submission_number = '2'\n",
    "submission.to_csv(f'../submission/{submission_name}-{submission_number}.csv', index = False)"
   ]
  },
  {
   "cell_type": "code",
   "execution_count": null,
   "id": "5fc79f01",
   "metadata": {},
   "outputs": [],
   "source": []
  }
 ],
 "metadata": {
  "kernelspec": {
   "display_name": "Python 3 (ipykernel)",
   "language": "python",
   "name": "python3"
  },
  "language_info": {
   "codemirror_mode": {
    "name": "ipython",
    "version": 3
   },
   "file_extension": ".py",
   "mimetype": "text/x-python",
   "name": "python",
   "nbconvert_exporter": "python",
   "pygments_lexer": "ipython3",
   "version": "3.9.7"
  }
 },
 "nbformat": 4,
 "nbformat_minor": 5
}
