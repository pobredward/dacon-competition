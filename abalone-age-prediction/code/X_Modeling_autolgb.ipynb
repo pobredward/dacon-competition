{
 "cells": [
  {
   "cell_type": "markdown",
   "id": "4e3babe3",
   "metadata": {},
   "source": [
    "# 1. Import"
   ]
  },
  {
   "cell_type": "code",
   "execution_count": null,
   "id": "2bdfba12",
   "metadata": {},
   "outputs": [],
   "source": [
    "# Basic Library\n",
    "import os\n",
    "import pandas as pd\n",
    "import numpy as np\n",
    "import pickle\n",
    "import warnings\n",
    "warnings.filterwarnings('ignore')\n",
    "\n",
    "# Preprocessing\n",
    "from sklearn.preprocessing import OneHotEncoder, LabelEncoder\n",
    "\n",
    "# Modeling\n",
    "from sklearn.model_selection import StratifiedKFold\n",
    "from sklearn.metrics import mean_absolute_error\n",
    "import lightgbm as lgb\n",
    "import xgboost as xgb\n",
    "from kaggler.model import AutoLGB"
   ]
  },
  {
   "cell_type": "code",
   "execution_count": null,
   "id": "ebf83377",
   "metadata": {},
   "outputs": [],
   "source": [
    "def create_dir(dir):\n",
    "    if not os.path.exists(dir):\n",
    "        os.makedirs(dir)\n",
    "        print(\"Created Directory :\", dir)\n",
    "    else:\n",
    "        print(\"Directory already existed :\", dir)\n",
    "create_dir(\"../pickle\")\n",
    "create_dir(\"../model\")\n",
    "create_dir(\"../submission\")"
   ]
  },
  {
   "cell_type": "code",
   "execution_count": null,
   "id": "a2612dc0",
   "metadata": {},
   "outputs": [],
   "source": [
    "train = pd.read_csv(\"../data/train_f2.csv\")\n",
    "test = pd.read_csv(\"../data/test_f2.csv\")"
   ]
  },
  {
   "cell_type": "code",
   "execution_count": null,
   "id": "20b95a29",
   "metadata": {},
   "outputs": [],
   "source": [
    "rows_train = train.shape[0] # 주어진 train data의 row 수\n",
    "rows_test = test.shape[0] # 주어진 test data의 row 수\n",
    "num_trial = 100 # 파라미터 튜닝을 몇 번 진행하는지의 수\n",
    "splits_hp = 5 # 파라미터 튜닝을 진행할 때의 kfold 수\n",
    "splits_tr = 5 # 모델 트레이닝을 진행할 때의 kfold 수\n",
    "basic_seed = 42 # default seed\n",
    "num_seed_tr = 10 # 트레이닝 seed 개수\n",
    "sel_seed = 3 # 선택할 seed 개수"
   ]
  },
  {
   "cell_type": "code",
   "execution_count": null,
   "id": "cab1b054",
   "metadata": {},
   "outputs": [],
   "source": [
    "pred_dict = {}\n",
    "pred_test_dict = {}"
   ]
  },
  {
   "cell_type": "markdown",
   "id": "4efd3099",
   "metadata": {},
   "source": [
    "# 2. AutoLGB"
   ]
  },
  {
   "cell_type": "code",
   "execution_count": null,
   "id": "d48c5f30",
   "metadata": {},
   "outputs": [],
   "source": [
    "train_ohe = train.copy()\n",
    "test_ohe = test.copy()\n",
    "\n",
    "train_ohe = pd.get_dummies(train_ohe)\n",
    "test_ohe = pd.get_dummies(test_ohe)\n",
    "\n",
    "train_x = train_ohe.drop(['Target'], axis=1) # 데이터 나누기\n",
    "train_y = train_ohe['Target']\n",
    "test_x = test_ohe.copy()\n",
    "\n",
    "print('One-Hot Encoding Completed')"
   ]
  },
  {
   "cell_type": "code",
   "execution_count": null,
   "id": "c605a1fb",
   "metadata": {},
   "outputs": [],
   "source": [
    "unique_seed = np.random.randint(0, 1000, 1)[0]\n",
    "kfold = StratifiedKFold(n_splits=splits_tr, random_state=unique_seed, shuffle=True) # CV 늘려가면서 하기\n",
    "pred = np.zeros(rows_train)\n",
    "pred_test = np.zeros(rows_test)"
   ]
  },
  {
   "cell_type": "code",
   "execution_count": null,
   "id": "80f700e9",
   "metadata": {},
   "outputs": [],
   "source": [
    "for n, (train_idx, val_idx) in enumerate(kfold.split(train_x, train_y)):\n",
    "    if n == 0:\n",
    "        autolgb = AutoLGB(objective='regression', metric='mae',\n",
    "                      feature_selection=True, n_est=10000, random_state=42)\n",
    "        autolgb.tune(train_x.iloc[train_idx], train_y[train_idx])\n",
    "        n_best = autolgb.n_best\n",
    "        features = autolgb.features\n",
    "        params = autolgb.params\n",
    "        print(f'best iteration: {n_best}')\n",
    "        print(f'selected features ({len(features)}): {features}')        \n",
    "        print(params)\n",
    "        autolgb.fit(train_x.iloc[train_idx], train_y[train_idx])\n",
    "    else:\n",
    "        train_data = lgb.Dataset(train_x[features].iloc[train_idx], label=train_y[train_idx])\n",
    "        autolgb = lgb.train(params, train_data, n_best, verbose_eval=100)\n",
    "        \n",
    "    pred[val_idx] = autolgb.predict(train_x[features].iloc[val_idx])\n",
    "    pred_test += autolgb.predict(test_x[features]) / splits_tr"
   ]
  },
  {
   "cell_type": "code",
   "execution_count": null,
   "id": "0c85ec6c",
   "metadata": {},
   "outputs": [],
   "source": [
    "pred_dict['lgb'+str(unique_seed)] = pred\n",
    "pred_test_dict['lgb'+str(unique_seed)] = pred_test\n",
    "print(f'seed {unique_seed}', 'mean_absolute_error :', mean_absolute_error(train_y, pred))"
   ]
  }
 ],
 "metadata": {
  "kernelspec": {
   "display_name": "Python 3 (ipykernel)",
   "language": "python",
   "name": "python3"
  },
  "language_info": {
   "codemirror_mode": {
    "name": "ipython",
    "version": 3
   },
   "file_extension": ".py",
   "mimetype": "text/x-python",
   "name": "python",
   "nbconvert_exporter": "python",
   "pygments_lexer": "ipython3",
   "version": "3.9.7"
  }
 },
 "nbformat": 4,
 "nbformat_minor": 5
}
