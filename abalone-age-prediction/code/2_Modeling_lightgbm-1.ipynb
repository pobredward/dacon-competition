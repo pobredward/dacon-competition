{
 "cells": [
  {
   "cell_type": "markdown",
   "id": "4e3babe3",
   "metadata": {},
   "source": [
    "# 1. Import"
   ]
  },
  {
   "cell_type": "code",
   "execution_count": 1,
   "id": "5d3afc55",
   "metadata": {},
   "outputs": [],
   "source": [
    "# Basic Library\n",
    "import os\n",
    "import pandas as pd\n",
    "import numpy as np\n",
    "import pickle\n",
    "from itertools import permutations, combinations\n",
    "from tqdm.auto import tqdm\n",
    "import warnings\n",
    "warnings.filterwarnings('ignore')\n",
    "\n",
    "# Visualization\n",
    "import matplotlib.pyplot as plt\n",
    "import seaborn as sns\n",
    "\n",
    "# Preprocessing\n",
    "from sklearn.preprocessing import OneHotEncoder, LabelEncoder\n",
    "from sklearn.preprocessing import StandardScaler, MinMaxScaler, MaxAbsScaler, QuantileTransformer\n",
    "\n",
    "# HP Tuning\n",
    "import optuna\n",
    "from optuna import Trial\n",
    "from optuna.samplers import TPESampler\n",
    "from optuna.visualization import plot_contour, plot_optimization_history\n",
    "from optuna.visualization import plot_parallel_coordinate, plot_slice, plot_param_importances\n",
    "\n",
    "# Modeling\n",
    "from sklearn.model_selection import StratifiedKFold\n",
    "from sklearn.metrics import mean_absolute_error\n",
    "from lightgbm import LGBMRegressor\n",
    "import xgboost as xgb"
   ]
  },
  {
   "cell_type": "code",
   "execution_count": 2,
   "id": "ebf83377",
   "metadata": {},
   "outputs": [
    {
     "name": "stdout",
     "output_type": "stream",
     "text": [
      "Directory already existed : ../pickle\n",
      "Directory already existed : ../model\n",
      "Directory already existed : ../submission\n"
     ]
    }
   ],
   "source": [
    "def create_dir(dir):\n",
    "    if not os.path.exists(dir):\n",
    "        os.makedirs(dir)\n",
    "        print(\"Created Directory :\", dir)\n",
    "    else:\n",
    "        print(\"Directory already existed :\", dir)\n",
    "create_dir(\"../pickle\")\n",
    "create_dir(\"../model\")\n",
    "create_dir(\"../submission\")"
   ]
  },
  {
   "cell_type": "code",
   "execution_count": 3,
   "id": "c700011b",
   "metadata": {},
   "outputs": [],
   "source": [
    "train = pd.read_csv(\"../data/train_f2.csv\")\n",
    "test = pd.read_csv(\"../data/test_f2.csv\")\n",
    "submission = pd.read_csv(\"../data/sample_submission.csv\")"
   ]
  },
  {
   "cell_type": "code",
   "execution_count": 4,
   "id": "20b95a29",
   "metadata": {},
   "outputs": [],
   "source": [
    "rows_train = train.shape[0] # 주어진 train data의 row 수\n",
    "rows_test = test.shape[0] # 주어진 test data의 row 수\n",
    "num_trial = 100 # 파라미터 튜닝을 몇 번 진행하는지의 수\n",
    "splits_hp = 5 # 파라미터 튜닝을 진행할 때의 kfold 수\n",
    "splits_tr = 15 # 모델 트레이닝을 진행할 때의 kfold 수\n",
    "basic_seed = 42 # default seed\n",
    "num_seed_hp = 3 # 파라미터 튜닝 seed 개수\n",
    "num_seed_tr = 10 # 트레이닝 seed 개수\n",
    "sel_seed = 3 # 선택할 seed 개수"
   ]
  },
  {
   "cell_type": "code",
   "execution_count": 5,
   "id": "cab1b054",
   "metadata": {},
   "outputs": [],
   "source": [
    "pred_dict = {}\n",
    "pred_test_dict = {}"
   ]
  },
  {
   "cell_type": "markdown",
   "id": "4efd3099",
   "metadata": {},
   "source": [
    "# 2. LightGBM"
   ]
  },
  {
   "cell_type": "code",
   "execution_count": 6,
   "id": "e79d49ee",
   "metadata": {},
   "outputs": [],
   "source": [
    "del_cols = train.columns[train.columns.str.startswith(\"Gender#\")]\n",
    "train = train.drop(del_cols, axis=1)\n",
    "test = test.drop(del_cols, axis=1)"
   ]
  },
  {
   "cell_type": "code",
   "execution_count": 7,
   "id": "fe8210fb",
   "metadata": {},
   "outputs": [],
   "source": [
    "train_x = train.drop(['Target'], axis=1) # 데이터 나누기\n",
    "train_y = train['Target']\n",
    "test_x = test.copy()"
   ]
  },
  {
   "cell_type": "code",
   "execution_count": 8,
   "id": "d48c5f30",
   "metadata": {},
   "outputs": [
    {
     "name": "stdout",
     "output_type": "stream",
     "text": [
      "Category Encoding Completed\n"
     ]
    }
   ],
   "source": [
    "train_lab = train.copy()\n",
    "test_lab = test.copy()\n",
    "\n",
    "for col in train_lab.columns:\n",
    "    if train_lab[col].dtypes=='object':\n",
    "        train_lab[col] = train_lab[col].astype('category')\n",
    "        test_lab[col] = test_lab[col].astype('category')\n",
    "\n",
    "train_x = train_lab.drop(['Target'], axis=1) # 데이터 나누기\n",
    "train_y = train_lab['Target']\n",
    "test_x = test_lab.copy()\n",
    "\n",
    "print('Category Encoding Completed')"
   ]
  },
  {
   "cell_type": "code",
   "execution_count": 9,
   "id": "c03a4b45",
   "metadata": {},
   "outputs": [],
   "source": [
    "def lgb_objective(trial: Trial) -> float:\n",
    "    score_hp = []\n",
    "    for seed_hp in [0, 42]:\n",
    "        params_lgb = {\n",
    "            \"random_state\": seed_hp,\n",
    "            \"verbosity\": -1,\n",
    "            \"n_estimators\": 10000,\n",
    "            \"learning_rate\": trial.suggest_loguniform(\"learning_rate\", 5e-3, 1e-1), # default=0.1, range=[0,1]\n",
    "            \"max_depth\": trial.suggest_int(\"max_depth\", 4, 12), # default=-1\n",
    "            \"reg_alpha\": trial.suggest_loguniform(\"reg_alpha\", 1e-2, 1e+2), # default=0\n",
    "            \"reg_lambda\": trial.suggest_loguniform(\"reg_lambda\", 1e-2, 1e+2), # default=0\n",
    "            \"num_leaves\": trial.suggest_int(\"num_leaves\", 31, 5000), # default=31, range=(1,130172]\n",
    "            \"colsample_bytree\": trial.suggest_uniform(\"colsample_bytree\", 0.0, 1.0), # feature_fraction, default=1\n",
    "            \"subsample\": trial.suggest_uniform(\"subsample\", 0.0, 1.0), # bagging_fraction, default=1, range=[0,1]\n",
    "            \"subsample_freq\": trial.suggest_int(\"subsample_freq\", 1, 20), # bagging_freq, default=0\n",
    "            \"min_child_samples\": trial.suggest_int(\"min_child_samples\", 1, 40), # min_data_in_leaf, default=20 \n",
    "            \"max_bin\": trial.suggest_int(\"max_bin\", 100, 500),\n",
    "        }\n",
    "\n",
    "        kfold = StratifiedKFold(n_splits=splits_hp, random_state=seed_hp, shuffle=True) # Cross-validation cv=5\n",
    "        cv = np.zeros(rows_train)\n",
    "\n",
    "        for n, (train_idx, val_idx) in enumerate(kfold.split(train_x, train_y)):\n",
    "\n",
    "            x_train, x_val = train_x.iloc[train_idx], train_x.iloc[val_idx]\n",
    "            y_train, y_val = train_y.iloc[train_idx].values, train_y.iloc[val_idx].values\n",
    "\n",
    "            lgbmodel = LGBMRegressor(**params_lgb)\n",
    "                                                                                            # 진행상황 보고싶을때 -1을 100으로\n",
    "            lgbmodel.fit(x_train, y_train, eval_set=[(x_val, y_val)], early_stopping_rounds=30, verbose=-1) \n",
    "            cv[val_idx] = lgbmodel.predict(x_val)\n",
    "            \n",
    "        score_hp.append(mean_absolute_error(train_y, cv))\n",
    "    \n",
    "    np.mean(score_hp)\n",
    "    return np.mean(score_hp)"
   ]
  },
  {
   "cell_type": "code",
   "execution_count": null,
   "id": "15a5f851",
   "metadata": {},
   "outputs": [
    {
     "name": "stderr",
     "output_type": "stream",
     "text": [
      "\u001b[32m[I 2022-03-31 01:58:23,642]\u001b[0m A new study created in memory with name: lgb_parameter_opt\u001b[0m\n",
      "\u001b[32m[I 2022-03-31 01:59:24,119]\u001b[0m Trial 0 finished with value: 1.659318533855895 and parameters: {'learning_rate': 0.015355286838886862, 'max_depth': 12, 'reg_alpha': 8.471801418819979, 'reg_lambda': 2.481040974867813, 'num_leaves': 806, 'colsample_bytree': 0.15599452033620265, 'subsample': 0.05808361216819946, 'subsample_freq': 18, 'min_child_samples': 25, 'max_bin': 383}. Best is trial 0 with value: 1.659318533855895.\u001b[0m\n",
      "\u001b[32m[I 2022-03-31 02:02:33,484]\u001b[0m Trial 1 finished with value: 1.5223233479876928 and parameters: {'learning_rate': 0.005318033256270142, 'max_depth': 12, 'reg_alpha': 21.368329072358772, 'reg_lambda': 0.07068974950624607, 'num_leaves': 934, 'colsample_bytree': 0.18340450985343382, 'subsample': 0.3042422429595377, 'subsample_freq': 11, 'min_child_samples': 18, 'max_bin': 216}. Best is trial 1 with value: 1.5223233479876928.\u001b[0m\n",
      "\u001b[32m[I 2022-03-31 02:04:43,573]\u001b[0m Trial 2 finished with value: 1.5486315397153578 and parameters: {'learning_rate': 0.03126143958203108, 'max_depth': 5, 'reg_alpha': 0.14742753159914673, 'reg_lambda': 0.2920433847181412, 'num_leaves': 2297, 'colsample_bytree': 0.7851759613930136, 'subsample': 0.19967378215835974, 'subsample_freq': 11, 'min_child_samples': 24, 'max_bin': 118}. Best is trial 1 with value: 1.5223233479876928.\u001b[0m\n",
      "\u001b[32m[I 2022-03-31 02:11:15,472]\u001b[0m Trial 3 finished with value: 1.5032426487838153 and parameters: {'learning_rate': 0.030860579740535368, 'max_depth': 5, 'reg_alpha': 0.018205657658407266, 'reg_lambda': 62.451395747430766, 'num_leaves': 4830, 'colsample_bytree': 0.8083973481164611, 'subsample': 0.3046137691733707, 'subsample_freq': 2, 'min_child_samples': 28, 'max_bin': 276}. Best is trial 3 with value: 1.5032426487838153.\u001b[0m\n",
      "\u001b[32m[I 2022-03-31 02:23:00,992]\u001b[0m Trial 4 finished with value: 1.5235061882939696 and parameters: {'learning_rate': 0.007206848764305203, 'max_depth': 8, 'reg_alpha': 0.013726318898045875, 'reg_lambda': 43.37920697490943, 'num_leaves': 1317, 'colsample_bytree': 0.662522284353982, 'subsample': 0.31171107608941095, 'subsample_freq': 11, 'min_child_samples': 22, 'max_bin': 174}. Best is trial 3 with value: 1.5032426487838153.\u001b[0m\n",
      "\u001b[32m[I 2022-03-31 02:28:46,421]\u001b[0m Trial 5 finished with value: 1.680059915730534 and parameters: {'learning_rate': 0.09129115219600122, 'max_depth': 10, 'reg_alpha': 57.27904470799624, 'reg_lambda': 37.95853142670641, 'num_leaves': 3002, 'colsample_bytree': 0.9218742350231168, 'subsample': 0.0884925020519195, 'subsample_freq': 4, 'min_child_samples': 2, 'max_bin': 230}. Best is trial 3 with value: 1.5032426487838153.\u001b[0m\n",
      "\u001b[32m[I 2022-03-31 02:36:12,419]\u001b[0m Trial 6 finished with value: 1.5834590989707642 and parameters: {'learning_rate': 0.016019568611465234, 'max_depth': 6, 'reg_alpha': 20.651425578959262, 'reg_lambda': 0.26730883107816716, 'num_leaves': 1427, 'colsample_bytree': 0.5426960831582485, 'subsample': 0.14092422497476265, 'subsample_freq': 17, 'min_child_samples': 3, 'max_bin': 495}. Best is trial 3 with value: 1.5032426487838153.\u001b[0m\n",
      "\u001b[32m[I 2022-03-31 02:40:19,363]\u001b[0m Trial 7 finished with value: 1.5422273302265304 and parameters: {'learning_rate': 0.05054562991054155, 'max_depth': 5, 'reg_alpha': 0.01052176186845113, 'reg_lambda': 18.27450885981603, 'num_leaves': 3544, 'colsample_bytree': 0.7290071680409873, 'subsample': 0.7712703466859457, 'subsample_freq': 2, 'min_child_samples': 15, 'max_bin': 146}. Best is trial 3 with value: 1.5032426487838153.\u001b[0m\n",
      "\u001b[32m[I 2022-03-31 02:44:11,198]\u001b[0m Trial 8 finished with value: 1.5304107268962224 and parameters: {'learning_rate': 0.06635802485202448, 'max_depth': 9, 'reg_alpha': 0.2106648601704221, 'reg_lambda': 0.01795698422567764, 'num_leaves': 1576, 'colsample_bytree': 0.32518332202674705, 'subsample': 0.7296061783380641, 'subsample_freq': 13, 'min_child_samples': 36, 'max_bin': 289}. Best is trial 3 with value: 1.5032426487838153.\u001b[0m\n",
      "\u001b[32m[I 2022-03-31 03:11:34,548]\u001b[0m Trial 9 finished with value: 1.5552904751540155 and parameters: {'learning_rate': 0.007154276249073926, 'max_depth': 10, 'reg_alpha': 11.044350847124697, 'reg_lambda': 1.7583640270008525, 'num_leaves': 3862, 'colsample_bytree': 0.49379559636439074, 'subsample': 0.5227328293819941, 'subsample_freq': 9, 'min_child_samples': 2, 'max_bin': 143}. Best is trial 3 with value: 1.5032426487838153.\u001b[0m\n",
      "\u001b[32m[I 2022-03-31 03:19:18,749]\u001b[0m Trial 10 finished with value: 1.5206688859991444 and parameters: {'learning_rate': 0.028937355549228366, 'max_depth': 4, 'reg_alpha': 1.180724725780362, 'reg_lambda': 6.889558417752373, 'num_leaves': 4920, 'colsample_bytree': 0.9076647952825181, 'subsample': 0.9597707459454201, 'subsample_freq': 6, 'min_child_samples': 39, 'max_bin': 358}. Best is trial 3 with value: 1.5032426487838153.\u001b[0m\n",
      "\u001b[32m[I 2022-03-31 03:26:34,740]\u001b[0m Trial 11 finished with value: 1.5170592874373323 and parameters: {'learning_rate': 0.03295793211703425, 'max_depth': 4, 'reg_alpha': 1.176332941860542, 'reg_lambda': 6.959188603569971, 'num_leaves': 4971, 'colsample_bytree': 0.9605955922038337, 'subsample': 0.9909503209111176, 'subsample_freq': 6, 'min_child_samples': 39, 'max_bin': 367}. Best is trial 3 with value: 1.5032426487838153.\u001b[0m\n",
      "\u001b[32m[I 2022-03-31 03:33:41,145]\u001b[0m Trial 12 finished with value: 1.5139190033535224 and parameters: {'learning_rate': 0.04124014110340364, 'max_depth': 7, 'reg_alpha': 0.7495849797769736, 'reg_lambda': 7.81697939837583, 'num_leaves': 4958, 'colsample_bytree': 0.9942907946316534, 'subsample': 0.517001347651669, 'subsample_freq': 1, 'min_child_samples': 31, 'max_bin': 388}. Best is trial 3 with value: 1.5032426487838153.\u001b[0m\n",
      "\u001b[32m[I 2022-03-31 03:43:22,626]\u001b[0m Trial 13 finished with value: 1.5067567140350604 and parameters: {'learning_rate': 0.04883767540376079, 'max_depth': 7, 'reg_alpha': 0.06425210350317662, 'reg_lambda': 98.01516939178583, 'num_leaves': 4225, 'colsample_bytree': 0.9989460183435104, 'subsample': 0.48735114167161064, 'subsample_freq': 1, 'min_child_samples': 32, 'max_bin': 452}. Best is trial 3 with value: 1.5032426487838153.\u001b[0m\n",
      "\u001b[32m[I 2022-03-31 03:56:40,911]\u001b[0m Trial 14 finished with value: 1.507013512327755 and parameters: {'learning_rate': 0.017251789430967918, 'max_depth': 7, 'reg_alpha': 0.05145004371091194, 'reg_lambda': 95.32453812726864, 'num_leaves': 4108, 'colsample_bytree': 0.8419642213999076, 'subsample': 0.3796613484627236, 'subsample_freq': 4, 'min_child_samples': 32, 'max_bin': 480}. Best is trial 3 with value: 1.5032426487838153.\u001b[0m\n",
      "\u001b[32m[I 2022-03-31 04:02:25,188]\u001b[0m Trial 15 finished with value: 1.5257685854024134 and parameters: {'learning_rate': 0.06673054423372393, 'max_depth': 6, 'reg_alpha': 0.03684147136494575, 'reg_lambda': 81.39590905708165, 'num_leaves': 54, 'colsample_bytree': 0.6394684662708779, 'subsample': 0.6760962894317303, 'subsample_freq': 1, 'min_child_samples': 29, 'max_bin': 301}. Best is trial 3 with value: 1.5032426487838153.\u001b[0m\n",
      "\u001b[32m[I 2022-03-31 04:04:00,739]\u001b[0m Trial 16 finished with value: 1.5124490924575302 and parameters: {'learning_rate': 0.023316227243172144, 'max_depth': 7, 'reg_alpha': 0.050115029865663976, 'reg_lambda': 19.737584816913486, 'num_leaves': 4227, 'colsample_bytree': 0.02369541150583232, 'subsample': 0.4437925686781893, 'subsample_freq': 7, 'min_child_samples': 13, 'max_bin': 426}. Best is trial 3 with value: 1.5032426487838153.\u001b[0m\n",
      "\u001b[32m[I 2022-03-31 04:06:09,971]\u001b[0m Trial 17 finished with value: 1.52989343654168 and parameters: {'learning_rate': 0.09934087837245, 'max_depth': 5, 'reg_alpha': 0.1494655598392827, 'reg_lambda': 0.5749539748986078, 'num_leaves': 2894, 'colsample_bytree': 0.4599862088745186, 'subsample': 0.6041585495011995, 'subsample_freq': 15, 'min_child_samples': 27, 'max_bin': 293}. Best is trial 3 with value: 1.5032426487838153.\u001b[0m\n",
      "\u001b[32m[I 2022-03-31 04:10:03,122]\u001b[0m Trial 18 finished with value: 1.5094289390205007 and parameters: {'learning_rate': 0.0455774617414758, 'max_depth': 8, 'reg_alpha': 0.32949000789371785, 'reg_lambda': 18.456148335903038, 'num_leaves': 4303, 'colsample_bytree': 0.8311069527692719, 'subsample': 0.25885645359975734, 'subsample_freq': 4, 'min_child_samples': 33, 'max_bin': 435}. Best is trial 3 with value: 1.5032426487838153.\u001b[0m\n"
     ]
    },
    {
     "name": "stderr",
     "output_type": "stream",
     "text": [
      "\u001b[32m[I 2022-03-31 04:13:29,664]\u001b[0m Trial 19 finished with value: 1.5527466288231353 and parameters: {'learning_rate': 0.06320136705383216, 'max_depth': 6, 'reg_alpha': 0.02862461857079291, 'reg_lambda': 3.114674975980468, 'num_leaves': 3362, 'colsample_bytree': 0.707550416346461, 'subsample': 0.4344090618553158, 'subsample_freq': 20, 'min_child_samples': 19, 'max_bin': 244}. Best is trial 3 with value: 1.5032426487838153.\u001b[0m\n",
      "\u001b[32m[I 2022-03-31 04:45:22,548]\u001b[0m Trial 20 finished with value: 1.5318844778399612 and parameters: {'learning_rate': 0.011614261866644411, 'max_depth': 8, 'reg_alpha': 3.5951661085031215, 'reg_lambda': 45.14399961853961, 'num_leaves': 4527, 'colsample_bytree': 0.5693811304438392, 'subsample': 0.5818163242527762, 'subsample_freq': 3, 'min_child_samples': 8, 'max_bin': 323}. Best is trial 3 with value: 1.5032426487838153.\u001b[0m\n",
      "\u001b[32m[I 2022-03-31 04:58:53,016]\u001b[0m Trial 21 finished with value: 1.5061377799261957 and parameters: {'learning_rate': 0.018431374036174425, 'max_depth': 7, 'reg_alpha': 0.07682895079886387, 'reg_lambda': 94.60241751024427, 'num_leaves': 3934, 'colsample_bytree': 0.8252656449978722, 'subsample': 0.3652719536430701, 'subsample_freq': 4, 'min_child_samples': 32, 'max_bin': 462}. Best is trial 3 with value: 1.5032426487838153.\u001b[0m\n",
      "\u001b[32m[I 2022-03-31 05:09:02,906]\u001b[0m Trial 22 finished with value: 1.5179240263830767 and parameters: {'learning_rate': 0.020893523564620816, 'max_depth': 6, 'reg_alpha': 0.08541100683027797, 'reg_lambda': 93.61648818974827, 'num_leaves': 3745, 'colsample_bytree': 0.8594710266870946, 'subsample': 0.381999611790649, 'subsample_freq': 8, 'min_child_samples': 34, 'max_bin': 444}. Best is trial 3 with value: 1.5032426487838153.\u001b[0m\n",
      "\u001b[32m[I 2022-03-31 05:24:28,258]\u001b[0m Trial 23 finished with value: 1.5039317524814377 and parameters: {'learning_rate': 0.011282169091349067, 'max_depth': 9, 'reg_alpha': 0.018533071141990598, 'reg_lambda': 29.080553858215957, 'num_leaves': 4552, 'colsample_bytree': 0.9990180556294448, 'subsample': 0.21201819403647515, 'subsample_freq': 1, 'min_child_samples': 28, 'max_bin': 459}. Best is trial 3 with value: 1.5032426487838153.\u001b[0m\n",
      "\u001b[32m[I 2022-03-31 05:33:47,241]\u001b[0m Trial 24 finished with value: 1.5294933555851211 and parameters: {'learning_rate': 0.011837424935807986, 'max_depth': 10, 'reg_alpha': 0.020251424202869843, 'reg_lambda': 25.1226711256393, 'num_leaves': 4539, 'colsample_bytree': 0.7644646883606105, 'subsample': 0.1575520517303054, 'subsample_freq': 5, 'min_child_samples': 27, 'max_bin': 405}. Best is trial 3 with value: 1.5032426487838153.\u001b[0m\n",
      "\u001b[32m[I 2022-03-31 05:35:14,678]\u001b[0m Trial 25 finished with value: 2.346683141861435 and parameters: {'learning_rate': 0.011003261075840027, 'max_depth': 9, 'reg_alpha': 0.020611415817107525, 'reg_lambda': 13.642467090641434, 'num_leaves': 2325, 'colsample_bytree': 0.897585849691315, 'subsample': 0.01627239125289265, 'subsample_freq': 3, 'min_child_samples': 36, 'max_bin': 338}. Best is trial 3 with value: 1.5032426487838153.\u001b[0m\n",
      "\u001b[32m[I 2022-03-31 05:41:27,960]\u001b[0m Trial 26 finished with value: 1.5082167255724928 and parameters: {'learning_rate': 0.020154954499618707, 'max_depth': 11, 'reg_alpha': 0.4920452301397775, 'reg_lambda': 48.25357886589929, 'num_leaves': 3206, 'colsample_bytree': 0.798545056590869, 'subsample': 0.22915471337745857, 'subsample_freq': 2, 'min_child_samples': 29, 'max_bin': 260}. Best is trial 3 with value: 1.5032426487838153.\u001b[0m\n",
      "\u001b[32m[I 2022-03-31 05:44:02,826]\u001b[0m Trial 27 finished with value: 1.5115065166849848 and parameters: {'learning_rate': 0.0252404984956213, 'max_depth': 9, 'reg_alpha': 0.010561202548143456, 'reg_lambda': 8.730956112565462, 'num_leaves': 4595, 'colsample_bytree': 0.405524866839161, 'subsample': 0.3584077351260738, 'subsample_freq': 6, 'min_child_samples': 23, 'max_bin': 464}. Best is trial 3 with value: 1.5032426487838153.\u001b[0m\n",
      "\u001b[32m[I 2022-03-31 05:48:36,650]\u001b[0m Trial 28 finished with value: 1.5110027111188218 and parameters: {'learning_rate': 0.008557571247038518, 'max_depth': 8, 'reg_alpha': 0.08239342169889162, 'reg_lambda': 3.943203508652822, 'num_leaves': 3837, 'colsample_bytree': 0.5975217415644556, 'subsample': 0.294300266302144, 'subsample_freq': 8, 'min_child_samples': 27, 'max_bin': 414}. Best is trial 3 with value: 1.5032426487838153.\u001b[0m\n",
      "\u001b[32m[I 2022-03-31 05:49:46,720]\u001b[0m Trial 29 finished with value: 1.5463970436115153 and parameters: {'learning_rate': 0.016254444840543978, 'max_depth': 4, 'reg_alpha': 3.266687401521586, 'reg_lambda': 1.2780314355040452, 'num_leaves': 4592, 'colsample_bytree': 0.6861916423005687, 'subsample': 0.10191592266193451, 'subsample_freq': 3, 'min_child_samples': 26, 'max_bin': 191}. Best is trial 3 with value: 1.5032426487838153.\u001b[0m\n",
      "\u001b[32m[I 2022-03-31 05:58:44,496]\u001b[0m Trial 30 finished with value: 1.5261865998409805 and parameters: {'learning_rate': 0.013696554688785278, 'max_depth': 11, 'reg_alpha': 0.030491938491078816, 'reg_lambda': 31.493568009272458, 'num_leaves': 3961, 'colsample_bytree': 0.9154406175142016, 'subsample': 0.1860994981795776, 'subsample_freq': 2, 'min_child_samples': 36, 'max_bin': 497}. Best is trial 3 with value: 1.5032426487838153.\u001b[0m\n",
      "\u001b[32m[I 2022-03-31 06:02:43,937]\u001b[0m Trial 31 finished with value: 1.505948339373659 and parameters: {'learning_rate': 0.04079534343048126, 'max_depth': 7, 'reg_alpha': 0.07537808284374321, 'reg_lambda': 70.32634412724502, 'num_leaves': 4340, 'colsample_bytree': 0.9907366678365096, 'subsample': 0.44528772817583306, 'subsample_freq': 1, 'min_child_samples': 30, 'max_bin': 452}. Best is trial 3 with value: 1.5032426487838153.\u001b[0m\n",
      "\u001b[32m[I 2022-03-31 06:06:26,520]\u001b[0m Trial 32 finished with value: 1.5026365021188195 and parameters: {'learning_rate': 0.037672180033757066, 'max_depth': 7, 'reg_alpha': 0.1028806769980129, 'reg_lambda': 57.292925929998596, 'num_leaves': 4716, 'colsample_bytree': 0.8652408090823125, 'subsample': 0.35785511692226146, 'subsample_freq': 1, 'min_child_samples': 30, 'max_bin': 468}. Best is trial 32 with value: 1.5026365021188195.\u001b[0m\n",
      "\u001b[32m[I 2022-03-31 06:10:06,262]\u001b[0m Trial 33 finished with value: 1.4966871607610237 and parameters: {'learning_rate': 0.0385744726440635, 'max_depth': 5, 'reg_alpha': 0.019211565937469453, 'reg_lambda': 48.31817229397436, 'num_leaves': 4712, 'colsample_bytree': 0.9508380949542059, 'subsample': 0.2812178703760207, 'subsample_freq': 1, 'min_child_samples': 21, 'max_bin': 393}. Best is trial 33 with value: 1.4966871607610237.\u001b[0m\n",
      "\u001b[32m[I 2022-03-31 06:13:19,243]\u001b[0m Trial 34 finished with value: 1.5084782379481763 and parameters: {'learning_rate': 0.03486902110804424, 'max_depth': 5, 'reg_alpha': 0.02161604395207617, 'reg_lambda': 13.772215800625297, 'num_leaves': 4775, 'colsample_bytree': 0.8810425596094065, 'subsample': 0.26952319672882796, 'subsample_freq': 2, 'min_child_samples': 21, 'max_bin': 403}. Best is trial 33 with value: 1.4966871607610237.\u001b[0m\n",
      "\u001b[32m[I 2022-03-31 06:16:55,209]\u001b[0m Trial 35 finished with value: 1.5115357138181427 and parameters: {'learning_rate': 0.028953559360344345, 'max_depth': 5, 'reg_alpha': 0.016418921014296185, 'reg_lambda': 47.42131590911673, 'num_leaves': 4576, 'colsample_bytree': 0.7690052495563154, 'subsample': 0.21821775768465723, 'subsample_freq': 5, 'min_child_samples': 17, 'max_bin': 373}. Best is trial 33 with value: 1.4966871607610237.\u001b[0m\n",
      "\u001b[32m[I 2022-03-31 06:29:19,954]\u001b[0m Trial 36 finished with value: 1.513095190623794 and parameters: {'learning_rate': 0.005269290825994267, 'max_depth': 6, 'reg_alpha': 0.14117105174831224, 'reg_lambda': 0.05633534270430991, 'num_leaves': 3587, 'colsample_bytree': 0.9379519612075387, 'subsample': 0.3299992130965241, 'subsample_freq': 3, 'min_child_samples': 24, 'max_bin': 344}. Best is trial 33 with value: 1.4966871607610237.\u001b[0m\n",
      "\u001b[32m[I 2022-03-31 06:31:31,437]\u001b[0m Trial 37 finished with value: 1.8429645761601825 and parameters: {'learning_rate': 0.025422424058852564, 'max_depth': 4, 'reg_alpha': 97.67514128387658, 'reg_lambda': 37.597147327933754, 'num_leaves': 2717, 'colsample_bytree': 0.27787143303935147, 'subsample': 0.12425413677147087, 'subsample_freq': 13, 'min_child_samples': 19, 'max_bin': 271}. Best is trial 33 with value: 1.4966871607610237.\u001b[0m\n"
     ]
    },
    {
     "name": "stderr",
     "output_type": "stream",
     "text": [
      "\u001b[32m[I 2022-03-31 06:32:23,635]\u001b[0m Trial 38 finished with value: 2.3040116247633033 and parameters: {'learning_rate': 0.03659429583336455, 'max_depth': 9, 'reg_alpha': 0.039231652606136466, 'reg_lambda': 0.5931225163121119, 'num_leaves': 4812, 'colsample_bytree': 0.9462689263533774, 'subsample': 0.014800630642531398, 'subsample_freq': 1, 'min_child_samples': 11, 'max_bin': 205}. Best is trial 33 with value: 1.4966871607610237.\u001b[0m\n",
      "\u001b[32m[I 2022-03-31 06:35:12,708]\u001b[0m Trial 39 finished with value: 1.5563536406599598 and parameters: {'learning_rate': 0.05698993820292772, 'max_depth': 5, 'reg_alpha': 0.01053871780699714, 'reg_lambda': 11.45701433355122, 'num_leaves': 2060, 'colsample_bytree': 0.7443629518731241, 'subsample': 0.3035909219770531, 'subsample_freq': 10, 'min_child_samples': 22, 'max_bin': 479}. Best is trial 33 with value: 1.4966871607610237.\u001b[0m\n",
      "\u001b[32m[I 2022-03-31 06:38:58,163]\u001b[0m Trial 40 finished with value: 1.62744457013827 and parameters: {'learning_rate': 0.00790624203064526, 'max_depth': 6, 'reg_alpha': 0.2590091575274363, 'reg_lambda': 26.673996912144744, 'num_leaves': 660, 'colsample_bytree': 0.8743838811928831, 'subsample': 0.06423789465248761, 'subsample_freq': 5, 'min_child_samples': 25, 'max_bin': 387}. Best is trial 33 with value: 1.4966871607610237.\u001b[0m\n",
      "\u001b[32m[I 2022-03-31 06:45:43,761]\u001b[0m Trial 41 finished with value: 1.5052665702269405 and parameters: {'learning_rate': 0.04031542967196917, 'max_depth': 8, 'reg_alpha': 0.11529544120358283, 'reg_lambda': 60.22890086060876, 'num_leaves': 4350, 'colsample_bytree': 0.9996307006999747, 'subsample': 0.4133879439633164, 'subsample_freq': 1, 'min_child_samples': 29, 'max_bin': 475}. Best is trial 33 with value: 1.4966871607610237.\u001b[0m\n",
      "\u001b[32m[I 2022-03-31 06:49:44,923]\u001b[0m Trial 42 finished with value: 1.5084482784482973 and parameters: {'learning_rate': 0.08050361752791975, 'max_depth': 8, 'reg_alpha': 0.016345875477764886, 'reg_lambda': 57.94731965596463, 'num_leaves': 4753, 'colsample_bytree': 0.9547482612387654, 'subsample': 0.42100983102609896, 'subsample_freq': 2, 'min_child_samples': 30, 'max_bin': 427}. Best is trial 33 with value: 1.4966871607610237.\u001b[0m\n",
      "\u001b[32m[I 2022-03-31 06:54:04,754]\u001b[0m Trial 43 finished with value: 1.5049421508394787 and parameters: {'learning_rate': 0.03885849625659957, 'max_depth': 9, 'reg_alpha': 0.12335514324685343, 'reg_lambda': 29.317943219915662, 'num_leaves': 4996, 'colsample_bytree': 0.9347457291969243, 'subsample': 0.1813635451538761, 'subsample_freq': 1, 'min_child_samples': 28, 'max_bin': 472}. Best is trial 33 with value: 1.4966871607610237.\u001b[0m\n",
      "\u001b[32m[I 2022-03-31 06:57:49,302]\u001b[0m Trial 44 finished with value: 1.5035931811607504 and parameters: {'learning_rate': 0.029150844761010066, 'max_depth': 9, 'reg_alpha': 0.030800173310651043, 'reg_lambda': 31.042866149336046, 'num_leaves': 4957, 'colsample_bytree': 0.8104078756384735, 'subsample': 0.2072208039332393, 'subsample_freq': 3, 'min_child_samples': 24, 'max_bin': 497}. Best is trial 33 with value: 1.4966871607610237.\u001b[0m\n",
      "\u001b[32m[I 2022-03-31 07:01:03,255]\u001b[0m Trial 45 finished with value: 1.5031572511592284 and parameters: {'learning_rate': 0.029182256248241636, 'max_depth': 10, 'reg_alpha': 0.02898465178921389, 'reg_lambda': 5.354169830239808, 'num_leaves': 4083, 'colsample_bytree': 0.637521625501715, 'subsample': 0.23356719371271417, 'subsample_freq': 3, 'min_child_samples': 24, 'max_bin': 498}. Best is trial 33 with value: 1.4966871607610237.\u001b[0m\n",
      "\u001b[32m[I 2022-03-31 07:08:50,548]\u001b[0m Trial 46 finished with value: 1.5090518770040409 and parameters: {'learning_rate': 0.030564257016389384, 'max_depth': 11, 'reg_alpha': 0.03127164312979582, 'reg_lambda': 5.877816689326597, 'num_leaves': 4747, 'colsample_bytree': 0.6126135303404122, 'subsample': 0.24742755800899352, 'subsample_freq': 4, 'min_child_samples': 16, 'max_bin': 499}. Best is trial 33 with value: 1.4966871607610237.\u001b[0m\n",
      "\u001b[32m[I 2022-03-31 07:13:31,660]\u001b[0m Trial 47 finished with value: 1.5135699477671856 and parameters: {'learning_rate': 0.02713652932503111, 'max_depth': 10, 'reg_alpha': 0.04509411066775204, 'reg_lambda': 1.9494029513673061, 'num_leaves': 4179, 'colsample_bytree': 0.6563682769762147, 'subsample': 0.3343448422015891, 'subsample_freq': 3, 'min_child_samples': 20, 'max_bin': 488}. Best is trial 33 with value: 1.4966871607610237.\u001b[0m\n"
     ]
    }
   ],
   "source": [
    "sampler = TPESampler(seed=basic_seed)\n",
    "lgb_study = optuna.create_study(study_name=\"lgb_parameter_opt\", direction=\"minimize\", sampler=sampler)\n",
    "lgb_study.optimize(lgb_objective, n_trials=num_trial)\n",
    "\n",
    "lgb_best_hyperparams = lgb_study.best_trial.params\n",
    "lgb_base_hyperparams = {'n_estimators':10000}\n",
    "lgb_best_hyperparams.update(lgb_base_hyperparams)\n",
    "\n",
    "with open('../pickle/lgb_best_hyperparams.pickle', 'wb') as fw:\n",
    "    pickle.dump(lgb_best_hyperparams, fw)\n",
    "print(\"The best hyperparameters are:\\n\", lgb_best_hyperparams)"
   ]
  },
  {
   "cell_type": "code",
   "execution_count": null,
   "id": "5f297638",
   "metadata": {},
   "outputs": [],
   "source": [
    "optuna.visualization.matplotlib.plot_param_importances(lgb_study);"
   ]
  },
  {
   "cell_type": "code",
   "execution_count": null,
   "id": "3b18fa1d",
   "metadata": {},
   "outputs": [],
   "source": [
    "optuna.visualization.matplotlib.plot_slice(lgb_study);"
   ]
  },
  {
   "cell_type": "code",
   "execution_count": null,
   "id": "aca24a30",
   "metadata": {},
   "outputs": [],
   "source": [
    "# with open('../pickle/lgb_best_hyperparams.pickle', 'rb') as fw:\n",
    "#     lgb_best_hyperparams = pickle.load(fw)"
   ]
  },
  {
   "cell_type": "code",
   "execution_count": 9,
   "id": "88235d36",
   "metadata": {},
   "outputs": [],
   "source": [
    "lgb_best_hyperparams = {'n_estimators':10000, 'learning_rate': 0.0385744726440635, 'max_depth': 5, 'reg_alpha': 0.019211565937469453, 'reg_lambda': 48.31817229397436, 'num_leaves': 4712, 'colsample_bytree': 0.9508380949542059, 'subsample': 0.2812178703760207, 'subsample_freq': 1, 'min_child_samples': 21, 'max_bin': 393}"
   ]
  },
  {
   "cell_type": "code",
   "execution_count": 10,
   "id": "37cba641",
   "metadata": {},
   "outputs": [
    {
     "name": "stdout",
     "output_type": "stream",
     "text": [
      "seed 420 mean_absolute_error : 1.5020670823278075\n",
      "seed 67 mean_absolute_error : 1.4965953746706389\n",
      "seed 815 mean_absolute_error : 1.4905855596668207\n",
      "seed 639 mean_absolute_error : 1.4987759415663127\n",
      "seed 732 mean_absolute_error : 1.4902158004540975\n"
     ]
    },
    {
     "ename": "KeyboardInterrupt",
     "evalue": "",
     "output_type": "error",
     "traceback": [
      "\u001b[1;31m---------------------------------------------------------------------------\u001b[0m",
      "\u001b[1;31mKeyboardInterrupt\u001b[0m                         Traceback (most recent call last)",
      "\u001b[1;32m~\\AppData\\Local\\Temp/ipykernel_4948/1150043464.py\u001b[0m in \u001b[0;36m<module>\u001b[1;34m\u001b[0m\n\u001b[0;32m     13\u001b[0m \u001b[1;33m\u001b[0m\u001b[0m\n\u001b[0;32m     14\u001b[0m         \u001b[0mlgbmodel\u001b[0m \u001b[1;33m=\u001b[0m \u001b[0mLGBMRegressor\u001b[0m\u001b[1;33m(\u001b[0m\u001b[1;33m**\u001b[0m\u001b[0mlgb_best_hyperparams\u001b[0m\u001b[1;33m)\u001b[0m\u001b[1;33m\u001b[0m\u001b[1;33m\u001b[0m\u001b[0m\n\u001b[1;32m---> 15\u001b[1;33m         \u001b[0mlgbmodel\u001b[0m\u001b[1;33m.\u001b[0m\u001b[0mfit\u001b[0m\u001b[1;33m(\u001b[0m\u001b[0mx_train\u001b[0m\u001b[1;33m,\u001b[0m \u001b[0my_train\u001b[0m\u001b[1;33m,\u001b[0m \u001b[0meval_set\u001b[0m\u001b[1;33m=\u001b[0m\u001b[1;33m[\u001b[0m\u001b[1;33m(\u001b[0m\u001b[0mx_val\u001b[0m\u001b[1;33m,\u001b[0m \u001b[0my_val\u001b[0m\u001b[1;33m)\u001b[0m\u001b[1;33m]\u001b[0m\u001b[1;33m,\u001b[0m \u001b[0mearly_stopping_rounds\u001b[0m\u001b[1;33m=\u001b[0m\u001b[1;36m30\u001b[0m\u001b[1;33m,\u001b[0m \u001b[0mverbose\u001b[0m\u001b[1;33m=\u001b[0m\u001b[1;33m-\u001b[0m\u001b[1;36m1\u001b[0m\u001b[1;33m)\u001b[0m\u001b[1;33m\u001b[0m\u001b[1;33m\u001b[0m\u001b[0m\n\u001b[0m\u001b[0;32m     16\u001b[0m \u001b[1;33m\u001b[0m\u001b[0m\n\u001b[0;32m     17\u001b[0m         \u001b[0mcv\u001b[0m\u001b[1;33m[\u001b[0m\u001b[0mval_idx\u001b[0m\u001b[1;33m]\u001b[0m \u001b[1;33m=\u001b[0m \u001b[0mlgbmodel\u001b[0m\u001b[1;33m.\u001b[0m\u001b[0mpredict\u001b[0m\u001b[1;33m(\u001b[0m\u001b[0mx_val\u001b[0m\u001b[1;33m)\u001b[0m\u001b[1;33m\u001b[0m\u001b[1;33m\u001b[0m\u001b[0m\n",
      "\u001b[1;32m~\\anaconda3\\lib\\site-packages\\lightgbm\\sklearn.py\u001b[0m in \u001b[0;36mfit\u001b[1;34m(self, X, y, sample_weight, init_score, eval_set, eval_names, eval_sample_weight, eval_init_score, eval_metric, early_stopping_rounds, verbose, feature_name, categorical_feature, callbacks, init_model)\u001b[0m\n\u001b[0;32m    893\u001b[0m             callbacks=None, init_model=None):\n\u001b[0;32m    894\u001b[0m         \u001b[1;34m\"\"\"Docstring is inherited from the LGBMModel.\"\"\"\u001b[0m\u001b[1;33m\u001b[0m\u001b[1;33m\u001b[0m\u001b[0m\n\u001b[1;32m--> 895\u001b[1;33m         super().fit(X, y, sample_weight=sample_weight, init_score=init_score,\n\u001b[0m\u001b[0;32m    896\u001b[0m                     \u001b[0meval_set\u001b[0m\u001b[1;33m=\u001b[0m\u001b[0meval_set\u001b[0m\u001b[1;33m,\u001b[0m \u001b[0meval_names\u001b[0m\u001b[1;33m=\u001b[0m\u001b[0meval_names\u001b[0m\u001b[1;33m,\u001b[0m \u001b[0meval_sample_weight\u001b[0m\u001b[1;33m=\u001b[0m\u001b[0meval_sample_weight\u001b[0m\u001b[1;33m,\u001b[0m\u001b[1;33m\u001b[0m\u001b[1;33m\u001b[0m\u001b[0m\n\u001b[0;32m    897\u001b[0m                     \u001b[0meval_init_score\u001b[0m\u001b[1;33m=\u001b[0m\u001b[0meval_init_score\u001b[0m\u001b[1;33m,\u001b[0m \u001b[0meval_metric\u001b[0m\u001b[1;33m=\u001b[0m\u001b[0meval_metric\u001b[0m\u001b[1;33m,\u001b[0m\u001b[1;33m\u001b[0m\u001b[1;33m\u001b[0m\u001b[0m\n",
      "\u001b[1;32m~\\anaconda3\\lib\\site-packages\\lightgbm\\sklearn.py\u001b[0m in \u001b[0;36mfit\u001b[1;34m(self, X, y, sample_weight, init_score, group, eval_set, eval_names, eval_sample_weight, eval_class_weight, eval_init_score, eval_group, eval_metric, early_stopping_rounds, verbose, feature_name, categorical_feature, callbacks, init_model)\u001b[0m\n\u001b[0;32m    746\u001b[0m         \u001b[0mcallbacks\u001b[0m\u001b[1;33m.\u001b[0m\u001b[0mappend\u001b[0m\u001b[1;33m(\u001b[0m\u001b[0mrecord_evaluation\u001b[0m\u001b[1;33m(\u001b[0m\u001b[0mevals_result\u001b[0m\u001b[1;33m)\u001b[0m\u001b[1;33m)\u001b[0m\u001b[1;33m\u001b[0m\u001b[1;33m\u001b[0m\u001b[0m\n\u001b[0;32m    747\u001b[0m \u001b[1;33m\u001b[0m\u001b[0m\n\u001b[1;32m--> 748\u001b[1;33m         self._Booster = train(\n\u001b[0m\u001b[0;32m    749\u001b[0m             \u001b[0mparams\u001b[0m\u001b[1;33m=\u001b[0m\u001b[0mparams\u001b[0m\u001b[1;33m,\u001b[0m\u001b[1;33m\u001b[0m\u001b[1;33m\u001b[0m\u001b[0m\n\u001b[0;32m    750\u001b[0m             \u001b[0mtrain_set\u001b[0m\u001b[1;33m=\u001b[0m\u001b[0mtrain_set\u001b[0m\u001b[1;33m,\u001b[0m\u001b[1;33m\u001b[0m\u001b[1;33m\u001b[0m\u001b[0m\n",
      "\u001b[1;32m~\\anaconda3\\lib\\site-packages\\lightgbm\\engine.py\u001b[0m in \u001b[0;36mtrain\u001b[1;34m(params, train_set, num_boost_round, valid_sets, valid_names, fobj, feval, init_model, feature_name, categorical_feature, early_stopping_rounds, evals_result, verbose_eval, learning_rates, keep_training_booster, callbacks)\u001b[0m\n\u001b[0;32m    290\u001b[0m                                     evaluation_result_list=None))\n\u001b[0;32m    291\u001b[0m \u001b[1;33m\u001b[0m\u001b[0m\n\u001b[1;32m--> 292\u001b[1;33m         \u001b[0mbooster\u001b[0m\u001b[1;33m.\u001b[0m\u001b[0mupdate\u001b[0m\u001b[1;33m(\u001b[0m\u001b[0mfobj\u001b[0m\u001b[1;33m=\u001b[0m\u001b[0mfobj\u001b[0m\u001b[1;33m)\u001b[0m\u001b[1;33m\u001b[0m\u001b[1;33m\u001b[0m\u001b[0m\n\u001b[0m\u001b[0;32m    293\u001b[0m \u001b[1;33m\u001b[0m\u001b[0m\n\u001b[0;32m    294\u001b[0m         \u001b[0mevaluation_result_list\u001b[0m \u001b[1;33m=\u001b[0m \u001b[1;33m[\u001b[0m\u001b[1;33m]\u001b[0m\u001b[1;33m\u001b[0m\u001b[1;33m\u001b[0m\u001b[0m\n",
      "\u001b[1;32m~\\anaconda3\\lib\\site-packages\\lightgbm\\basic.py\u001b[0m in \u001b[0;36mupdate\u001b[1;34m(self, train_set, fobj)\u001b[0m\n\u001b[0;32m   3019\u001b[0m             \u001b[1;32mif\u001b[0m \u001b[0mself\u001b[0m\u001b[1;33m.\u001b[0m\u001b[0m__set_objective_to_none\u001b[0m\u001b[1;33m:\u001b[0m\u001b[1;33m\u001b[0m\u001b[1;33m\u001b[0m\u001b[0m\n\u001b[0;32m   3020\u001b[0m                 \u001b[1;32mraise\u001b[0m \u001b[0mLightGBMError\u001b[0m\u001b[1;33m(\u001b[0m\u001b[1;34m'Cannot update due to null objective function.'\u001b[0m\u001b[1;33m)\u001b[0m\u001b[1;33m\u001b[0m\u001b[1;33m\u001b[0m\u001b[0m\n\u001b[1;32m-> 3021\u001b[1;33m             _safe_call(_LIB.LGBM_BoosterUpdateOneIter(\n\u001b[0m\u001b[0;32m   3022\u001b[0m                 \u001b[0mself\u001b[0m\u001b[1;33m.\u001b[0m\u001b[0mhandle\u001b[0m\u001b[1;33m,\u001b[0m\u001b[1;33m\u001b[0m\u001b[1;33m\u001b[0m\u001b[0m\n\u001b[0;32m   3023\u001b[0m                 ctypes.byref(is_finished)))\n",
      "\u001b[1;31mKeyboardInterrupt\u001b[0m: "
     ]
    }
   ],
   "source": [
    "lucky_seeds = np.random.randint(0, 1000, num_seed_tr)\n",
    "\n",
    "for i, seed in enumerate(lucky_seeds):\n",
    "\n",
    "    kfold = StratifiedKFold(n_splits=splits_tr, random_state=seed, shuffle=True) # CV 늘려가면서 하기\n",
    "    cv = np.zeros(rows_train)\n",
    "    pred_test = np.zeros(rows_test)\n",
    "\n",
    "    for n, (train_idx, val_idx) in enumerate(kfold.split(train_x, train_y)):\n",
    "        \n",
    "        x_train, x_val = train_x.iloc[train_idx], train_x.iloc[val_idx]\n",
    "        y_train, y_val = train_y.iloc[train_idx].values.ravel(), train_y.iloc[val_idx].values.ravel()\n",
    "\n",
    "        lgbmodel = LGBMRegressor(**lgb_best_hyperparams)\n",
    "        lgbmodel.fit(x_train, y_train, eval_set=[(x_val, y_val)], early_stopping_rounds=30, verbose=-1)\n",
    "        \n",
    "        cv[val_idx] = lgbmodel.predict(x_val)\n",
    "        pred_test += lgbmodel.predict(test_x) / splits_tr\n",
    "        \n",
    "    pred_dict['lgb'+str(seed)] = cv\n",
    "    pred_test_dict['lgb'+str(seed)] = pred_test\n",
    "    print(f'seed {seed}', 'mean_absolute_error :', mean_absolute_error(train_y, cv))"
   ]
  },
  {
   "cell_type": "markdown",
   "id": "32e22259",
   "metadata": {},
   "source": [
    "# 3. Export"
   ]
  },
  {
   "cell_type": "code",
   "execution_count": null,
   "id": "018720e0",
   "metadata": {},
   "outputs": [],
   "source": [
    "def sort_dict(model, pred_dict, pred_test_dict):\n",
    "    pred_dict_local = {}\n",
    "    for key, value in pred_dict.items():\n",
    "        if model in key:\n",
    "            pred_dict_local[key]=value\n",
    "\n",
    "    pred_test_dict_local = {}\n",
    "    for key, value in pred_test_dict.items():\n",
    "        if model in key:\n",
    "            pred_test_dict_local[key]=value\n",
    "\n",
    "    pred_dict_new_local = dict(sorted(\n",
    "        pred_dict_local.items(), \n",
    "        key=lambda x:mean_absolute_error((train_y), list(x[1])), reverse=False)[:sel_seed])\n",
    "    pred_test_dict_new_local = {}\n",
    "    for key, value in pred_dict_new_local.items():\n",
    "        pred_test_dict_new_local[key]=pred_test_dict_local[key]\n",
    "        \n",
    "    return pred_dict_new_local, pred_test_dict_new_local"
   ]
  },
  {
   "cell_type": "code",
   "execution_count": null,
   "id": "d7a1ca88",
   "metadata": {},
   "outputs": [],
   "source": [
    "def save_dict(model, pred_dict, pred_test_dict):\n",
    "    with open('../pickle/pred_dict_'+model+'.pickle', 'wb') as fw:\n",
    "        pickle.dump(pred_dict, fw)\n",
    "    with open('../pickle/pred_test_dict_'+model+'.pickle', 'wb') as fw:\n",
    "        pickle.dump(pred_test_dict, fw)"
   ]
  },
  {
   "cell_type": "code",
   "execution_count": null,
   "id": "63edff23",
   "metadata": {},
   "outputs": [],
   "source": [
    "pred_dict_lgb, pred_test_dict_lgb = sort_dict('lgb', pred_dict, pred_test_dict)\n",
    "save_dict('lgb', pred_dict_lgb, pred_test_dict_lgb)"
   ]
  }
 ],
 "metadata": {
  "kernelspec": {
   "display_name": "Python 3 (ipykernel)",
   "language": "python",
   "name": "python3"
  },
  "language_info": {
   "codemirror_mode": {
    "name": "ipython",
    "version": 3
   },
   "file_extension": ".py",
   "mimetype": "text/x-python",
   "name": "python",
   "nbconvert_exporter": "python",
   "pygments_lexer": "ipython3",
   "version": "3.9.7"
  }
 },
 "nbformat": 4,
 "nbformat_minor": 5
}
