{
 "cells": [
  {
   "cell_type": "markdown",
   "id": "4e3babe3",
   "metadata": {},
   "source": [
    "# 1. Import"
   ]
  },
  {
   "cell_type": "code",
   "execution_count": null,
   "id": "5d3afc55",
   "metadata": {},
   "outputs": [],
   "source": [
    "# Basic Library\n",
    "import pandas as pd\n",
    "import pickle\n",
    "\n",
    "# Preprocessing\n",
    "from feature_engine import transformation as vt\n",
    "\n",
    "# Modeling\n",
    "import h2o\n",
    "from h2o.automl import H2OAutoML"
   ]
  },
  {
   "cell_type": "markdown",
   "id": "a7452e11",
   "metadata": {},
   "source": [
    "# 2. H2O"
   ]
  },
  {
   "cell_type": "code",
   "execution_count": null,
   "id": "d674eedd",
   "metadata": {},
   "outputs": [],
   "source": [
    "train = pd.read_csv(\"../data/train.csv\")\n",
    "test = pd.read_csv(\"../data/test.csv\")\n",
    "submission = pd.read_csv(\"../data/sample_submission.csv\")\n",
    "\n",
    "train = train.drop('id', axis=1)\n",
    "test = test.drop('id', axis=1)"
   ]
  },
  {
   "cell_type": "code",
   "execution_count": null,
   "id": "439132c7",
   "metadata": {},
   "outputs": [],
   "source": [
    "train['Water Weight'] = train['Whole Weight'] - (train['Shucked Weight'] + train['Shell Weight'])\n",
    "test['Water Weight'] = test['Whole Weight'] - (test['Shucked Weight'] + test['Shell Weight'])\n",
    "\n",
    "train.loc[train[(train['Water Weight']<0.0005)].index, \"Water Weight\"] = 0.0005\n",
    "test.loc[test[(test['Water Weight']<0.0005)].index, \"Water Weight\"] = 0.0005"
   ]
  },
  {
   "cell_type": "code",
   "execution_count": null,
   "id": "cf7a3119",
   "metadata": {},
   "outputs": [],
   "source": [
    "h2o.init(\n",
    "    nthreads=-1,     # number of threads when launching a new H2O server\n",
    "    max_mem_size=12  # in gigabytes\n",
    ")"
   ]
  },
  {
   "cell_type": "code",
   "execution_count": null,
   "id": "e6326038",
   "metadata": {},
   "outputs": [],
   "source": [
    "train = h2o.H2OFrame(train)\n",
    "test = h2o.H2OFrame(test)"
   ]
  },
  {
   "cell_type": "markdown",
   "id": "0640c625",
   "metadata": {},
   "source": [
    "train = h2o.import_file(\"../data/train_ce\")\n",
    "test = h2o.import_file(\"../data/test_ce\")"
   ]
  },
  {
   "cell_type": "code",
   "execution_count": null,
   "id": "5387584c",
   "metadata": {},
   "outputs": [],
   "source": [
    "x = train.columns\n",
    "y = \"Target\"\n",
    "x.remove(y)"
   ]
  },
  {
   "cell_type": "code",
   "execution_count": null,
   "id": "39ba7264",
   "metadata": {},
   "outputs": [],
   "source": [
    "aml = H2OAutoML(max_models=20, stopping_metric=\"MAE\", sort_metric=\"MAE\", seed=1, project_name=\"H2O\")\n",
    "aml.train(x=x, y=y, training_frame=train)"
   ]
  },
  {
   "cell_type": "code",
   "execution_count": null,
   "id": "52d26dd5",
   "metadata": {},
   "outputs": [],
   "source": [
    "lb = aml.leaderboard\n",
    "lb.head(rows=lb.nrows)"
   ]
  },
  {
   "cell_type": "code",
   "execution_count": null,
   "id": "3111e6cb",
   "metadata": {},
   "outputs": [],
   "source": [
    "lb = aml.leaderboard\n",
    "lb.head(rows=lb.nrows)"
   ]
  },
  {
   "cell_type": "code",
   "execution_count": null,
   "id": "2908cfd0",
   "metadata": {},
   "outputs": [],
   "source": [
    "preds = aml.predict(test)"
   ]
  }
 ],
 "metadata": {
  "kernelspec": {
   "display_name": "Python 3 (ipykernel)",
   "language": "python",
   "name": "python3"
  },
  "language_info": {
   "codemirror_mode": {
    "name": "ipython",
    "version": 3
   },
   "file_extension": ".py",
   "mimetype": "text/x-python",
   "name": "python",
   "nbconvert_exporter": "python",
   "pygments_lexer": "ipython3",
   "version": "3.9.7"
  }
 },
 "nbformat": 4,
 "nbformat_minor": 5
}
