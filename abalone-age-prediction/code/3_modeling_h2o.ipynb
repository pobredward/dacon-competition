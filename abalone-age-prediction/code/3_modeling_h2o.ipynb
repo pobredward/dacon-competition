{
 "cells": [
  {
   "cell_type": "markdown",
   "id": "4e3babe3",
   "metadata": {},
   "source": [
    "# 1. Import"
   ]
  },
  {
   "cell_type": "code",
   "execution_count": 6,
   "id": "5d3afc55",
   "metadata": {},
   "outputs": [],
   "source": [
    "# Basic Library\n",
    "import pandas as pd\n",
    "import pickle\n",
    "\n",
    "# Preprocessing\n",
    "from feature_engine import transformation as vt\n",
    "\n",
    "# Modeling\n",
    "import h2o\n",
    "from h2o.automl import H2OAutoML"
   ]
  },
  {
   "cell_type": "markdown",
   "id": "a7452e11",
   "metadata": {},
   "source": [
    "# 2. H2O"
   ]
  },
  {
   "cell_type": "code",
   "execution_count": 7,
   "id": "d674eedd",
   "metadata": {},
   "outputs": [],
   "source": [
    "train = pd.read_csv(\"../data/train_f1.csv\")\n",
    "test = pd.read_csv(\"../data/test_f1.csv\")\n",
    "submission = pd.read_csv(\"../data/sample_submission.csv\")"
   ]
  },
  {
   "cell_type": "code",
   "execution_count": 8,
   "id": "cf7a3119",
   "metadata": {},
   "outputs": [
    {
     "name": "stdout",
     "output_type": "stream",
     "text": [
      "Checking whether there is an H2O instance running at http://localhost:54321 ..... not found.\n",
      "Attempting to start a local H2O server...\n",
      "; OpenJDK 64-Bit Server VM Zulu11.43+55-CA (build 11.0.9.1+1-LTS, mixed mode)\n",
      "  Starting server from C:\\Users\\pobre\\anaconda3\\Lib\\site-packages\\h2o\\backend\\bin\\h2o.jar\n",
      "  Ice root: C:\\Users\\pobre\\AppData\\Local\\Temp\\tmpae77hrhz\n",
      "  JVM stdout: C:\\Users\\pobre\\AppData\\Local\\Temp\\tmpae77hrhz\\h2o_pobre_started_from_python.out\n",
      "  JVM stderr: C:\\Users\\pobre\\AppData\\Local\\Temp\\tmpae77hrhz\\h2o_pobre_started_from_python.err\n",
      "  Server is running at http://127.0.0.1:54321\n",
      "Connecting to H2O server at http://127.0.0.1:54321 ... successful.\n"
     ]
    },
    {
     "data": {
      "text/html": [
       "<div style=\"overflow:auto\"><table style=\"width:50%\"><tr><td>H2O_cluster_uptime:</td>\n",
       "<td>03 secs</td></tr>\n",
       "<tr><td>H2O_cluster_timezone:</td>\n",
       "<td>Asia/Seoul</td></tr>\n",
       "<tr><td>H2O_data_parsing_timezone:</td>\n",
       "<td>UTC</td></tr>\n",
       "<tr><td>H2O_cluster_version:</td>\n",
       "<td>3.36.0.3</td></tr>\n",
       "<tr><td>H2O_cluster_version_age:</td>\n",
       "<td>1 month and 9 days </td></tr>\n",
       "<tr><td>H2O_cluster_name:</td>\n",
       "<td>H2O_from_python_pobre_mokd5e</td></tr>\n",
       "<tr><td>H2O_cluster_total_nodes:</td>\n",
       "<td>1</td></tr>\n",
       "<tr><td>H2O_cluster_free_memory:</td>\n",
       "<td>12 Gb</td></tr>\n",
       "<tr><td>H2O_cluster_total_cores:</td>\n",
       "<td>12</td></tr>\n",
       "<tr><td>H2O_cluster_allowed_cores:</td>\n",
       "<td>12</td></tr>\n",
       "<tr><td>H2O_cluster_status:</td>\n",
       "<td>locked, healthy</td></tr>\n",
       "<tr><td>H2O_connection_url:</td>\n",
       "<td>http://127.0.0.1:54321</td></tr>\n",
       "<tr><td>H2O_connection_proxy:</td>\n",
       "<td>{\"http\": null, \"https\": null}</td></tr>\n",
       "<tr><td>H2O_internal_security:</td>\n",
       "<td>False</td></tr>\n",
       "<tr><td>Python_version:</td>\n",
       "<td>3.9.7 final</td></tr></table></div>"
      ],
      "text/plain": [
       "--------------------------  -----------------------------\n",
       "H2O_cluster_uptime:         03 secs\n",
       "H2O_cluster_timezone:       Asia/Seoul\n",
       "H2O_data_parsing_timezone:  UTC\n",
       "H2O_cluster_version:        3.36.0.3\n",
       "H2O_cluster_version_age:    1 month and 9 days\n",
       "H2O_cluster_name:           H2O_from_python_pobre_mokd5e\n",
       "H2O_cluster_total_nodes:    1\n",
       "H2O_cluster_free_memory:    12 Gb\n",
       "H2O_cluster_total_cores:    12\n",
       "H2O_cluster_allowed_cores:  12\n",
       "H2O_cluster_status:         locked, healthy\n",
       "H2O_connection_url:         http://127.0.0.1:54321\n",
       "H2O_connection_proxy:       {\"http\": null, \"https\": null}\n",
       "H2O_internal_security:      False\n",
       "Python_version:             3.9.7 final\n",
       "--------------------------  -----------------------------"
      ]
     },
     "metadata": {},
     "output_type": "display_data"
    },
    {
     "name": "stdout",
     "output_type": "stream",
     "text": [
      "Parse progress: |████████████████████████████████████████████████████████████████| (done) 100%\n",
      "Parse progress: |████████████████████████████████████████████████████████████████| (done) 100%\n"
     ]
    }
   ],
   "source": [
    "h2o.init(nthreads=-1, max_mem_size=12)\n",
    "\n",
    "train = h2o.H2OFrame(train)\n",
    "test = h2o.H2OFrame(test)"
   ]
  },
  {
   "cell_type": "code",
   "execution_count": 9,
   "id": "5387584c",
   "metadata": {},
   "outputs": [],
   "source": [
    "x = train.columns\n",
    "y = \"Target\"\n",
    "x.remove(y)"
   ]
  },
  {
   "cell_type": "code",
   "execution_count": 10,
   "id": "39ba7264",
   "metadata": {},
   "outputs": [
    {
     "name": "stdout",
     "output_type": "stream",
     "text": [
      "AutoML progress: |\n",
      "03:31:06.915: AutoML: XGBoost is not available; skipping it.\n",
      "03:31:06.941: Step 'best_of_family_xgboost' not defined in provider 'StackedEnsemble': skipping it.\n",
      "03:31:06.942: Step 'all_xgboost' not defined in provider 'StackedEnsemble': skipping it.\n",
      "03:31:07.61: _train param, Dropping bad and constant columns: [Water Weight#log2/Water Weight#log, Diameter#log2/Diameter#log, Height#log10/Height#log, Viscra Weight#log/Viscra Weight#log10, Shell Weight#log2/Shell Weight#log, Viscra Weight#log10/Viscra Weight#log, Height#log2/Height#log, Whole Weight#log2/Whole Weight#log, Water Weight#log2/Water Weight#log10, Viscra Weight#log2/Viscra Weight#log, Height#log2/Height#log10, Viscra Weight#log10/Viscra Weight#log2, Shell Weight#log2/Shell Weight#log10, Height#log/Height#log2, Lenght#log10/Lenght#log, Whole Weight#log2/Whole Weight#log10, Lenght#log/Lenght#log2, Lenght#log10/Lenght#log2, Shucked Weight#log/Shucked Weight#log2, Height#log/Height#log10, Whole Weight#log/Whole Weight#log2, Whole Weight#log10/Whole Weight#log2, Viscra Weight#log/Viscra Weight#log2, Viscra Weight#log2/Viscra Weight#log10, Shucked Weight#log2/Shucked Weight#log10, Diameter#log/Diameter#log2, Lenght#log2/Lenght#log10, Diameter#log10/Diameter#log2, Diameter#log10/Diameter#log, Shell Weight#log/Shell Weight#log10, Shucked Weight#log/Shucked Weight#log10, Shell Weight#log10/Shell Weight#log, Lenght#log2/Lenght#log, Whole Weight#log/Whole Weight#log10, Height#log10/Height#log2, Shell Weight#log10/Shell Weight#log2, Diameter#log2/Diameter#log10, Water Weight#log10/Water Weight#log, Whole Weight#log10/Whole Weight#log, Shucked Weight#log10/Shucked Weight#log, Shell Weight#log/Shell Weight#log2, Diameter#log/Diameter#log10, Water Weight#log/Water Weight#log2, Water Weight#log/Water Weight#log10, Shucked Weight#log2/Shucked Weight#log, Shucked Weight#log10/Shucked Weight#log2, Lenght#log/Lenght#log10, Water Weight#log10/Water Weight#log2]\n",
      "\n",
      "████████████████████████████████████████████████\n",
      "03:39:00.850: _train param, Dropping bad and constant columns: [Water Weight#log2/Water Weight#log, Diameter#log2/Diameter#log, Height#log10/Height#log, Viscra Weight#log/Viscra Weight#log10, Shell Weight#log2/Shell Weight#log, Viscra Weight#log10/Viscra Weight#log, Height#log2/Height#log, Whole Weight#log2/Whole Weight#log, Water Weight#log2/Water Weight#log10, Viscra Weight#log2/Viscra Weight#log, Height#log2/Height#log10, Viscra Weight#log10/Viscra Weight#log2, Shell Weight#log2/Shell Weight#log10, Height#log/Height#log2, Lenght#log10/Lenght#log, Whole Weight#log2/Whole Weight#log10, Lenght#log/Lenght#log2, Lenght#log10/Lenght#log2, Shucked Weight#log/Shucked Weight#log2, Height#log/Height#log10, Whole Weight#log/Whole Weight#log2, Whole Weight#log10/Whole Weight#log2, Viscra Weight#log/Viscra Weight#log2, Viscra Weight#log2/Viscra Weight#log10, Shucked Weight#log2/Shucked Weight#log10, Diameter#log/Diameter#log2, Lenght#log2/Lenght#log10, Diameter#log10/Diameter#log2, Diameter#log10/Diameter#log, Shell Weight#log/Shell Weight#log10, Shucked Weight#log/Shucked Weight#log10, Shell Weight#log10/Shell Weight#log, Lenght#log2/Lenght#log, Whole Weight#log/Whole Weight#log10, Height#log10/Height#log2, Shell Weight#log10/Shell Weight#log2, Diameter#log2/Diameter#log10, Water Weight#log10/Water Weight#log, Whole Weight#log10/Whole Weight#log, Shucked Weight#log10/Shucked Weight#log, Shell Weight#log/Shell Weight#log2, Diameter#log/Diameter#log10, Water Weight#log/Water Weight#log2, Water Weight#log/Water Weight#log10, Shucked Weight#log2/Shucked Weight#log, Shucked Weight#log10/Shucked Weight#log2, Lenght#log/Lenght#log10, Water Weight#log10/Water Weight#log2]\n",
      "\n",
      "███\n",
      "03:41:31.228: _train param, Dropping unused columns: [Water Weight#log2/Water Weight#log, Diameter#log2/Diameter#log, Height#log10/Height#log, Viscra Weight#log/Viscra Weight#log10, Shell Weight#log2/Shell Weight#log, Viscra Weight#log10/Viscra Weight#log, Height#log2/Height#log, Whole Weight#log2/Whole Weight#log, Water Weight#log2/Water Weight#log10, Viscra Weight#log2/Viscra Weight#log, Height#log2/Height#log10, Viscra Weight#log10/Viscra Weight#log2, Shell Weight#log2/Shell Weight#log10, Height#log/Height#log2, Lenght#log10/Lenght#log, Whole Weight#log2/Whole Weight#log10, Lenght#log/Lenght#log2, Lenght#log10/Lenght#log2, Shucked Weight#log/Shucked Weight#log2, Height#log/Height#log10, Whole Weight#log/Whole Weight#log2, Whole Weight#log10/Whole Weight#log2, Viscra Weight#log/Viscra Weight#log2, Viscra Weight#log2/Viscra Weight#log10, Shucked Weight#log2/Shucked Weight#log10, Diameter#log/Diameter#log2, Lenght#log2/Lenght#log10, Diameter#log10/Diameter#log2, Diameter#log10/Diameter#log, Shell Weight#log/Shell Weight#log10, Shucked Weight#log/Shucked Weight#log10, Shell Weight#log10/Shell Weight#log, Lenght#log2/Lenght#log, Whole Weight#log/Whole Weight#log10, Height#log10/Height#log2, Shell Weight#log10/Shell Weight#log2, Diameter#log2/Diameter#log10, Water Weight#log10/Water Weight#log, Whole Weight#log10/Whole Weight#log, Shucked Weight#log10/Shucked Weight#log, Shell Weight#log/Shell Weight#log2, Diameter#log/Diameter#log10, Water Weight#log/Water Weight#log2, Water Weight#log/Water Weight#log10, Shucked Weight#log2/Shucked Weight#log, Shucked Weight#log10/Shucked Weight#log2, Lenght#log/Lenght#log10, Water Weight#log10/Water Weight#log2]\n",
      "03:41:32.278: _train param, Dropping bad and constant columns: [Water Weight#log2/Water Weight#log, Diameter#log2/Diameter#log, Height#log10/Height#log, Viscra Weight#log/Viscra Weight#log10, Shell Weight#log2/Shell Weight#log, Viscra Weight#log10/Viscra Weight#log, Height#log2/Height#log, Whole Weight#log2/Whole Weight#log, Water Weight#log2/Water Weight#log10, Viscra Weight#log2/Viscra Weight#log, Height#log2/Height#log10, Viscra Weight#log10/Viscra Weight#log2, Shell Weight#log2/Shell Weight#log10, Height#log/Height#log2, Lenght#log10/Lenght#log, Whole Weight#log2/Whole Weight#log10, Lenght#log/Lenght#log2, Lenght#log10/Lenght#log2, Shucked Weight#log/Shucked Weight#log2, Height#log/Height#log10, Whole Weight#log/Whole Weight#log2, Whole Weight#log10/Whole Weight#log2, Viscra Weight#log/Viscra Weight#log2, Viscra Weight#log2/Viscra Weight#log10, Shucked Weight#log2/Shucked Weight#log10, Diameter#log/Diameter#log2, Lenght#log2/Lenght#log10, Diameter#log10/Diameter#log2, Diameter#log10/Diameter#log, Shell Weight#log/Shell Weight#log10, Shucked Weight#log/Shucked Weight#log10, Shell Weight#log10/Shell Weight#log, Lenght#log2/Lenght#log, Whole Weight#log/Whole Weight#log10, Height#log10/Height#log2, Shell Weight#log10/Shell Weight#log2, Diameter#log2/Diameter#log10, Water Weight#log10/Water Weight#log, Whole Weight#log10/Whole Weight#log, Shucked Weight#log10/Shucked Weight#log, Shell Weight#log/Shell Weight#log2, Diameter#log/Diameter#log10, Water Weight#log/Water Weight#log2, Water Weight#log/Water Weight#log10, Shucked Weight#log2/Shucked Weight#log, Shucked Weight#log10/Shucked Weight#log2, Lenght#log/Lenght#log10, Water Weight#log10/Water Weight#log2]\n",
      "\n",
      "███████████\n",
      "04:04:29.654: _train param, Dropping bad and constant columns: [Water Weight#log2/Water Weight#log, Diameter#log2/Diameter#log, Height#log10/Height#log, Viscra Weight#log/Viscra Weight#log10, Shell Weight#log2/Shell Weight#log, Viscra Weight#log10/Viscra Weight#log, Height#log2/Height#log, Whole Weight#log2/Whole Weight#log, Water Weight#log2/Water Weight#log10, Viscra Weight#log2/Viscra Weight#log, Height#log2/Height#log10, Viscra Weight#log10/Viscra Weight#log2, Shell Weight#log2/Shell Weight#log10, Height#log/Height#log2, Lenght#log10/Lenght#log, Whole Weight#log2/Whole Weight#log10, Lenght#log/Lenght#log2, Lenght#log10/Lenght#log2, Shucked Weight#log/Shucked Weight#log2, Height#log/Height#log10, Whole Weight#log/Whole Weight#log2, Whole Weight#log10/Whole Weight#log2, Viscra Weight#log/Viscra Weight#log2, Viscra Weight#log2/Viscra Weight#log10, Shucked Weight#log2/Shucked Weight#log10, Diameter#log/Diameter#log2, Lenght#log2/Lenght#log10, Diameter#log10/Diameter#log2, Diameter#log10/Diameter#log, Shell Weight#log/Shell Weight#log10, Shucked Weight#log/Shucked Weight#log10, Shell Weight#log10/Shell Weight#log, Lenght#log2/Lenght#log, Whole Weight#log/Whole Weight#log10, Height#log10/Height#log2, Shell Weight#log10/Shell Weight#log2, Diameter#log2/Diameter#log10, Water Weight#log10/Water Weight#log, Whole Weight#log10/Whole Weight#log, Shucked Weight#log10/Shucked Weight#log, Shell Weight#log/Shell Weight#log2, Diameter#log/Diameter#log10, Water Weight#log/Water Weight#log2, Water Weight#log/Water Weight#log10, Shucked Weight#log2/Shucked Weight#log, Shucked Weight#log10/Shucked Weight#log2, Lenght#log/Lenght#log10, Water Weight#log10/Water Weight#log2]\n",
      "\n"
     ]
    },
    {
     "name": "stdout",
     "output_type": "stream",
     "text": [
      "\n",
      "04:10:22.472: _train param, Dropping bad and constant columns: [Water Weight#log2/Water Weight#log, Diameter#log2/Diameter#log, Height#log10/Height#log, Viscra Weight#log/Viscra Weight#log10, Shell Weight#log2/Shell Weight#log, Viscra Weight#log10/Viscra Weight#log, Height#log2/Height#log, Whole Weight#log2/Whole Weight#log, Water Weight#log2/Water Weight#log10, Viscra Weight#log2/Viscra Weight#log, Height#log2/Height#log10, Viscra Weight#log10/Viscra Weight#log2, Shell Weight#log2/Shell Weight#log10, Height#log/Height#log2, Lenght#log10/Lenght#log, Whole Weight#log2/Whole Weight#log10, Lenght#log/Lenght#log2, Lenght#log10/Lenght#log2, Shucked Weight#log/Shucked Weight#log2, Height#log/Height#log10, Whole Weight#log/Whole Weight#log2, Whole Weight#log10/Whole Weight#log2, Viscra Weight#log/Viscra Weight#log2, Viscra Weight#log2/Viscra Weight#log10, Shucked Weight#log2/Shucked Weight#log10, Diameter#log/Diameter#log2, Lenght#log2/Lenght#log10, Diameter#log10/Diameter#log2, Diameter#log10/Diameter#log, Shell Weight#log/Shell Weight#log10, Shucked Weight#log/Shucked Weight#log10, Shell Weight#log10/Shell Weight#log, Lenght#log2/Lenght#log, Whole Weight#log/Whole Weight#log10, Height#log10/Height#log2, Shell Weight#log10/Shell Weight#log2, Diameter#log2/Diameter#log10, Water Weight#log10/Water Weight#log, Whole Weight#log10/Whole Weight#log, Shucked Weight#log10/Shucked Weight#log, Shell Weight#log/Shell Weight#log2, Diameter#log/Diameter#log10, Water Weight#log/Water Weight#log2, Water Weight#log/Water Weight#log10, Shucked Weight#log2/Shucked Weight#log, Shucked Weight#log10/Shucked Weight#log2, Lenght#log/Lenght#log10, Water Weight#log10/Water Weight#log2]\n",
      "\n",
      "\n",
      "04:17:19.997: _train param, Dropping bad and constant columns: [Water Weight#log2/Water Weight#log, Diameter#log2/Diameter#log, Height#log10/Height#log, Viscra Weight#log/Viscra Weight#log10, Shell Weight#log2/Shell Weight#log, Viscra Weight#log10/Viscra Weight#log, Height#log2/Height#log, Whole Weight#log2/Whole Weight#log, Water Weight#log2/Water Weight#log10, Viscra Weight#log2/Viscra Weight#log, Height#log2/Height#log10, Viscra Weight#log10/Viscra Weight#log2, Shell Weight#log2/Shell Weight#log10, Height#log/Height#log2, Lenght#log10/Lenght#log, Whole Weight#log2/Whole Weight#log10, Lenght#log/Lenght#log2, Lenght#log10/Lenght#log2, Shucked Weight#log/Shucked Weight#log2, Height#log/Height#log10, Whole Weight#log/Whole Weight#log2, Whole Weight#log10/Whole Weight#log2, Viscra Weight#log/Viscra Weight#log2, Viscra Weight#log2/Viscra Weight#log10, Shucked Weight#log2/Shucked Weight#log10, Diameter#log/Diameter#log2, Lenght#log2/Lenght#log10, Diameter#log10/Diameter#log2, Diameter#log10/Diameter#log, Shell Weight#log/Shell Weight#log10, Shucked Weight#log/Shucked Weight#log10, Shell Weight#log10/Shell Weight#log, Lenght#log2/Lenght#log, Whole Weight#log/Whole Weight#log10, Height#log10/Height#log2, Shell Weight#log10/Shell Weight#log2, Diameter#log2/Diameter#log10, Water Weight#log10/Water Weight#log, Whole Weight#log10/Whole Weight#log, Shucked Weight#log10/Shucked Weight#log, Shell Weight#log/Shell Weight#log2, Diameter#log/Diameter#log10, Water Weight#log/Water Weight#log2, Water Weight#log/Water Weight#log10, Shucked Weight#log2/Shucked Weight#log, Shucked Weight#log10/Shucked Weight#log2, Lenght#log/Lenght#log10, Water Weight#log10/Water Weight#log2]\n",
      "\n",
      "\n",
      "04:26:09.212: _train param, Dropping unused columns: [Water Weight#log2/Water Weight#log, Diameter#log2/Diameter#log, Height#log10/Height#log, Viscra Weight#log/Viscra Weight#log10, Shell Weight#log2/Shell Weight#log, Viscra Weight#log10/Viscra Weight#log, Height#log2/Height#log, Whole Weight#log2/Whole Weight#log, Water Weight#log2/Water Weight#log10, Viscra Weight#log2/Viscra Weight#log, Height#log2/Height#log10, Viscra Weight#log10/Viscra Weight#log2, Shell Weight#log2/Shell Weight#log10, Height#log/Height#log2, Lenght#log10/Lenght#log, Whole Weight#log2/Whole Weight#log10, Lenght#log/Lenght#log2, Lenght#log10/Lenght#log2, Shucked Weight#log/Shucked Weight#log2, Height#log/Height#log10, Whole Weight#log/Whole Weight#log2, Whole Weight#log10/Whole Weight#log2, Viscra Weight#log/Viscra Weight#log2, Viscra Weight#log2/Viscra Weight#log10, Shucked Weight#log2/Shucked Weight#log10, Diameter#log/Diameter#log2, Lenght#log2/Lenght#log10, Diameter#log10/Diameter#log2, Diameter#log10/Diameter#log, Shell Weight#log/Shell Weight#log10, Shucked Weight#log/Shucked Weight#log10, Shell Weight#log10/Shell Weight#log, Lenght#log2/Lenght#log, Whole Weight#log/Whole Weight#log10, Height#log10/Height#log2, Shell Weight#log10/Shell Weight#log2, Diameter#log2/Diameter#log10, Water Weight#log10/Water Weight#log, Whole Weight#log10/Whole Weight#log, Shucked Weight#log10/Shucked Weight#log, Shell Weight#log/Shell Weight#log2, Diameter#log/Diameter#log10, Water Weight#log/Water Weight#log2, Water Weight#log/Water Weight#log10, Shucked Weight#log2/Shucked Weight#log, Shucked Weight#log10/Shucked Weight#log2, Lenght#log/Lenght#log10, Water Weight#log10/Water Weight#log2]\n",
      "04:26:10.260: _train param, Dropping unused columns: [Water Weight#log2/Water Weight#log, Diameter#log2/Diameter#log, Height#log10/Height#log, Viscra Weight#log/Viscra Weight#log10, Shell Weight#log2/Shell Weight#log, Viscra Weight#log10/Viscra Weight#log, Height#log2/Height#log, Whole Weight#log2/Whole Weight#log, Water Weight#log2/Water Weight#log10, Viscra Weight#log2/Viscra Weight#log, Height#log2/Height#log10, Viscra Weight#log10/Viscra Weight#log2, Shell Weight#log2/Shell Weight#log10, Height#log/Height#log2, Lenght#log10/Lenght#log, Whole Weight#log2/Whole Weight#log10, Lenght#log/Lenght#log2, Lenght#log10/Lenght#log2, Shucked Weight#log/Shucked Weight#log2, Height#log/Height#log10, Whole Weight#log/Whole Weight#log2, Whole Weight#log10/Whole Weight#log2, Viscra Weight#log/Viscra Weight#log2, Viscra Weight#log2/Viscra Weight#log10, Shucked Weight#log2/Shucked Weight#log10, Diameter#log/Diameter#log2, Lenght#log2/Lenght#log10, Diameter#log10/Diameter#log2, Diameter#log10/Diameter#log, Shell Weight#log/Shell Weight#log10, Shucked Weight#log/Shucked Weight#log10, Shell Weight#log10/Shell Weight#log, Lenght#log2/Lenght#log, Whole Weight#log/Whole Weight#log10, Height#log10/Height#log2, Shell Weight#log10/Shell Weight#log2, Diameter#log2/Diameter#log10, Water Weight#log10/Water Weight#log, Whole Weight#log10/Whole Weight#log, Shucked Weight#log10/Shucked Weight#log, Shell Weight#log/Shell Weight#log2, Diameter#log/Diameter#log10, Water Weight#log/Water Weight#log2, Water Weight#log/Water Weight#log10, Shucked Weight#log2/Shucked Weight#log, Shucked Weight#log10/Shucked Weight#log2, Lenght#log/Lenght#log10, Water Weight#log10/Water Weight#log2]\n",
      "04:26:11.300: _train param, Dropping bad and constant columns: [Water Weight#log2/Water Weight#log, Diameter#log2/Diameter#log, Height#log10/Height#log, Viscra Weight#log/Viscra Weight#log10, Shell Weight#log2/Shell Weight#log, Viscra Weight#log10/Viscra Weight#log, Height#log2/Height#log, Whole Weight#log2/Whole Weight#log, Water Weight#log2/Water Weight#log10, Viscra Weight#log2/Viscra Weight#log, Height#log2/Height#log10, Viscra Weight#log10/Viscra Weight#log2, Shell Weight#log2/Shell Weight#log10, Height#log/Height#log2, Lenght#log10/Lenght#log, Whole Weight#log2/Whole Weight#log10, Lenght#log/Lenght#log2, Lenght#log10/Lenght#log2, Shucked Weight#log/Shucked Weight#log2, Height#log/Height#log10, Whole Weight#log/Whole Weight#log2, Whole Weight#log10/Whole Weight#log2, Viscra Weight#log/Viscra Weight#log2, Viscra Weight#log2/Viscra Weight#log10, Shucked Weight#log2/Shucked Weight#log10, Diameter#log/Diameter#log2, Lenght#log2/Lenght#log10, Diameter#log10/Diameter#log2, Diameter#log10/Diameter#log, Shell Weight#log/Shell Weight#log10, Shucked Weight#log/Shucked Weight#log10, Shell Weight#log10/Shell Weight#log, Lenght#log2/Lenght#log, Whole Weight#log/Whole Weight#log10, Height#log10/Height#log2, Shell Weight#log10/Shell Weight#log2, Diameter#log2/Diameter#log10, Water Weight#log10/Water Weight#log, Whole Weight#log10/Whole Weight#log, Shucked Weight#log10/Shucked Weight#log, Shell Weight#log/Shell Weight#log2, Diameter#log/Diameter#log10, Water Weight#log/Water Weight#log2, Water Weight#log/Water Weight#log10, Shucked Weight#log2/Shucked Weight#log, Shucked Weight#log10/Shucked Weight#log2, Lenght#log/Lenght#log10, Water Weight#log10/Water Weight#log2]\n",
      "\n"
     ]
    },
    {
     "name": "stdout",
     "output_type": "stream",
     "text": [
      "█\n",
      "04:50:58.846: _train param, Dropping bad and constant columns: [Water Weight#log2/Water Weight#log, Diameter#log2/Diameter#log, Height#log10/Height#log, Viscra Weight#log/Viscra Weight#log10, Shell Weight#log2/Shell Weight#log, Viscra Weight#log10/Viscra Weight#log, Height#log2/Height#log, Whole Weight#log2/Whole Weight#log, Water Weight#log2/Water Weight#log10, Viscra Weight#log2/Viscra Weight#log, Height#log2/Height#log10, Viscra Weight#log10/Viscra Weight#log2, Shell Weight#log2/Shell Weight#log10, Height#log/Height#log2, Lenght#log10/Lenght#log, Whole Weight#log2/Whole Weight#log10, Lenght#log/Lenght#log2, Lenght#log10/Lenght#log2, Shucked Weight#log/Shucked Weight#log2, Height#log/Height#log10, Whole Weight#log/Whole Weight#log2, Whole Weight#log10/Whole Weight#log2, Viscra Weight#log/Viscra Weight#log2, Viscra Weight#log2/Viscra Weight#log10, Shucked Weight#log2/Shucked Weight#log10, Diameter#log/Diameter#log2, Lenght#log2/Lenght#log10, Diameter#log10/Diameter#log2, Diameter#log10/Diameter#log, Shell Weight#log/Shell Weight#log10, Shucked Weight#log/Shucked Weight#log10, Shell Weight#log10/Shell Weight#log, Lenght#log2/Lenght#log, Whole Weight#log/Whole Weight#log10, Height#log10/Height#log2, Shell Weight#log10/Shell Weight#log2, Diameter#log2/Diameter#log10, Water Weight#log10/Water Weight#log, Whole Weight#log10/Whole Weight#log, Shucked Weight#log10/Shucked Weight#log, Shell Weight#log/Shell Weight#log2, Diameter#log/Diameter#log10, Water Weight#log/Water Weight#log2, Water Weight#log/Water Weight#log10, Shucked Weight#log2/Shucked Weight#log, Shucked Weight#log10/Shucked Weight#log2, Lenght#log/Lenght#log10, Water Weight#log10/Water Weight#log2]\n",
      "\n",
      "\n",
      "04:56:59.39: _train param, Dropping bad and constant columns: [Water Weight#log2/Water Weight#log, Diameter#log2/Diameter#log, Height#log10/Height#log, Viscra Weight#log/Viscra Weight#log10, Shell Weight#log2/Shell Weight#log, Viscra Weight#log10/Viscra Weight#log, Height#log2/Height#log, Whole Weight#log2/Whole Weight#log, Water Weight#log2/Water Weight#log10, Viscra Weight#log2/Viscra Weight#log, Height#log2/Height#log10, Viscra Weight#log10/Viscra Weight#log2, Shell Weight#log2/Shell Weight#log10, Height#log/Height#log2, Lenght#log10/Lenght#log, Whole Weight#log2/Whole Weight#log10, Lenght#log/Lenght#log2, Lenght#log10/Lenght#log2, Shucked Weight#log/Shucked Weight#log2, Height#log/Height#log10, Whole Weight#log/Whole Weight#log2, Whole Weight#log10/Whole Weight#log2, Viscra Weight#log/Viscra Weight#log2, Viscra Weight#log2/Viscra Weight#log10, Shucked Weight#log2/Shucked Weight#log10, Diameter#log/Diameter#log2, Lenght#log2/Lenght#log10, Diameter#log10/Diameter#log2, Diameter#log10/Diameter#log, Shell Weight#log/Shell Weight#log10, Shucked Weight#log/Shucked Weight#log10, Shell Weight#log10/Shell Weight#log, Lenght#log2/Lenght#log, Whole Weight#log/Whole Weight#log10, Height#log10/Height#log2, Shell Weight#log10/Shell Weight#log2, Diameter#log2/Diameter#log10, Water Weight#log10/Water Weight#log, Whole Weight#log10/Whole Weight#log, Shucked Weight#log10/Shucked Weight#log, Shell Weight#log/Shell Weight#log2, Diameter#log/Diameter#log10, Water Weight#log/Water Weight#log2, Water Weight#log/Water Weight#log10, Shucked Weight#log2/Shucked Weight#log, Shucked Weight#log10/Shucked Weight#log2, Lenght#log/Lenght#log10, Water Weight#log10/Water Weight#log2]\n",
      "\n",
      "\n",
      "04:57:44.519: _train param, Dropping unused columns: [Water Weight#log2/Water Weight#log, Diameter#log2/Diameter#log, Height#log10/Height#log, Viscra Weight#log/Viscra Weight#log10, Shell Weight#log2/Shell Weight#log, Viscra Weight#log10/Viscra Weight#log, Height#log2/Height#log, Whole Weight#log2/Whole Weight#log, Water Weight#log2/Water Weight#log10, Viscra Weight#log2/Viscra Weight#log, Height#log2/Height#log10, Viscra Weight#log10/Viscra Weight#log2, Shell Weight#log2/Shell Weight#log10, Height#log/Height#log2, Lenght#log10/Lenght#log, Whole Weight#log2/Whole Weight#log10, Lenght#log/Lenght#log2, Lenght#log10/Lenght#log2, Shucked Weight#log/Shucked Weight#log2, Height#log/Height#log10, Whole Weight#log/Whole Weight#log2, Whole Weight#log10/Whole Weight#log2, Viscra Weight#log/Viscra Weight#log2, Viscra Weight#log2/Viscra Weight#log10, Shucked Weight#log2/Shucked Weight#log10, Diameter#log/Diameter#log2, Lenght#log2/Lenght#log10, Diameter#log10/Diameter#log2, Diameter#log10/Diameter#log, Shell Weight#log/Shell Weight#log10, Shucked Weight#log/Shucked Weight#log10, Shell Weight#log10/Shell Weight#log, Lenght#log2/Lenght#log, Whole Weight#log/Whole Weight#log10, Height#log10/Height#log2, Shell Weight#log10/Shell Weight#log2, Diameter#log2/Diameter#log10, Water Weight#log10/Water Weight#log, Whole Weight#log10/Whole Weight#log, Shucked Weight#log10/Shucked Weight#log, Shell Weight#log/Shell Weight#log2, Diameter#log/Diameter#log10, Water Weight#log/Water Weight#log2, Water Weight#log/Water Weight#log10, Shucked Weight#log2/Shucked Weight#log, Shucked Weight#log10/Shucked Weight#log2, Lenght#log/Lenght#log10, Water Weight#log10/Water Weight#log2]\n",
      "04:57:45.559: _train param, Dropping unused columns: [Water Weight#log2/Water Weight#log, Diameter#log2/Diameter#log, Height#log10/Height#log, Viscra Weight#log/Viscra Weight#log10, Shell Weight#log2/Shell Weight#log, Viscra Weight#log10/Viscra Weight#log, Height#log2/Height#log, Whole Weight#log2/Whole Weight#log, Water Weight#log2/Water Weight#log10, Viscra Weight#log2/Viscra Weight#log, Height#log2/Height#log10, Viscra Weight#log10/Viscra Weight#log2, Shell Weight#log2/Shell Weight#log10, Height#log/Height#log2, Lenght#log10/Lenght#log, Whole Weight#log2/Whole Weight#log10, Lenght#log/Lenght#log2, Lenght#log10/Lenght#log2, Shucked Weight#log/Shucked Weight#log2, Height#log/Height#log10, Whole Weight#log/Whole Weight#log2, Whole Weight#log10/Whole Weight#log2, Viscra Weight#log/Viscra Weight#log2, Viscra Weight#log2/Viscra Weight#log10, Shucked Weight#log2/Shucked Weight#log10, Diameter#log/Diameter#log2, Lenght#log2/Lenght#log10, Diameter#log10/Diameter#log2, Diameter#log10/Diameter#log, Shell Weight#log/Shell Weight#log10, Shucked Weight#log/Shucked Weight#log10, Shell Weight#log10/Shell Weight#log, Lenght#log2/Lenght#log, Whole Weight#log/Whole Weight#log10, Height#log10/Height#log2, Shell Weight#log10/Shell Weight#log2, Diameter#log2/Diameter#log10, Water Weight#log10/Water Weight#log, Whole Weight#log10/Whole Weight#log, Shucked Weight#log10/Shucked Weight#log, Shell Weight#log/Shell Weight#log2, Diameter#log/Diameter#log10, Water Weight#log/Water Weight#log2, Water Weight#log/Water Weight#log10, Shucked Weight#log2/Shucked Weight#log, Shucked Weight#log10/Shucked Weight#log2, Lenght#log/Lenght#log10, Water Weight#log10/Water Weight#log2]\n",
      "\n",
      "\n",
      "05:27:55.425: _train param, Dropping unused columns: [Water Weight#log2/Water Weight#log, Diameter#log2/Diameter#log, Height#log10/Height#log, Viscra Weight#log/Viscra Weight#log10, Shell Weight#log2/Shell Weight#log, Viscra Weight#log10/Viscra Weight#log, Height#log2/Height#log, Whole Weight#log2/Whole Weight#log, Water Weight#log2/Water Weight#log10, Viscra Weight#log2/Viscra Weight#log, Height#log2/Height#log10, Viscra Weight#log10/Viscra Weight#log2, Shell Weight#log2/Shell Weight#log10, Height#log/Height#log2, Lenght#log10/Lenght#log, Whole Weight#log2/Whole Weight#log10, Lenght#log/Lenght#log2, Lenght#log10/Lenght#log2, Shucked Weight#log/Shucked Weight#log2, Height#log/Height#log10, Whole Weight#log/Whole Weight#log2, Whole Weight#log10/Whole Weight#log2, Viscra Weight#log/Viscra Weight#log2, Viscra Weight#log2/Viscra Weight#log10, Shucked Weight#log2/Shucked Weight#log10, Diameter#log/Diameter#log2, Lenght#log2/Lenght#log10, Diameter#log10/Diameter#log2, Diameter#log10/Diameter#log, Shell Weight#log/Shell Weight#log10, Shucked Weight#log/Shucked Weight#log10, Shell Weight#log10/Shell Weight#log, Lenght#log2/Lenght#log, Whole Weight#log/Whole Weight#log10, Height#log10/Height#log2, Shell Weight#log10/Shell Weight#log2, Diameter#log2/Diameter#log10, Water Weight#log10/Water Weight#log, Whole Weight#log10/Whole Weight#log, Shucked Weight#log10/Shucked Weight#log, Shell Weight#log/Shell Weight#log2, Diameter#log/Diameter#log10, Water Weight#log/Water Weight#log2, Water Weight#log/Water Weight#log10, Shucked Weight#log2/Shucked Weight#log, Shucked Weight#log10/Shucked Weight#log2, Lenght#log/Lenght#log10, Water Weight#log10/Water Weight#log2]\n",
      "05:27:56.474: _train param, Dropping unused columns: [Water Weight#log2/Water Weight#log, Diameter#log2/Diameter#log, Height#log10/Height#log, Viscra Weight#log/Viscra Weight#log10, Shell Weight#log2/Shell Weight#log, Viscra Weight#log10/Viscra Weight#log, Height#log2/Height#log, Whole Weight#log2/Whole Weight#log, Water Weight#log2/Water Weight#log10, Viscra Weight#log2/Viscra Weight#log, Height#log2/Height#log10, Viscra Weight#log10/Viscra Weight#log2, Shell Weight#log2/Shell Weight#log10, Height#log/Height#log2, Lenght#log10/Lenght#log, Whole Weight#log2/Whole Weight#log10, Lenght#log/Lenght#log2, Lenght#log10/Lenght#log2, Shucked Weight#log/Shucked Weight#log2, Height#log/Height#log10, Whole Weight#log/Whole Weight#log2, Whole Weight#log10/Whole Weight#log2, Viscra Weight#log/Viscra Weight#log2, Viscra Weight#log2/Viscra Weight#log10, Shucked Weight#log2/Shucked Weight#log10, Diameter#log/Diameter#log2, Lenght#log2/Lenght#log10, Diameter#log10/Diameter#log2, Diameter#log10/Diameter#log, Shell Weight#log/Shell Weight#log10, Shucked Weight#log/Shucked Weight#log10, Shell Weight#log10/Shell Weight#log, Lenght#log2/Lenght#log, Whole Weight#log/Whole Weight#log10, Height#log10/Height#log2, Shell Weight#log10/Shell Weight#log2, Diameter#log2/Diameter#log10, Water Weight#log10/Water Weight#log, Whole Weight#log10/Whole Weight#log, Shucked Weight#log10/Shucked Weight#log, Shell Weight#log/Shell Weight#log2, Diameter#log/Diameter#log10, Water Weight#log/Water Weight#log2, Water Weight#log/Water Weight#log10, Shucked Weight#log2/Shucked Weight#log, Shucked Weight#log10/Shucked Weight#log2, Lenght#log/Lenght#log10, Water Weight#log10/Water Weight#log2]\n",
      "\n"
     ]
    },
    {
     "name": "stdout",
     "output_type": "stream",
     "text": [
      "\n",
      "06:03:13.145: _train param, Dropping unused columns: [Water Weight#log2/Water Weight#log, Diameter#log2/Diameter#log, Height#log10/Height#log, Viscra Weight#log/Viscra Weight#log10, Shell Weight#log2/Shell Weight#log, Viscra Weight#log10/Viscra Weight#log, Height#log2/Height#log, Whole Weight#log2/Whole Weight#log, Water Weight#log2/Water Weight#log10, Viscra Weight#log2/Viscra Weight#log, Height#log2/Height#log10, Viscra Weight#log10/Viscra Weight#log2, Shell Weight#log2/Shell Weight#log10, Height#log/Height#log2, Lenght#log10/Lenght#log, Whole Weight#log2/Whole Weight#log10, Lenght#log/Lenght#log2, Lenght#log10/Lenght#log2, Shucked Weight#log/Shucked Weight#log2, Height#log/Height#log10, Whole Weight#log/Whole Weight#log2, Whole Weight#log10/Whole Weight#log2, Viscra Weight#log/Viscra Weight#log2, Viscra Weight#log2/Viscra Weight#log10, Shucked Weight#log2/Shucked Weight#log10, Diameter#log/Diameter#log2, Lenght#log2/Lenght#log10, Diameter#log10/Diameter#log2, Diameter#log10/Diameter#log, Shell Weight#log/Shell Weight#log10, Shucked Weight#log/Shucked Weight#log10, Shell Weight#log10/Shell Weight#log, Lenght#log2/Lenght#log, Whole Weight#log/Whole Weight#log10, Height#log10/Height#log2, Shell Weight#log10/Shell Weight#log2, Diameter#log2/Diameter#log10, Water Weight#log10/Water Weight#log, Whole Weight#log10/Whole Weight#log, Shucked Weight#log10/Shucked Weight#log, Shell Weight#log/Shell Weight#log2, Diameter#log/Diameter#log10, Water Weight#log/Water Weight#log2, Water Weight#log/Water Weight#log10, Shucked Weight#log2/Shucked Weight#log, Shucked Weight#log10/Shucked Weight#log2, Lenght#log/Lenght#log10, Water Weight#log10/Water Weight#log2]\n",
      "06:03:14.191: _train param, Dropping unused columns: [Water Weight#log2/Water Weight#log, Diameter#log2/Diameter#log, Height#log10/Height#log, Viscra Weight#log/Viscra Weight#log10, Shell Weight#log2/Shell Weight#log, Viscra Weight#log10/Viscra Weight#log, Height#log2/Height#log, Whole Weight#log2/Whole Weight#log, Water Weight#log2/Water Weight#log10, Viscra Weight#log2/Viscra Weight#log, Height#log2/Height#log10, Viscra Weight#log10/Viscra Weight#log2, Shell Weight#log2/Shell Weight#log10, Height#log/Height#log2, Lenght#log10/Lenght#log, Whole Weight#log2/Whole Weight#log10, Lenght#log/Lenght#log2, Lenght#log10/Lenght#log2, Shucked Weight#log/Shucked Weight#log2, Height#log/Height#log10, Whole Weight#log/Whole Weight#log2, Whole Weight#log10/Whole Weight#log2, Viscra Weight#log/Viscra Weight#log2, Viscra Weight#log2/Viscra Weight#log10, Shucked Weight#log2/Shucked Weight#log10, Diameter#log/Diameter#log2, Lenght#log2/Lenght#log10, Diameter#log10/Diameter#log2, Diameter#log10/Diameter#log, Shell Weight#log/Shell Weight#log10, Shucked Weight#log/Shucked Weight#log10, Shell Weight#log10/Shell Weight#log, Lenght#log2/Lenght#log, Whole Weight#log/Whole Weight#log10, Height#log10/Height#log2, Shell Weight#log10/Shell Weight#log2, Diameter#log2/Diameter#log10, Water Weight#log10/Water Weight#log, Whole Weight#log10/Whole Weight#log, Shucked Weight#log10/Shucked Weight#log, Shell Weight#log/Shell Weight#log2, Diameter#log/Diameter#log10, Water Weight#log/Water Weight#log2, Water Weight#log/Water Weight#log10, Shucked Weight#log2/Shucked Weight#log, Shucked Weight#log10/Shucked Weight#log2, Lenght#log/Lenght#log10, Water Weight#log10/Water Weight#log2]\n",
      "\n",
      "\n",
      "06:03:16.786: _train param, Dropping unused columns: [Water Weight#log2/Water Weight#log, Diameter#log2/Diameter#log, Height#log10/Height#log, Viscra Weight#log/Viscra Weight#log10, Shell Weight#log2/Shell Weight#log, Viscra Weight#log10/Viscra Weight#log, Height#log2/Height#log, Whole Weight#log2/Whole Weight#log, Water Weight#log2/Water Weight#log10, Viscra Weight#log2/Viscra Weight#log, Height#log2/Height#log10, Viscra Weight#log10/Viscra Weight#log2, Shell Weight#log2/Shell Weight#log10, Height#log/Height#log2, Lenght#log10/Lenght#log, Whole Weight#log2/Whole Weight#log10, Lenght#log/Lenght#log2, Lenght#log10/Lenght#log2, Shucked Weight#log/Shucked Weight#log2, Height#log/Height#log10, Whole Weight#log/Whole Weight#log2, Whole Weight#log10/Whole Weight#log2, Viscra Weight#log/Viscra Weight#log2, Viscra Weight#log2/Viscra Weight#log10, Shucked Weight#log2/Shucked Weight#log10, Diameter#log/Diameter#log2, Lenght#log2/Lenght#log10, Diameter#log10/Diameter#log2, Diameter#log10/Diameter#log, Shell Weight#log/Shell Weight#log10, Shucked Weight#log/Shucked Weight#log10, Shell Weight#log10/Shell Weight#log, Lenght#log2/Lenght#log, Whole Weight#log/Whole Weight#log10, Height#log10/Height#log2, Shell Weight#log10/Shell Weight#log2, Diameter#log2/Diameter#log10, Water Weight#log10/Water Weight#log, Whole Weight#log10/Whole Weight#log, Shucked Weight#log10/Shucked Weight#log, Shell Weight#log/Shell Weight#log2, Diameter#log/Diameter#log10, Water Weight#log/Water Weight#log2, Water Weight#log/Water Weight#log10, Shucked Weight#log2/Shucked Weight#log, Shucked Weight#log10/Shucked Weight#log2, Lenght#log/Lenght#log10, Water Weight#log10/Water Weight#log2]\n",
      "\n",
      "\n",
      "06:03:19.109: _train param, Dropping unused columns: [Water Weight#log2/Water Weight#log, Diameter#log2/Diameter#log, Height#log10/Height#log, Viscra Weight#log/Viscra Weight#log10, Shell Weight#log2/Shell Weight#log, Viscra Weight#log10/Viscra Weight#log, Height#log2/Height#log, Whole Weight#log2/Whole Weight#log, Water Weight#log2/Water Weight#log10, Viscra Weight#log2/Viscra Weight#log, Height#log2/Height#log10, Viscra Weight#log10/Viscra Weight#log2, Shell Weight#log2/Shell Weight#log10, Height#log/Height#log2, Lenght#log10/Lenght#log, Whole Weight#log2/Whole Weight#log10, Lenght#log/Lenght#log2, Lenght#log10/Lenght#log2, Shucked Weight#log/Shucked Weight#log2, Height#log/Height#log10, Whole Weight#log/Whole Weight#log2, Whole Weight#log10/Whole Weight#log2, Viscra Weight#log/Viscra Weight#log2, Viscra Weight#log2/Viscra Weight#log10, Shucked Weight#log2/Shucked Weight#log10, Diameter#log/Diameter#log2, Lenght#log2/Lenght#log10, Diameter#log10/Diameter#log2, Diameter#log10/Diameter#log, Shell Weight#log/Shell Weight#log10, Shucked Weight#log/Shucked Weight#log10, Shell Weight#log10/Shell Weight#log, Lenght#log2/Lenght#log, Whole Weight#log/Whole Weight#log10, Height#log10/Height#log2, Shell Weight#log10/Shell Weight#log2, Diameter#log2/Diameter#log10, Water Weight#log10/Water Weight#log, Whole Weight#log10/Whole Weight#log, Shucked Weight#log10/Shucked Weight#log, Shell Weight#log/Shell Weight#log2, Diameter#log/Diameter#log10, Water Weight#log/Water Weight#log2, Water Weight#log/Water Weight#log10, Shucked Weight#log2/Shucked Weight#log, Shucked Weight#log10/Shucked Weight#log2, Lenght#log/Lenght#log10, Water Weight#log10/Water Weight#log2]\n",
      "\n",
      "\n",
      "06:03:23.499: _train param, Dropping unused columns: [Water Weight#log2/Water Weight#log, Diameter#log2/Diameter#log, Height#log10/Height#log, Viscra Weight#log/Viscra Weight#log10, Shell Weight#log2/Shell Weight#log, Viscra Weight#log10/Viscra Weight#log, Height#log2/Height#log, Whole Weight#log2/Whole Weight#log, Water Weight#log2/Water Weight#log10, Viscra Weight#log2/Viscra Weight#log, Height#log2/Height#log10, Viscra Weight#log10/Viscra Weight#log2, Shell Weight#log2/Shell Weight#log10, Height#log/Height#log2, Lenght#log10/Lenght#log, Whole Weight#log2/Whole Weight#log10, Lenght#log/Lenght#log2, Lenght#log10/Lenght#log2, Shucked Weight#log/Shucked Weight#log2, Height#log/Height#log10, Whole Weight#log/Whole Weight#log2, Whole Weight#log10/Whole Weight#log2, Viscra Weight#log/Viscra Weight#log2, Viscra Weight#log2/Viscra Weight#log10, Shucked Weight#log2/Shucked Weight#log10, Diameter#log/Diameter#log2, Lenght#log2/Lenght#log10, Diameter#log10/Diameter#log2, Diameter#log10/Diameter#log, Shell Weight#log/Shell Weight#log10, Shucked Weight#log/Shucked Weight#log10, Shell Weight#log10/Shell Weight#log, Lenght#log2/Lenght#log, Whole Weight#log/Whole Weight#log10, Height#log10/Height#log2, Shell Weight#log10/Shell Weight#log2, Diameter#log2/Diameter#log10, Water Weight#log10/Water Weight#log, Whole Weight#log10/Whole Weight#log, Shucked Weight#log10/Shucked Weight#log, Shell Weight#log/Shell Weight#log2, Diameter#log/Diameter#log10, Water Weight#log/Water Weight#log2, Water Weight#log/Water Weight#log10, Shucked Weight#log2/Shucked Weight#log, Shucked Weight#log10/Shucked Weight#log2, Lenght#log/Lenght#log10, Water Weight#log10/Water Weight#log2]\n",
      "06:03:25.666: _train param, Dropping unused columns: [Water Weight#log2/Water Weight#log, Diameter#log2/Diameter#log, Height#log10/Height#log, Viscra Weight#log/Viscra Weight#log10, Shell Weight#log2/Shell Weight#log, Viscra Weight#log10/Viscra Weight#log, Height#log2/Height#log, Whole Weight#log2/Whole Weight#log, Water Weight#log2/Water Weight#log10, Viscra Weight#log2/Viscra Weight#log, Height#log2/Height#log10, Viscra Weight#log10/Viscra Weight#log2, Shell Weight#log2/Shell Weight#log10, Height#log/Height#log2, Lenght#log10/Lenght#log, Whole Weight#log2/Whole Weight#log10, Lenght#log/Lenght#log2, Lenght#log10/Lenght#log2, Shucked Weight#log/Shucked Weight#log2, Height#log/Height#log10, Whole Weight#log/Whole Weight#log2, Whole Weight#log10/Whole Weight#log2, Viscra Weight#log/Viscra Weight#log2, Viscra Weight#log2/Viscra Weight#log10, Shucked Weight#log2/Shucked Weight#log10, Diameter#log/Diameter#log2, Lenght#log2/Lenght#log10, Diameter#log10/Diameter#log2, Diameter#log10/Diameter#log, Shell Weight#log/Shell Weight#log10, Shucked Weight#log/Shucked Weight#log10, Shell Weight#log10/Shell Weight#log, Lenght#log2/Lenght#log, Whole Weight#log/Whole Weight#log10, Height#log10/Height#log2, Shell Weight#log10/Shell Weight#log2, Diameter#log2/Diameter#log10, Water Weight#log10/Water Weight#log, Whole Weight#log10/Whole Weight#log, Shucked Weight#log10/Shucked Weight#log, Shell Weight#log/Shell Weight#log2, Diameter#log/Diameter#log10, Water Weight#log/Water Weight#log2, Water Weight#log/Water Weight#log10, Shucked Weight#log2/Shucked Weight#log, Shucked Weight#log10/Shucked Weight#log2, Lenght#log/Lenght#log10, Water Weight#log10/Water Weight#log2]\n",
      "\n"
     ]
    },
    {
     "name": "stdout",
     "output_type": "stream",
     "text": [
      "| (done) 100%\n",
      "Model Details\n",
      "=============\n",
      "H2OStackedEnsembleEstimator :  Stacked Ensemble\n",
      "Model Key:  StackedEnsemble_AllModels_4_AutoML_1_20220326_33106\n",
      "\n",
      "No model summary for this model\n",
      "\n",
      "ModelMetricsRegressionGLM: stackedensemble\n",
      "** Reported on train data. **\n",
      "\n",
      "MSE: 2.349939555422272\n",
      "RMSE: 1.532951256701358\n",
      "MAE: 1.0905040352597573\n",
      "RMSLE: 0.126465621043733\n",
      "R^2: 0.7724226183519203\n",
      "Mean Residual Deviance: 2.349939555422272\n",
      "Null degrees of freedom: 1252\n",
      "Residual degrees of freedom: 1243\n",
      "Null deviance: 12938.343176376702\n",
      "Residual deviance: 2944.474262944107\n",
      "AIC: 4648.410141441556\n",
      "\n",
      "ModelMetricsRegressionGLM: stackedensemble\n",
      "** Reported on cross-validation data. **\n",
      "\n",
      "MSE: 4.763879126067731\n",
      "RMSE: 2.182631239139523\n",
      "MAE: 1.502422571668016\n",
      "RMSLE: 0.18151987085778246\n",
      "R^2: 0.5386472237139649\n",
      "Mean Residual Deviance: 4.763879126067731\n",
      "Null degrees of freedom: 1252\n",
      "Residual degrees of freedom: 1239\n",
      "Null deviance: 12977.28573053602\n",
      "Residual deviance: 5969.140544962866\n",
      "AIC: 5541.870999558878\n"
     ]
    },
    {
     "data": {
      "text/plain": []
     },
     "execution_count": 10,
     "metadata": {},
     "output_type": "execute_result"
    }
   ],
   "source": [
    "aml = H2OAutoML(max_models=20, stopping_metric=\"MAE\", sort_metric=\"MAE\", seed=1, project_name=\"H2O\")\n",
    "aml.train(x=x, y=y, training_frame=train)"
   ]
  },
  {
   "cell_type": "code",
   "execution_count": 11,
   "id": "52d26dd5",
   "metadata": {},
   "outputs": [
    {
     "data": {
      "text/html": [
       "<table>\n",
       "<thead>\n",
       "<tr><th>model_id                                              </th><th style=\"text-align: right;\">    mae</th><th style=\"text-align: right;\">  mean_residual_deviance</th><th style=\"text-align: right;\">   rmse</th><th style=\"text-align: right;\">     mse</th><th style=\"text-align: right;\">     rmsle</th></tr>\n",
       "</thead>\n",
       "<tbody>\n",
       "<tr><td>StackedEnsemble_AllModels_4_AutoML_1_20220326_33106   </td><td style=\"text-align: right;\">1.50242</td><td style=\"text-align: right;\">                 4.76388</td><td style=\"text-align: right;\">2.18263</td><td style=\"text-align: right;\"> 4.76388</td><td style=\"text-align: right;\">  0.18152 </td></tr>\n",
       "<tr><td>StackedEnsemble_AllModels_3_AutoML_1_20220326_33106   </td><td style=\"text-align: right;\">1.50384</td><td style=\"text-align: right;\">                 4.60629</td><td style=\"text-align: right;\">2.14623</td><td style=\"text-align: right;\"> 4.60629</td><td style=\"text-align: right;\">  0.174812</td></tr>\n",
       "<tr><td>GBM_grid_1_AutoML_1_20220326_33106_model_4            </td><td style=\"text-align: right;\">1.50847</td><td style=\"text-align: right;\">                 4.57624</td><td style=\"text-align: right;\">2.13921</td><td style=\"text-align: right;\"> 4.57624</td><td style=\"text-align: right;\">  0.17437 </td></tr>\n",
       "<tr><td>StackedEnsemble_AllModels_1_AutoML_1_20220326_33106   </td><td style=\"text-align: right;\">1.51031</td><td style=\"text-align: right;\">                 4.61134</td><td style=\"text-align: right;\">2.1474 </td><td style=\"text-align: right;\"> 4.61134</td><td style=\"text-align: right;\">  0.173651</td></tr>\n",
       "<tr><td>StackedEnsemble_AllModels_2_AutoML_1_20220326_33106   </td><td style=\"text-align: right;\">1.5137 </td><td style=\"text-align: right;\">                 4.64748</td><td style=\"text-align: right;\">2.1558 </td><td style=\"text-align: right;\"> 4.64748</td><td style=\"text-align: right;\">  0.174489</td></tr>\n",
       "<tr><td>StackedEnsemble_BestOfFamily_5_AutoML_1_20220326_33106</td><td style=\"text-align: right;\">1.51999</td><td style=\"text-align: right;\">                 4.99116</td><td style=\"text-align: right;\">2.23409</td><td style=\"text-align: right;\"> 4.99116</td><td style=\"text-align: right;\">nan       </td></tr>\n",
       "<tr><td>StackedEnsemble_BestOfFamily_2_AutoML_1_20220326_33106</td><td style=\"text-align: right;\">1.52104</td><td style=\"text-align: right;\">                 4.87145</td><td style=\"text-align: right;\">2.20714</td><td style=\"text-align: right;\"> 4.87145</td><td style=\"text-align: right;\">  0.184752</td></tr>\n",
       "<tr><td>GBM_1_AutoML_1_20220326_33106                         </td><td style=\"text-align: right;\">1.52119</td><td style=\"text-align: right;\">                 4.73723</td><td style=\"text-align: right;\">2.17652</td><td style=\"text-align: right;\"> 4.73723</td><td style=\"text-align: right;\">  0.177343</td></tr>\n",
       "<tr><td>StackedEnsemble_BestOfFamily_3_AutoML_1_20220326_33106</td><td style=\"text-align: right;\">1.5246 </td><td style=\"text-align: right;\">                 4.75207</td><td style=\"text-align: right;\">2.17992</td><td style=\"text-align: right;\"> 4.75207</td><td style=\"text-align: right;\">  0.175715</td></tr>\n",
       "<tr><td>StackedEnsemble_BestOfFamily_1_AutoML_1_20220326_33106</td><td style=\"text-align: right;\">1.53131</td><td style=\"text-align: right;\">                 4.95351</td><td style=\"text-align: right;\">2.22565</td><td style=\"text-align: right;\"> 4.95351</td><td style=\"text-align: right;\">  0.186372</td></tr>\n",
       "<tr><td>GBM_grid_1_AutoML_1_20220326_33106_model_3            </td><td style=\"text-align: right;\">1.53155</td><td style=\"text-align: right;\">                 4.6947 </td><td style=\"text-align: right;\">2.16673</td><td style=\"text-align: right;\"> 4.6947 </td><td style=\"text-align: right;\">  0.176517</td></tr>\n",
       "<tr><td>StackedEnsemble_BestOfFamily_4_AutoML_1_20220326_33106</td><td style=\"text-align: right;\">1.53646</td><td style=\"text-align: right;\">                 5.01309</td><td style=\"text-align: right;\">2.23899</td><td style=\"text-align: right;\"> 5.01309</td><td style=\"text-align: right;\">nan       </td></tr>\n",
       "<tr><td>GBM_grid_1_AutoML_1_20220326_33106_model_2            </td><td style=\"text-align: right;\">1.53727</td><td style=\"text-align: right;\">                 4.76706</td><td style=\"text-align: right;\">2.18336</td><td style=\"text-align: right;\"> 4.76706</td><td style=\"text-align: right;\">  0.177682</td></tr>\n",
       "<tr><td>GBM_grid_1_AutoML_1_20220326_33106_model_1            </td><td style=\"text-align: right;\">1.53777</td><td style=\"text-align: right;\">                 4.8121 </td><td style=\"text-align: right;\">2.19365</td><td style=\"text-align: right;\"> 4.8121 </td><td style=\"text-align: right;\">  0.177934</td></tr>\n",
       "<tr><td>GBM_3_AutoML_1_20220326_33106                         </td><td style=\"text-align: right;\">1.5387 </td><td style=\"text-align: right;\">                 4.70875</td><td style=\"text-align: right;\">2.16997</td><td style=\"text-align: right;\"> 4.70875</td><td style=\"text-align: right;\">  0.176747</td></tr>\n",
       "<tr><td>StackedEnsemble_AllModels_6_AutoML_1_20220326_33106   </td><td style=\"text-align: right;\">1.53929</td><td style=\"text-align: right;\">                 4.86353</td><td style=\"text-align: right;\">2.20534</td><td style=\"text-align: right;\"> 4.86353</td><td style=\"text-align: right;\">  0.185273</td></tr>\n",
       "<tr><td>GBM_4_AutoML_1_20220326_33106                         </td><td style=\"text-align: right;\">1.54055</td><td style=\"text-align: right;\">                 4.74305</td><td style=\"text-align: right;\">2.17785</td><td style=\"text-align: right;\"> 4.74305</td><td style=\"text-align: right;\">  0.176531</td></tr>\n",
       "<tr><td>GBM_2_AutoML_1_20220326_33106                         </td><td style=\"text-align: right;\">1.54096</td><td style=\"text-align: right;\">                 4.75848</td><td style=\"text-align: right;\">2.18139</td><td style=\"text-align: right;\"> 4.75848</td><td style=\"text-align: right;\">  0.17698 </td></tr>\n",
       "<tr><td>GBM_grid_1_AutoML_1_20220326_33106_model_5            </td><td style=\"text-align: right;\">1.54427</td><td style=\"text-align: right;\">                 4.73345</td><td style=\"text-align: right;\">2.17565</td><td style=\"text-align: right;\"> 4.73345</td><td style=\"text-align: right;\">  0.176882</td></tr>\n",
       "<tr><td>StackedEnsemble_BestOfFamily_7_AutoML_1_20220326_33106</td><td style=\"text-align: right;\">1.54744</td><td style=\"text-align: right;\">                 4.92671</td><td style=\"text-align: right;\">2.21962</td><td style=\"text-align: right;\"> 4.92671</td><td style=\"text-align: right;\">  0.188117</td></tr>\n",
       "<tr><td>DRF_1_AutoML_1_20220326_33106                         </td><td style=\"text-align: right;\">1.56501</td><td style=\"text-align: right;\">                 4.83213</td><td style=\"text-align: right;\">2.19821</td><td style=\"text-align: right;\"> 4.83213</td><td style=\"text-align: right;\">  0.17862 </td></tr>\n",
       "<tr><td>StackedEnsemble_AllModels_5_AutoML_1_20220326_33106   </td><td style=\"text-align: right;\">1.56602</td><td style=\"text-align: right;\">                 5.00704</td><td style=\"text-align: right;\">2.23764</td><td style=\"text-align: right;\"> 5.00704</td><td style=\"text-align: right;\">  0.181057</td></tr>\n",
       "<tr><td>StackedEnsemble_BestOfFamily_6_AutoML_1_20220326_33106</td><td style=\"text-align: right;\">1.57246</td><td style=\"text-align: right;\">                 5.15769</td><td style=\"text-align: right;\">2.27106</td><td style=\"text-align: right;\"> 5.15769</td><td style=\"text-align: right;\">  0.182093</td></tr>\n",
       "<tr><td>XRT_1_AutoML_1_20220326_33106                         </td><td style=\"text-align: right;\">1.57581</td><td style=\"text-align: right;\">                 4.94007</td><td style=\"text-align: right;\">2.22263</td><td style=\"text-align: right;\"> 4.94007</td><td style=\"text-align: right;\">  0.179512</td></tr>\n",
       "<tr><td>DeepLearning_grid_3_AutoML_1_20220326_33106_model_1   </td><td style=\"text-align: right;\">1.60986</td><td style=\"text-align: right;\">                 9.02014</td><td style=\"text-align: right;\">3.00335</td><td style=\"text-align: right;\"> 9.02014</td><td style=\"text-align: right;\">nan       </td></tr>\n",
       "<tr><td>GBM_5_AutoML_1_20220326_33106                         </td><td style=\"text-align: right;\">1.61622</td><td style=\"text-align: right;\">                 5.1726 </td><td style=\"text-align: right;\">2.27434</td><td style=\"text-align: right;\"> 5.1726 </td><td style=\"text-align: right;\">  0.185158</td></tr>\n",
       "<tr><td>DeepLearning_grid_2_AutoML_1_20220326_33106_model_2   </td><td style=\"text-align: right;\">1.72614</td><td style=\"text-align: right;\">                 6.24081</td><td style=\"text-align: right;\">2.49816</td><td style=\"text-align: right;\"> 6.24081</td><td style=\"text-align: right;\">nan       </td></tr>\n",
       "<tr><td>GLM_1_AutoML_1_20220326_33106                         </td><td style=\"text-align: right;\">1.75381</td><td style=\"text-align: right;\">                 9.90422</td><td style=\"text-align: right;\">3.1471 </td><td style=\"text-align: right;\"> 9.90422</td><td style=\"text-align: right;\">nan       </td></tr>\n",
       "<tr><td>DeepLearning_grid_3_AutoML_1_20220326_33106_model_2   </td><td style=\"text-align: right;\">1.81126</td><td style=\"text-align: right;\">                 6.41634</td><td style=\"text-align: right;\">2.53305</td><td style=\"text-align: right;\"> 6.41634</td><td style=\"text-align: right;\">nan       </td></tr>\n",
       "<tr><td>DeepLearning_grid_2_AutoML_1_20220326_33106_model_1   </td><td style=\"text-align: right;\">1.8171 </td><td style=\"text-align: right;\">                10.8424 </td><td style=\"text-align: right;\">3.29278</td><td style=\"text-align: right;\">10.8424 </td><td style=\"text-align: right;\">nan       </td></tr>\n",
       "<tr><td>DeepLearning_1_AutoML_1_20220326_33106                </td><td style=\"text-align: right;\">1.96894</td><td style=\"text-align: right;\">                23.6187 </td><td style=\"text-align: right;\">4.85991</td><td style=\"text-align: right;\">23.6187 </td><td style=\"text-align: right;\">nan       </td></tr>\n",
       "<tr><td>DeepLearning_grid_1_AutoML_1_20220326_33106_model_2   </td><td style=\"text-align: right;\">2.09615</td><td style=\"text-align: right;\">                18.5233 </td><td style=\"text-align: right;\">4.30387</td><td style=\"text-align: right;\">18.5233 </td><td style=\"text-align: right;\">nan       </td></tr>\n",
       "<tr><td>DeepLearning_grid_1_AutoML_1_20220326_33106_model_1   </td><td style=\"text-align: right;\">2.50932</td><td style=\"text-align: right;\">                24.8039 </td><td style=\"text-align: right;\">4.98035</td><td style=\"text-align: right;\">24.8039 </td><td style=\"text-align: right;\">nan       </td></tr>\n",
       "</tbody>\n",
       "</table>"
      ]
     },
     "metadata": {},
     "output_type": "display_data"
    },
    {
     "data": {
      "text/plain": []
     },
     "execution_count": 11,
     "metadata": {},
     "output_type": "execute_result"
    }
   ],
   "source": [
    "lb = aml.leaderboard\n",
    "lb.head(rows=lb.nrows)"
   ]
  },
  {
   "cell_type": "code",
   "execution_count": null,
   "id": "2908cfd0",
   "metadata": {},
   "outputs": [],
   "source": [
    "pred_test = aml.predict(test)"
   ]
  },
  {
   "cell_type": "code",
   "execution_count": null,
   "id": "ccc35a0d",
   "metadata": {},
   "outputs": [],
   "source": [
    "def save_dict(model, pred_dict, pred_test_dict, seed):\n",
    "    with open(f'../pickle/pred_dict_{model}_{seed}.pickle', 'wb') as fw:\n",
    "        pickle.dump(pred_dict, fw)\n",
    "    with open(f'../pickle/pred_test_dict_{model}_{seed}.pickle', 'wb') as fw:\n",
    "        pickle.dump(pred_test_dict, fw)"
   ]
  }
 ],
 "metadata": {
  "kernelspec": {
   "display_name": "Python 3 (ipykernel)",
   "language": "python",
   "name": "python3"
  },
  "language_info": {
   "codemirror_mode": {
    "name": "ipython",
    "version": 3
   },
   "file_extension": ".py",
   "mimetype": "text/x-python",
   "name": "python",
   "nbconvert_exporter": "python",
   "pygments_lexer": "ipython3",
   "version": "3.9.7"
  }
 },
 "nbformat": 4,
 "nbformat_minor": 5
}
