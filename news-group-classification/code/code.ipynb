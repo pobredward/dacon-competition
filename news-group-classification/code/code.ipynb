{
 "cells": [
  {
   "cell_type": "code",
   "execution_count": null,
   "id": "7aebeef3",
   "metadata": {},
   "outputs": [],
   "source": [
    "import pandas as pd\n",
    "import numpy as np\n",
    "import os\n",
    "import pickle\n",
    "from glob import glob\n",
    "import warnings\n",
    "warnings.filterwarnings('ignore')\n",
    "\n",
    "from sklearn.feature_extraction.text import TfidfVectorizer\n",
    "from sklearn.model_selection import StratifiedKFold\n",
    "from sklearn.metrics import accuracy_score, log_loss\n",
    "\n",
    "import optuna\n",
    "from optuna import Trial\n",
    "from optuna.samplers import TPESampler\n",
    "from optuna.visualization import plot_contour, plot_optimization_history\n",
    "from optuna.visualization import plot_parallel_coordinate, plot_slice, plot_param_importances\n",
    "\n",
    "from sklearn.neural_network import MLPClassifier\n",
    "from catboost import Pool, CatBoostClassifier\n",
    "import xgboost as xgb"
   ]
  },
  {
   "cell_type": "code",
   "execution_count": null,
   "id": "4cf0651d",
   "metadata": {},
   "outputs": [],
   "source": [
    "train = pd.read_csv(\"../data/train.csv\", index_col=\"id\")\n",
    "test = pd.read_csv(\"../data/test.csv\", index_col=\"id\")\n",
    "submission = pd.read_csv(\"../data/sample_submission.csv\")"
   ]
  },
  {
   "cell_type": "code",
   "execution_count": null,
   "id": "f727d13a",
   "metadata": {},
   "outputs": [],
   "source": [
    "def create_dir(dir):\n",
    "    if not os.path.exists(dir):\n",
    "        os.makedirs(dir)\n",
    "        print(\"Created Directory :\", dir)\n",
    "    else:\n",
    "        print(\"Directory already existed :\", dir)\n",
    "create_dir(\"../pickle\")\n",
    "create_dir(\"../model\")\n",
    "create_dir(\"../submission\")"
   ]
  },
  {
   "cell_type": "code",
   "execution_count": null,
   "id": "db4dcb7a",
   "metadata": {},
   "outputs": [],
   "source": [
    "train_x = train['text']\n",
    "train_y = train['target']\n",
    "test_x = test['text']"
   ]
  },
  {
   "cell_type": "code",
   "execution_count": null,
   "id": "e48114ab",
   "metadata": {},
   "outputs": [],
   "source": [
    "rows_train = train.shape[0] # 주어진 train data의 row 수\n",
    "rows_test = test.shape[0] # 주어진 test data의 row 수\n",
    "num_classes = len(train_y.unique())\n",
    "num_trial = 100 # 파라미터 튜닝을 몇 번 진행하는지의 수\n",
    "splits_hp = 3 # 파라미터 튜닝을 진행할 때의 kfold 수\n",
    "splits_tr = 15 # 모델 트레이닝을 진행할 때의 kfold 수\n",
    "basic_seed = 42 # default seed\n",
    "num_seed_tr = 5 # 트레이닝 seed 개수\n",
    "sel_seed = 3 # 선택할 seed 개수"
   ]
  },
  {
   "cell_type": "code",
   "execution_count": null,
   "id": "105cbc44",
   "metadata": {},
   "outputs": [],
   "source": [
    "pred_dict = {}\n",
    "pred_test_dict = {}"
   ]
  },
  {
   "cell_type": "markdown",
   "id": "1998b0b9",
   "metadata": {},
   "source": [
    "# XGB"
   ]
  },
  {
   "cell_type": "code",
   "execution_count": null,
   "id": "da2a0181",
   "metadata": {},
   "outputs": [],
   "source": [
    "def xgb_objective(trial: Trial) -> float:\n",
    "    score_hp = []\n",
    "    for seed_hp in [0]:\n",
    "        params_xgb = {\n",
    "            \"random_state\": seed_hp,\n",
    "            \"verbose\": None,        \n",
    "            \"num_class\": num_classes,\n",
    "            \"objective\": \"multi:softprob\",\n",
    "            \"eval_metric\": \"mlogloss\",\n",
    "#             \"tree_method\": \"gpu_hist\",\n",
    "            \"learning_rate\": trial.suggest_uniform(\"learning_rate\", 5e-2, 1e-1), # eta, default=0.3, range=[0,1]\n",
    "            \"gamma\": trial.suggest_loguniform(\"gamma\", 1e-2, 1e+2), # min_split_loss, default=0, range=[0,∞]\n",
    "            \"max_depth\": trial.suggest_int(\"max_depth\", 4, 12), # default=5, range=[0,∞]\n",
    "            \"min_child_weight\": trial.suggest_int(\"min_child_weight\", 1, 10), #default=1\n",
    "            \"max_delta_step\" : trial.suggest_int(\"max_delta_step\", 0, 10), #default=0\n",
    "            \"subsample\": trial.suggest_uniform(\"subsample\", 0.0, 1.0), # default=1, range=(0,1]\n",
    "            \"colsample_bytree\": trial.suggest_uniform(\"colsample_bytree\", 0.2, 1.0), # default=1, range=(0,1]\n",
    "            \"colsample_bylevel\": trial.suggest_uniform(\"colsample_bylevel\", 0.2, 1.0), # default=1, range=(0,1]\n",
    "            \"colsample_bynode\": trial.suggest_uniform(\"colsample_bynode\", 0.2, 1.0), # default=1, range=(0,1]\n",
    "            \"reg_alpha\": trial.suggest_loguniform(\"reg_alpha\", 1e-1, 1e+1), # default=0, range=[0,∞]\n",
    "            \"reg_lambda\": trial.suggest_loguniform(\"reg_lambda\", 1e-1, 1e+1), # default=1, range=[0,∞]\n",
    "            \"max_bin\": trial.suggest_int(\"max_bin\", 100, 400),\n",
    "        }\n",
    "\n",
    "        kfold = StratifiedKFold(n_splits=splits_hp, random_state=seed_hp, shuffle=True)\n",
    "        cv = np.zeros((rows_train, num_classes))\n",
    "\n",
    "        for n, (train_idx, val_idx) in enumerate(kfold.split(train_x, train_y)):\n",
    "            \n",
    "            x_train, x_val = train_x.iloc[train_idx], train_x.iloc[val_idx]\n",
    "            y_train, y_val = train_y.iloc[train_idx].values.ravel(), train_y.iloc[val_idx].values.ravel()\n",
    "\n",
    "            vectorizer = TfidfVectorizer(ngram_range=(1, 2))\n",
    "            vectorizer.fit(x_train)\n",
    "            x_train = vectorizer.transform(x_train)\n",
    "            x_val = vectorizer.transform(x_val)\n",
    "            x_test = vectorizer.transform(test_x)\n",
    "\n",
    "            dtrain = xgb.DMatrix(x_train, label=y_train)\n",
    "            dvalid = xgb.DMatrix(x_val, label=y_val)\n",
    "\n",
    "            watchlist = [(dtrain, 'train'), (dvalid, 'valid')]\n",
    "            XGBModel = xgb.train(params_xgb, dtrain, 10000, watchlist, early_stopping_rounds=50, verbose_eval=None)\n",
    "            \n",
    "            cv[val_idx, :] = XGBModel.predict(dvalid)\n",
    "        \n",
    "#             print(f\"fold{n+1} log_loss:\", log_loss(y_val, cv[val_idx]))\n",
    "            score_hp.append(log_loss(y_val, cv[val_idx]))\n",
    "            break\n",
    "        \n",
    "#         score_hp.append(log_loss(train_y, cv))\n",
    "    \n",
    "    np.mean(score_hp)\n",
    "    return np.mean(score_hp)"
   ]
  },
  {
   "cell_type": "code",
   "execution_count": null,
   "id": "1a29df75",
   "metadata": {},
   "outputs": [],
   "source": [
    "sampler = TPESampler(seed=basic_seed)\n",
    "xgb_study = optuna.create_study(study_name=\"xgb_parameter_opt\", direction=\"minimize\", sampler=sampler)\n",
    "xgb_study.optimize(xgb_objective, n_trials=num_trial)\n",
    "\n",
    "xgb_best_hyperparams = xgb_study.best_trial.params\n",
    "xgb_base_hyperparams = {\"random_state\": basic_seed, \"verbose\": None, \"num_class\": num_classes, \n",
    "                        \"objective\": \"multi:softprob\", \"eval_metric\": \"mlogloss\"}\n",
    "xgb_best_hyperparams.update(xgb_base_hyperparams)\n",
    "\n",
    "with open('../pickle/xgb_best_hyperparams.pickle', 'wb') as fw:\n",
    "    pickle.dump(xgb_best_hyperparams, fw)\n",
    "print(\"The best hyperparameters are:\\n\", xgb_best_hyperparams)"
   ]
  },
  {
   "cell_type": "code",
   "execution_count": null,
   "id": "118d6ac2",
   "metadata": {},
   "outputs": [],
   "source": [
    "xgb_best_hyperparams = {'learning_rate': 0.08827098485602952,\n",
    "                         'gamma': 0.07068974950624607,\n",
    "                         'max_depth': 5,\n",
    "                         'min_child_weight': 2,\n",
    "                         'max_delta_step': 3,\n",
    "                         'subsample': 0.5247564316322378,\n",
    "                         'colsample_bytree': 0.5455560149136927,\n",
    "                         'colsample_bylevel': 0.43298331215843355,\n",
    "                         'colsample_bynode': 0.6894823157779035,\n",
    "                         'reg_alpha': 0.19010245319870356,\n",
    "                         'reg_lambda': 0.3839629299804172,\n",
    "                         'max_bin': 210,\n",
    "                         'random_state': 42,\n",
    "                         'verbose': None,\n",
    "                         'num_class': 20,\n",
    "                         'objective': 'multi:softprob',\n",
    "                         'eval_metric': 'mlogloss'\n",
    "                       }"
   ]
  },
  {
   "cell_type": "code",
   "execution_count": null,
   "id": "5c463af1",
   "metadata": {},
   "outputs": [],
   "source": [
    "lucky_seeds = np.random.randint(0, 1000, num_seed_tr)\n",
    "\n",
    "for i, seed in enumerate(lucky_seeds):\n",
    "\n",
    "    kfold = StratifiedKFold(n_splits=splits_tr, random_state=seed, shuffle=True)\n",
    "    cv = np.zeros((rows_train, num_classes))\n",
    "    pred_test = np.zeros((rows_test, num_classes))\n",
    "\n",
    "    for n, (train_idx, val_idx) in enumerate(kfold.split(train_x, train_y)):\n",
    "        \n",
    "        x_train, x_val = train_x.iloc[train_idx], train_x.iloc[val_idx]\n",
    "        y_train, y_val = train_y.iloc[train_idx].values.ravel(), train_y.iloc[val_idx].values.ravel()\n",
    "        \n",
    "        vectorizer = TfidfVectorizer(ngram_range=(1, 2))\n",
    "        vectorizer.fit(x_train)\n",
    "        x_train = vectorizer.transform(x_train)\n",
    "        x_val = vectorizer.transform(x_val)\n",
    "        x_test = vectorizer.transform(test_x)\n",
    "        \n",
    "        dtrain = xgb.DMatrix(x_train, label=y_train)\n",
    "        dvalid = xgb.DMatrix(x_val, label=y_val)\n",
    "        xgtest = xgb.DMatrix(x_test)\n",
    "            \n",
    "        watchlist = [(dtrain, 'train'), (dvalid, 'valid')]\n",
    "        \n",
    "        print(f'fold {n+1} start')\n",
    "        \n",
    "        XGBModel = xgb.train(xgb_best_hyperparams, dtrain, 1000, watchlist, early_stopping_rounds=50, verbose_eval=100)\n",
    "        \n",
    "        cv[val_idx, :] = XGBModel.predict(dvalid)\n",
    "        \n",
    "        pred_test += XGBModel.predict(xgtest) / splits_tr\n",
    "        \n",
    "#         print(f'fold {n+1}', 'log_loss :', log_loss(y_val, cv[val_idx]))\n",
    "#         print(f'fold {n+1}', 'accuracy_score :', accuracy_score(y_val, np.argmax(cv[val_idx], axis=1)))\n",
    "        \n",
    "    pred_dict['xgb'+str(seed)] = cv\n",
    "    pred_test_dict['xgb'+str(seed)] = pred_test\n",
    "    print(f'seed {seed}', 'log_loss :', log_loss(train_y, cv))\n",
    "    print(f'seed {seed}', 'accuracy_score :', accuracy_score(train_y, np.argmax(cv, axis=1)))"
   ]
  },
  {
   "cell_type": "code",
   "execution_count": null,
   "id": "50514613",
   "metadata": {},
   "outputs": [],
   "source": [
    "# lucky_seeds = np.random.randint(0, 1000, num_seed_tr)\n",
    "\n",
    "# for i, seed in enumerate(lucky_seeds):\n",
    "\n",
    "#     kfold = StratifiedKFold(n_splits=splits_tr, random_state=seed, shuffle=True)\n",
    "#     cv = np.zeros((rows_train, num_classes))\n",
    "#     pred_test = np.zeros((rows_test, num_classes))\n",
    "\n",
    "#     for n, (train_idx, val_idx) in enumerate(kfold.split(train_x, train_y)):\n",
    "        \n",
    "#         x_train, x_val = train_x.iloc[train_idx], train_x.iloc[val_idx]\n",
    "#         y_train, y_val = train_y.iloc[train_idx].values.ravel(), train_y.iloc[val_idx].values.ravel()\n",
    "        \n",
    "# #         print(f'fold {n+1} start')\n",
    "        \n",
    "#         BERTModel = BertClassifier(bert_model=\"bert-base-cased\", random_state=basic_seed,\n",
    "#                                    epochs=5, validation_fraction=0, train_batch_size=8, eval_batch_size=2)\n",
    "#         BERTModel.fit(x_train, y_train)\n",
    "        \n",
    "#         cv[val_idx, :] = BERTModel.predict_proba(x_val)\n",
    "#         pred_test += BERTModel.predict_proba(test_x) / splits_tr\n",
    "        \n",
    "#         print(f'fold {n+1}', 'log_loss :', log_loss(y_val, cv[val_idx]))\n",
    "#         print(f'fold {n+1}', 'accuracy_score :', accuracy_score(y_val, np.argmax(cv[val_idx], axis=1)))\n",
    "        \n",
    "#     pred_dict['bert'+str(seed)] = cv\n",
    "#     pred_test_dict['bert'+str(seed)] = pred_test\n",
    "#     print(f'seed {seed}', 'log_loss :', log_loss(train_y, cv))\n",
    "#     print(f'seed {seed}', 'accuracy_score :', accuracy_score(train_y, np.argmax(cv, axis=1)))"
   ]
  },
  {
   "cell_type": "code",
   "execution_count": null,
   "id": "1b1162ab",
   "metadata": {},
   "outputs": [],
   "source": [
    "def load_dict(model):\n",
    "    with open('../pickle/pred_dict_'+model+'.pickle', 'rb') as fw:\n",
    "        pred_dict_new_local = pickle.load(fw)\n",
    "    with open('../pickle/pred_test_dict_'+model+'.pickle', 'rb') as fw:\n",
    "        pred_test_dict_new_local = pickle.load(fw)\n",
    "    return pred_dict_new_local, pred_test_dict_new_local"
   ]
  },
  {
   "cell_type": "code",
   "execution_count": null,
   "id": "609b7e52",
   "metadata": {},
   "outputs": [],
   "source": [
    "pred_dict_mlp, pred_test_dict_mlp = load_dict('mlp_cv15')"
   ]
  },
  {
   "cell_type": "code",
   "execution_count": null,
   "id": "c875cbca",
   "metadata": {},
   "outputs": [],
   "source": [
    "pred = np.zeros((rows_train, num_classes))\n",
    "for _, value in pred_dict_mlp.items():\n",
    "    pred += value\n",
    "pred /= len(pred_dict_mlp)"
   ]
  },
  {
   "cell_type": "code",
   "execution_count": null,
   "id": "bb23f4a0",
   "metadata": {},
   "outputs": [],
   "source": []
  },
  {
   "cell_type": "code",
   "execution_count": null,
   "id": "4b3bba20",
   "metadata": {},
   "outputs": [],
   "source": [
    "pred_test = np.zeros((rows_test, num_classes))\n",
    "for _, value in pred_test_dict_mlp.items():\n",
    "    pred_test += value\n",
    "pred_test /= len(pred_test_dict_mlp)"
   ]
  },
  {
   "cell_type": "code",
   "execution_count": null,
   "id": "8fd61cbf",
   "metadata": {},
   "outputs": [],
   "source": [
    "print(f'accuracy_score: {accuracy_score(train_y, np.argmax(pred, axis=1)):.6f}')"
   ]
  },
  {
   "cell_type": "code",
   "execution_count": null,
   "id": "bd5d23d9",
   "metadata": {},
   "outputs": [],
   "source": [
    "print(f'accuracy_score: {accuracy_score(train_y, np.argmax(pred*0.95+pred2*0.05, axis=1)):.6f}')"
   ]
  },
  {
   "cell_type": "code",
   "execution_count": null,
   "id": "2740bae3",
   "metadata": {},
   "outputs": [],
   "source": [
    "pred_test = np.argmax(pred_test*0.86+pred_test2*0.14, axis=1)"
   ]
  },
  {
   "cell_type": "code",
   "execution_count": null,
   "id": "23f5617d",
   "metadata": {},
   "outputs": [],
   "source": [
    "lucky_seeds = np.random.randint(0, 1000, num_seed_tr)\n",
    "\n",
    "for i, seed in enumerate(lucky_seeds):\n",
    "\n",
    "    kfold = StratifiedKFold(n_splits=splits_tr, random_state=seed, shuffle=True)\n",
    "    cv = np.zeros((rows_train, num_classes))\n",
    "    pred_test = np.zeros((rows_test, num_classes))\n",
    "\n",
    "    for n, (train_idx, val_idx) in enumerate(kfold.split(train_x, train_y)):\n",
    "        \n",
    "        x_train, x_val = train_x.iloc[train_idx], train_x.iloc[val_idx]\n",
    "        y_train, y_val = train_y.iloc[train_idx].values.ravel(), train_y.iloc[val_idx].values.ravel()\n",
    "        \n",
    "        vectorizer = TfidfVectorizer(ngram_range=(1, 2))\n",
    "        vectorizer.fit(x_train)\n",
    "        x_train = vectorizer.transform(x_train)\n",
    "        x_val = vectorizer.transform(x_val)\n",
    "        x_test = vectorizer.transform(test_x)\n",
    "        \n",
    "#         print(f'fold {n+1} start')\n",
    "        \n",
    "        MLPModel = MLPClassifier(max_iter=3, hidden_layer_sizes=250, random_state=basic_seed, verbose=False)\n",
    "        MLPModel.fit(x_train, y_train)\n",
    "        \n",
    "        cv[val_idx, :] = MLPModel.predict_proba(x_val)\n",
    "        \n",
    "        pred_test += MLPModel.predict_proba(x_test) / splits_tr\n",
    "        \n",
    "        print(f'fold {n+1}', 'log_loss :', log_loss(y_val, cv[val_idx]))\n",
    "        print(f'fold {n+1}', 'accuracy_score :', accuracy_score(y_val, np.argmax(cv[val_idx], axis=1)))\n",
    "        \n",
    "    pred_dict['mlp'+str(seed)] = cv\n",
    "    pred_test_dict['mlp'+str(seed)] = pred_test\n",
    "    print(f'seed {seed}', 'log_loss :', log_loss(train_y, cv))\n",
    "    print(f'seed {seed}', 'accuracy_score :', accuracy_score(train_y, np.argmax(cv, axis=1)))"
   ]
  },
  {
   "cell_type": "code",
   "execution_count": null,
   "id": "5ca1d7cc",
   "metadata": {},
   "outputs": [],
   "source": [
    "def sort_dict(model, pred_dict, pred_test_dict):\n",
    "    pred_dict_local = {}\n",
    "    for key, value in pred_dict.items():\n",
    "        if model in key:\n",
    "            pred_dict_local[key]=value\n",
    "\n",
    "    pred_test_dict_local = {}\n",
    "    for key, value in pred_test_dict.items():\n",
    "        if model in key:\n",
    "            pred_test_dict_local[key]=value\n",
    "\n",
    "    pred_dict_new_local = dict(sorted(\n",
    "        pred_dict_local.items(), \n",
    "        key=lambda x:accuracy_score((train_y), np.argmax(list(x[1]), axis=1)), reverse=False)[:5])\n",
    "    pred_test_dict_new_local = {}\n",
    "    for key, value in pred_dict_new_local.items():\n",
    "        pred_test_dict_new_local[key]=pred_test_dict_local[key]\n",
    "        \n",
    "    return pred_dict_new_local, pred_test_dict_new_local"
   ]
  },
  {
   "cell_type": "code",
   "execution_count": null,
   "id": "7172b061",
   "metadata": {},
   "outputs": [],
   "source": [
    "def save_dict(model, pred_dict, pred_test_dict):\n",
    "    with open('../pickle/pred_dict_'+model+'.pickle', 'wb') as fw:\n",
    "        pickle.dump(pred_dict, fw)\n",
    "    with open('../pickle/pred_test_dict_'+model+'.pickle', 'wb') as fw:\n",
    "        pickle.dump(pred_test_dict, fw)"
   ]
  },
  {
   "cell_type": "code",
   "execution_count": null,
   "id": "0dbccbf8",
   "metadata": {},
   "outputs": [],
   "source": [
    "pred_dict_mlp, pred_test_dict_mlp = sort_dict('mlp', pred_dict, pred_test_dict)\n",
    "save_dict('mlp_epoch3_layer250_cv15', pred_dict_mlp, pred_test_dict_mlp)"
   ]
  },
  {
   "cell_type": "code",
   "execution_count": null,
   "id": "c9b7a9d1",
   "metadata": {},
   "outputs": [],
   "source": [
    "pred = np.zeros((rows_train, num_classes))\n",
    "for _, value in pred_dict_mlp.items():\n",
    "    pred += value\n",
    "pred /= len(pred_dict_mlp)"
   ]
  },
  {
   "cell_type": "code",
   "execution_count": null,
   "id": "ddd0991b",
   "metadata": {},
   "outputs": [],
   "source": [
    "print(f'accuracy_score: {accuracy_score(train_y, np.argmax(pred, axis=1)):.6f}')"
   ]
  },
  {
   "cell_type": "code",
   "execution_count": null,
   "id": "8ca6380f",
   "metadata": {},
   "outputs": [],
   "source": [
    "pred_test = np.zeros((rows_test, num_classes))\n",
    "for _, value in pred_test_dict_mlp.items():\n",
    "    pred_test += value\n",
    "pred_test /= len(pred_test_dict_mlp)"
   ]
  },
  {
   "cell_type": "code",
   "execution_count": null,
   "id": "e76eea18",
   "metadata": {},
   "outputs": [],
   "source": [
    "def load_dict(model):\n",
    "    with open('../pickle/pred_dict_'+model+'.pickle', 'rb') as fw:\n",
    "        pred_dict_new_local = pickle.load(fw)\n",
    "    with open('../pickle/pred_test_dict_'+model+'.pickle', 'rb') as fw:\n",
    "        pred_test_dict_new_local = pickle.load(fw)\n",
    "    return pred_dict_new_local, pred_test_dict_new_local"
   ]
  },
  {
   "cell_type": "code",
   "execution_count": null,
   "id": "af519682",
   "metadata": {},
   "outputs": [],
   "source": [
    "pred_dict_mlp2, pred_test_dict_mlp2 = load_dict('mlp')"
   ]
  },
  {
   "cell_type": "code",
   "execution_count": null,
   "id": "d802a247",
   "metadata": {},
   "outputs": [],
   "source": [
    "pred2 = np.zeros((rows_train, num_classes))\n",
    "for _, value in pred_dict_mlp2.items():\n",
    "    pred2 += value\n",
    "pred2 /= len(pred_dict_mlp2)"
   ]
  },
  {
   "cell_type": "code",
   "execution_count": null,
   "id": "9a3f362d",
   "metadata": {},
   "outputs": [],
   "source": [
    "print(f'accuracy_score: {accuracy_score(train_y, np.argmax(pred2, axis=1)):.6f}')"
   ]
  },
  {
   "cell_type": "code",
   "execution_count": null,
   "id": "1539f7b0",
   "metadata": {},
   "outputs": [],
   "source": [
    "pred_dict_mlp3, pred_test_dict_mlp3 = load_dict('mlp_cv15')"
   ]
  },
  {
   "cell_type": "code",
   "execution_count": null,
   "id": "df061e5a",
   "metadata": {},
   "outputs": [],
   "source": [
    "pred3 = np.zeros((rows_train, num_classes))\n",
    "for _, value in pred_dict_mlp3.items():\n",
    "    pred3 += value\n",
    "pred3 /= len(pred_dict_mlp3)"
   ]
  },
  {
   "cell_type": "code",
   "execution_count": null,
   "id": "02469250",
   "metadata": {},
   "outputs": [],
   "source": [
    "print(f'accuracy_score: {accuracy_score(train_y, np.argmax(pred3, axis=1)):.6f}')"
   ]
  },
  {
   "cell_type": "code",
   "execution_count": null,
   "id": "794d5aa6",
   "metadata": {},
   "outputs": [],
   "source": [
    "print(f'accuracy_score: {accuracy_score(train_y, np.argmax(pred*1+pred2*0.22+pred3*0.1, axis=1)):.6f}')"
   ]
  },
  {
   "cell_type": "code",
   "execution_count": null,
   "id": "9775b8ab",
   "metadata": {},
   "outputs": [],
   "source": []
  },
  {
   "cell_type": "code",
   "execution_count": null,
   "id": "c5cdd6b3",
   "metadata": {},
   "outputs": [],
   "source": []
  },
  {
   "cell_type": "code",
   "execution_count": null,
   "id": "d5c471e4",
   "metadata": {},
   "outputs": [],
   "source": []
  },
  {
   "cell_type": "code",
   "execution_count": null,
   "id": "4545b5e8",
   "metadata": {},
   "outputs": [],
   "source": [
    "lucky_seeds = np.random.randint(0, 1000, num_seed_tr)\n",
    "\n",
    "for i, seed in enumerate([170]):\n",
    "\n",
    "    kfold = StratifiedKFold(n_splits=splits_tr, random_state=seed, shuffle=True)\n",
    "    cv = np.zeros((rows_train, num_classes))\n",
    "    pred_test = np.zeros((rows_test, num_classes))\n",
    "\n",
    "    for n, (train_idx, val_idx) in enumerate(kfold.split(train_x, train_y)):\n",
    "        \n",
    "        x_train, x_val = train_x.iloc[train_idx], train_x.iloc[val_idx]\n",
    "        y_train, y_val = train_y.iloc[train_idx].values.ravel(), train_y.iloc[val_idx].values.ravel()\n",
    "        \n",
    "        vectorizer = TfidfVectorizer(ngram_range=(1, 2))\n",
    "        vectorizer.fit(x_train)\n",
    "        x_train = vectorizer.transform(x_train)\n",
    "        x_val = vectorizer.transform(x_val)\n",
    "        x_test = vectorizer.transform(test_x)\n",
    "        \n",
    "        print(f'fold {n+1} start')\n",
    "        \n",
    "        MLPModel = MLPClassifier(max_iter=8, hidden_layer_sizes=50, random_state=basic_seed, verbose=1)\n",
    "        MLPModel.fit(x_train, y_train)\n",
    "        \n",
    "        cv[val_idx, :] = MLPModel.predict_proba(x_val)\n",
    "\n",
    "#         cat_best_hyperparams = {\"iterations\": 10000, \"learning_rate\": 0.3}\n",
    "#         catmodel = CatBoostClassifier(**cat_best_hyperparams)\n",
    "#         catmodel.fit(x_train, y_train, eval_set=[(x_val, y_val)], early_stopping_rounds=50, verbose=10)\n",
    "        \n",
    "#         cv[val_idx] = catmodel.predict(x_val)\n",
    "        pred_test += MLPModel.predict_proba(x_test) / splits_tr\n",
    "        \n",
    "        print(f'fold {n+1}', 'log_loss :', log_loss(y_val, cv[val_idx]))\n",
    "        print(f'fold {n+1}', 'accuracy_score :', accuracy_score(y_val, np.argmax(cv[val_idx], axis=1)))\n",
    "        \n",
    "    pred_dict['mlp'+str(seed)] = cv\n",
    "    pred_test_dict['mlp'+str(seed)] = pred_test\n",
    "    print(f'seed {seed}', 'log_loss :', log_loss(train_y, cv))\n",
    "    print(f'seed {seed}', 'accuracy_score :', accuracy_score(train_y, np.argmax(cv, axis=1)))"
   ]
  },
  {
   "cell_type": "code",
   "execution_count": null,
   "id": "3a3a119e",
   "metadata": {},
   "outputs": [],
   "source": [
    "pred2 = np.zeros((rows_train, num_classes))\n",
    "for _, value in pred_dict_mlp2.items():\n",
    "    pred2 += value\n",
    "pred2 /= len(pred_dict_mlp2)"
   ]
  },
  {
   "cell_type": "code",
   "execution_count": null,
   "id": "006c97f3",
   "metadata": {},
   "outputs": [],
   "source": [
    "pred_test2 = np.zeros((rows_test, num_classes))\n",
    "for _, value in pred_test_dict_mlp2.items():\n",
    "    pred_test2 += value\n",
    "pred_test2 /= len(pred_test_dict_mlp2)"
   ]
  },
  {
   "cell_type": "code",
   "execution_count": null,
   "id": "4a195bb8",
   "metadata": {},
   "outputs": [],
   "source": [
    "print(f'accuracy_score: {accuracy_score(train_y, np.argmax(pred*0.6+pred2*0.4, axis=1)):.6f}')"
   ]
  },
  {
   "cell_type": "code",
   "execution_count": null,
   "id": "fd589551",
   "metadata": {},
   "outputs": [],
   "source": [
    "pred_test = np.argmax(pred_test, axis=1)"
   ]
  },
  {
   "cell_type": "code",
   "execution_count": null,
   "id": "1abd55c4",
   "metadata": {},
   "outputs": [],
   "source": [
    "submission[\"target\"] = pred_test"
   ]
  },
  {
   "cell_type": "code",
   "execution_count": null,
   "id": "1a7ee0a7",
   "metadata": {},
   "outputs": [],
   "source": [
    "submission['target'].value_counts()"
   ]
  },
  {
   "cell_type": "code",
   "execution_count": null,
   "id": "1670641e",
   "metadata": {},
   "outputs": [],
   "source": [
    "submission_name = '20220410'\n",
    "submission_number = '1'\n",
    "submission.to_csv(f'../submission/{submission_name}-{submission_number}.csv', index = False)"
   ]
  },
  {
   "cell_type": "code",
   "execution_count": null,
   "id": "d166dc91",
   "metadata": {},
   "outputs": [],
   "source": [
    "submission"
   ]
  },
  {
   "cell_type": "code",
   "execution_count": null,
   "id": "a8f64d0e",
   "metadata": {},
   "outputs": [],
   "source": []
  }
 ],
 "metadata": {
  "kernelspec": {
   "display_name": "Python 3 (ipykernel)",
   "language": "python",
   "name": "python3"
  },
  "language_info": {
   "codemirror_mode": {
    "name": "ipython",
    "version": 3
   },
   "file_extension": ".py",
   "mimetype": "text/x-python",
   "name": "python",
   "nbconvert_exporter": "python",
   "pygments_lexer": "ipython3",
   "version": "3.9.7"
  }
 },
 "nbformat": 4,
 "nbformat_minor": 5
}
