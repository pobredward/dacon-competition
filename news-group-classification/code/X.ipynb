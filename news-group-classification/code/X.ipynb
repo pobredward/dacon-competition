{
 "cells": [
  {
   "cell_type": "markdown",
   "id": "eaf4654a",
   "metadata": {},
   "source": [
    "# (적용 X) BERT 코드"
   ]
  },
  {
   "cell_type": "code",
   "execution_count": null,
   "id": "7aebeef3",
   "metadata": {},
   "outputs": [],
   "source": [
    "import pandas as pd\n",
    "import numpy as np\n",
    "import os\n",
    "import pickle\n",
    "from glob import glob\n",
    "from itertools import permutations\n",
    "from tqdm.auto import tqdm\n",
    "import warnings\n",
    "warnings.filterwarnings('ignore')\n",
    "\n",
    "from sklearn.feature_extraction.text import TfidfVectorizer\n",
    "from sklearn.model_selection import StratifiedKFold\n",
    "from sklearn.metrics import accuracy_score, log_loss\n",
    "\n",
    "import optuna\n",
    "from optuna import Trial\n",
    "from optuna.samplers import TPESampler\n",
    "from optuna.visualization import plot_contour, plot_optimization_history\n",
    "from optuna.visualization import plot_parallel_coordinate, plot_slice, plot_param_importances\n",
    "\n",
    "from bert_sklearn import BertClassifier\n",
    "from sklearn.neural_network import MLPClassifier\n",
    "from catboost import Pool, CatBoostClassifier\n",
    "import xgboost as xgb"
   ]
  },
  {
   "cell_type": "code",
   "execution_count": null,
   "id": "4cf0651d",
   "metadata": {},
   "outputs": [],
   "source": [
    "train = pd.read_csv(\"../data/train.csv\", index_col=\"id\")\n",
    "test = pd.read_csv(\"../data/test.csv\", index_col=\"id\")\n",
    "submission = pd.read_csv(\"../data/sample_submission.csv\")"
   ]
  },
  {
   "cell_type": "code",
   "execution_count": null,
   "id": "f727d13a",
   "metadata": {},
   "outputs": [],
   "source": [
    "def create_dir(dir):\n",
    "    if not os.path.exists(dir):\n",
    "        os.makedirs(dir)\n",
    "        print(\"Created Directory :\", dir)\n",
    "    else:\n",
    "        print(\"Directory already existed :\", dir)\n",
    "create_dir(\"../pickle\")\n",
    "create_dir(\"../model\")\n",
    "create_dir(\"../submission\")"
   ]
  },
  {
   "cell_type": "code",
   "execution_count": null,
   "id": "db4dcb7a",
   "metadata": {},
   "outputs": [],
   "source": [
    "train_x = train['text']\n",
    "train_y = train['target']\n",
    "test_x = test['text']"
   ]
  },
  {
   "cell_type": "code",
   "execution_count": null,
   "id": "e48114ab",
   "metadata": {},
   "outputs": [],
   "source": [
    "rows_train = train.shape[0] # 주어진 train data의 row 수\n",
    "rows_test = test.shape[0] # 주어진 test data의 row 수\n",
    "num_classes = len(train_y.unique())\n",
    "num_trial = 100 # 파라미터 튜닝을 몇 번 진행하는지의 수\n",
    "splits_hp = 3 # 파라미터 튜닝을 진행할 때의 kfold 수\n",
    "splits_tr = 15 # 모델 트레이닝을 진행할 때의 kfold 수\n",
    "basic_seed = 42 # default seed\n",
    "num_seed_tr = 5 # 트레이닝 seed 개수\n",
    "sel_seed = 3 # 선택할 seed 개수"
   ]
  },
  {
   "cell_type": "code",
   "execution_count": null,
   "id": "105cbc44",
   "metadata": {},
   "outputs": [],
   "source": [
    "pred_dict = {}\n",
    "pred_test_dict = {}"
   ]
  },
  {
   "cell_type": "code",
   "execution_count": null,
   "id": "e970ce22",
   "metadata": {},
   "outputs": [],
   "source": [
    "lucky_seeds = np.random.randint(0, 1000, num_seed_tr)\n",
    "\n",
    "for i, seed in enumerate(lucky_seeds):\n",
    "\n",
    "    kfold = StratifiedKFold(n_splits=splits_tr, random_state=seed, shuffle=True)\n",
    "    cv = np.zeros((rows_train, num_classes))\n",
    "    pred_test = np.zeros((rows_test, num_classes))\n",
    "\n",
    "    for n, (train_idx, val_idx) in enumerate(kfold.split(train_x, train_y)):\n",
    "        \n",
    "        x_train, x_val = train_x.iloc[train_idx], train_x.iloc[val_idx]\n",
    "        y_train, y_val = train_y.iloc[train_idx].values.ravel(), train_y.iloc[val_idx].values.ravel()\n",
    "        \n",
    "#         print(f'fold {n+1} start')\n",
    "        \n",
    "        BERTModel = BertClassifier(bert_model=\"bert-base-cased\", random_state=basic_seed,\n",
    "                                   epochs=5, validation_fraction=0, train_batch_size=8, eval_batch_size=2)\n",
    "        BERTModel.fit(x_train, y_train)\n",
    "        \n",
    "        cv[val_idx, :] = BERTModel.predict_proba(x_val)\n",
    "        pred_test += BERTModel.predict_proba(test_x) / splits_tr\n",
    "        \n",
    "        print(f'fold {n+1}', 'log_loss :', log_loss(y_val, cv[val_idx]))\n",
    "        print(f'fold {n+1}', 'accuracy_score :', accuracy_score(y_val, np.argmax(cv[val_idx], axis=1)))\n",
    "        \n",
    "    pred_dict['bert'+str(seed)] = cv\n",
    "    pred_test_dict['bert'+str(seed)] = pred_test\n",
    "    print(f'seed {seed}', 'log_loss :', log_loss(train_y, cv))\n",
    "    print(f'seed {seed}', 'accuracy_score :', accuracy_score(train_y, np.argmax(cv, axis=1)))"
   ]
  },
  {
   "cell_type": "code",
   "execution_count": null,
   "id": "6214e325",
   "metadata": {},
   "outputs": [],
   "source": [
    "lucky_seeds = np.random.randint(0, 1000, num_seed_tr)\n",
    "\n",
    "for i, seed in enumerate(lucky_seeds):\n",
    "\n",
    "    kfold = StratifiedKFold(n_splits=splits_tr, random_state=seed, shuffle=True)\n",
    "    cv = np.zeros((rows_train, num_classes))\n",
    "    pred_test = np.zeros((rows_test, num_classes))\n",
    "\n",
    "    for n, (train_idx, val_idx) in enumerate(kfold.split(train_x, train_y)):\n",
    "        \n",
    "        x_train, x_val = train_x.iloc[train_idx], train_x.iloc[val_idx]\n",
    "        y_train, y_val = train_y.iloc[train_idx].values.ravel(), train_y.iloc[val_idx].values.ravel()\n",
    "        \n",
    "        vectorizer = TfidfVectorizer(ngram_range=(1, 2))\n",
    "        vectorizer.fit(x_train)\n",
    "        x_train = vectorizer.transform(x_train)\n",
    "        x_val = vectorizer.transform(x_val)\n",
    "        x_test = vectorizer.transform(test_x)\n",
    "        \n",
    "#         print(f'fold {n+1} start')\n",
    "        \n",
    "        MLPModel = MLPClassifier(max_iter=3, hidden_layer_sizes=250, random_state=basic_seed, verbose=False)\n",
    "        MLPModel.fit(x_train, y_train)\n",
    "        \n",
    "        cv[val_idx, :] = MLPModel.predict_proba(x_val)\n",
    "        \n",
    "        pred_test += MLPModel.predict_proba(x_test) / splits_tr\n",
    "        \n",
    "        print(f'fold {n+1}', 'log_loss :', log_loss(y_val, cv[val_idx]))\n",
    "        print(f'fold {n+1}', 'accuracy_score :', accuracy_score(y_val, np.argmax(cv[val_idx], axis=1)))\n",
    "        \n",
    "    pred_dict['mlp'+str(seed)] = cv\n",
    "    pred_test_dict['mlp'+str(seed)] = pred_test\n",
    "    print(f'seed {seed}', 'log_loss :', log_loss(train_y, cv))\n",
    "    print(f'seed {seed}', 'accuracy_score :', accuracy_score(train_y, np.argmax(cv, axis=1)))"
   ]
  },
  {
   "cell_type": "code",
   "execution_count": null,
   "id": "5ca1d7cc",
   "metadata": {},
   "outputs": [],
   "source": [
    "def sort_dict(model, pred_dict, pred_test_dict):\n",
    "    pred_dict_local = {}\n",
    "    for key, value in pred_dict.items():\n",
    "        if model in key:\n",
    "            pred_dict_local[key]=value\n",
    "\n",
    "    pred_test_dict_local = {}\n",
    "    for key, value in pred_test_dict.items():\n",
    "        if model in key:\n",
    "            pred_test_dict_local[key]=value\n",
    "\n",
    "    pred_dict_new_local = dict(sorted(\n",
    "        pred_dict_local.items(), \n",
    "        key=lambda x:accuracy_score((train_y), np.argmax(list(x[1]), axis=1)), reverse=False)[:5])\n",
    "    pred_test_dict_new_local = {}\n",
    "    for key, value in pred_dict_new_local.items():\n",
    "        pred_test_dict_new_local[key]=pred_test_dict_local[key]\n",
    "        \n",
    "    return pred_dict_new_local, pred_test_dict_new_local"
   ]
  },
  {
   "cell_type": "code",
   "execution_count": null,
   "id": "7172b061",
   "metadata": {},
   "outputs": [],
   "source": [
    "def save_dict(model, pred_dict, pred_test_dict):\n",
    "    with open('../pickle/pred_dict_'+model+'.pickle', 'wb') as fw:\n",
    "        pickle.dump(pred_dict, fw)\n",
    "    with open('../pickle/pred_test_dict_'+model+'.pickle', 'wb') as fw:\n",
    "        pickle.dump(pred_test_dict, fw)"
   ]
  },
  {
   "cell_type": "code",
   "execution_count": null,
   "id": "b4a5efd3",
   "metadata": {},
   "outputs": [],
   "source": [
    "pred_dict_bert, pred_test_dict_bert = sort_dict('bert', pred_dict, pred_test_dict)\n",
    "save_dict('bert_epoch5_cv15', pred_dict_bert, pred_test_dict_bert)"
   ]
  },
  {
   "cell_type": "code",
   "execution_count": null,
   "id": "0dbccbf8",
   "metadata": {},
   "outputs": [],
   "source": [
    "pred_dict_mlp, pred_test_dict_mlp = sort_dict('mlp', pred_dict, pred_test_dict)\n",
    "save_dict('mlp_epoch3_layer250_cv15', pred_dict_mlp, pred_test_dict_mlp)"
   ]
  },
  {
   "cell_type": "code",
   "execution_count": null,
   "id": "c9b7a9d1",
   "metadata": {},
   "outputs": [],
   "source": [
    "pred = np.zeros((rows_train, num_classes))\n",
    "for _, value in pred_dict_mlp.items():\n",
    "    pred += value\n",
    "pred /= len(pred_dict_mlp)"
   ]
  },
  {
   "cell_type": "code",
   "execution_count": null,
   "id": "b07f5e07",
   "metadata": {},
   "outputs": [],
   "source": [
    "pred2 = np.zeros((rows_train, num_classes))\n",
    "for _, value in pred_dict_bert.items():\n",
    "    pred2 += value\n",
    "pred2 /= len(pred_dict_bert)"
   ]
  },
  {
   "cell_type": "code",
   "execution_count": null,
   "id": "2586e71a",
   "metadata": {},
   "outputs": [],
   "source": [
    "pred_test = np.zeros((rows_test, num_classes))\n",
    "for _, value in pred_test_dict_mlp.items():\n",
    "    pred_test += value\n",
    "pred_test /= len(pred_test_dict_mlp)"
   ]
  },
  {
   "cell_type": "code",
   "execution_count": null,
   "id": "44feb871",
   "metadata": {},
   "outputs": [],
   "source": [
    "pred_test2 = np.zeros((rows_test, num_classes))\n",
    "for _, value in pred_test_dict_bert.items():\n",
    "    pred_test2 += value\n",
    "pred_test2 /= len(pred_test_dict_bert)"
   ]
  },
  {
   "cell_type": "code",
   "execution_count": null,
   "id": "5932b37c",
   "metadata": {},
   "outputs": [],
   "source": [
    "print(f'accuracy_score: {accuracy_score(train_y, np.argmax(pred*0.86+pred2*0.14, axis=1)):.6f}')"
   ]
  },
  {
   "cell_type": "code",
   "execution_count": null,
   "id": "daf419c8",
   "metadata": {},
   "outputs": [],
   "source": [
    "pred_test = np.argmax(pred_test*0.86+pred_test2*0.14, axis=1)"
   ]
  },
  {
   "cell_type": "code",
   "execution_count": null,
   "id": "1abd55c4",
   "metadata": {},
   "outputs": [],
   "source": [
    "submission[\"target\"] = pred_test"
   ]
  },
  {
   "cell_type": "code",
   "execution_count": null,
   "id": "1a7ee0a7",
   "metadata": {},
   "outputs": [],
   "source": [
    "submission['target'].value_counts()"
   ]
  },
  {
   "cell_type": "code",
   "execution_count": null,
   "id": "1670641e",
   "metadata": {},
   "outputs": [],
   "source": [
    "submission_name = '20220410'\n",
    "submission_number = '1'\n",
    "submission.to_csv(f'../submission/{submission_name}-{submission_number}.csv', index = False)"
   ]
  },
  {
   "cell_type": "code",
   "execution_count": null,
   "id": "d166dc91",
   "metadata": {},
   "outputs": [],
   "source": [
    "submission"
   ]
  }
 ],
 "metadata": {
  "kernelspec": {
   "display_name": "Python 3 (ipykernel)",
   "language": "python",
   "name": "python3"
  },
  "language_info": {
   "codemirror_mode": {
    "name": "ipython",
    "version": 3
   },
   "file_extension": ".py",
   "mimetype": "text/x-python",
   "name": "python",
   "nbconvert_exporter": "python",
   "pygments_lexer": "ipython3",
   "version": "3.9.7"
  }
 },
 "nbformat": 4,
 "nbformat_minor": 5
}
